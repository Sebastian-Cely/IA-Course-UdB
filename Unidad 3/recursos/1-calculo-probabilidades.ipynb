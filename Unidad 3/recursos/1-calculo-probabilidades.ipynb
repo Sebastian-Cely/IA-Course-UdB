{
 "cells": [
  {
   "cell_type": "markdown",
   "metadata": {},
   "source": [
    "## <span style=\"color:#00bfff\">Cálculo de Probabilidades</span>\n",
    "\n",
    "<span style=\"color:#00bfff\">1.</span> Se lanzan al aire dos monedas y se registra el resultado. Los eventos de interés son: \n",
    "- $A:$ observar al menos una cara. \n",
    "- $B:$ observar al menos una cruz. \n",
    "\n",
    "    Defina la probabilidad de los eventos: $A, B, A \\cap B, A \\cup B$ y $A^C $"
   ]
  },
  {
   "cell_type": "code",
   "execution_count": 1,
   "metadata": {},
   "outputs": [
    {
     "name": "stdout",
     "output_type": "stream",
     "text": [
      "Probabilidad de A: 0.75 o 3/4\n",
      "Probabilidad de B: 0.75 o 3/4\n",
      "Probabilidad de A intersección B: 0.5 o 1/2\n",
      "Probabilidad de A unión B: 1.0 o 1\n",
      "Probabilidad de A complemento: 0.25 o 1/4\n"
     ]
    }
   ],
   "source": [
    "from fractions import Fraction\n",
    "\n",
    "# Definir el espacio muestral para lanzar dos monedas (cara = 1, cruz = 0)\n",
    "espacio_muestral = [(0, 0), (0, 1), (1, 0), (1, 1)]\n",
    "\n",
    "# Definir los eventos A, B, A intersección B, A unión B, y A complemento\n",
    "A = [(x, y) for x, y in espacio_muestral if x == 1 or y == 1]\n",
    "B = [(x, y) for x, y in espacio_muestral if x == 0 or y == 0]\n",
    "A_interseccion_B = [\n",
    "    (x, y) for x, y in espacio_muestral if (x == 1 and y == 0) or (x == 0 and y == 1)\n",
    "]\n",
    "A_union_B = [\n",
    "    (x, y) for x, y in espacio_muestral if x == 1 or y == 1 or (x == 0 and y == 0)\n",
    "]\n",
    "A_complemento = [(x, y) for x, y in espacio_muestral if x == 0 and y == 0]\n",
    "\n",
    "# Calcular las probabilidades de los eventos\n",
    "probabilidad_A = len(A) / len(espacio_muestral)\n",
    "probabilidad_B = len(B) / len(espacio_muestral)\n",
    "probabilidad_A_interseccion_B = len(A_interseccion_B) / len(espacio_muestral)\n",
    "probabilidad_A_union_B = len(A_union_B) / len(espacio_muestral)\n",
    "probabilidad_A_complemento = len(A_complemento) / len(espacio_muestral)\n",
    "\n",
    "# Imprimir las probabilidades\n",
    "print(f\"Probabilidad de A: {probabilidad_A} o {Fraction(probabilidad_A)}\")\n",
    "print(f\"Probabilidad de B: {probabilidad_B} o {Fraction(probabilidad_B)}\")\n",
    "print(f\"Probabilidad de A intersección B: {probabilidad_A_interseccion_B} o {Fraction(probabilidad_A_interseccion_B)}\")\n",
    "print(f\"Probabilidad de A unión B: {probabilidad_A_union_B} o {Fraction(probabilidad_A_union_B)}\")\n",
    "print(f\"Probabilidad de A complemento: {probabilidad_A_complemento} o {Fraction(probabilidad_A_complemento)}\")"
   ]
  },
  {
   "cell_type": "markdown",
   "metadata": {},
   "source": [
    "<span style=\"color:#00bfff\">2.</span> Si lanzamos tres veces una moneda, ¿cuántos puntos muestrales o sucesos elementales tiene el espacio muestral?"
   ]
  },
  {
   "cell_type": "code",
   "execution_count": 2,
   "metadata": {},
   "outputs": [
    {
     "name": "stdout",
     "output_type": "stream",
     "text": [
      "El espacio muestral tiene 8 sucesos elementales.\n"
     ]
    }
   ],
   "source": [
    "# Número de resultados posibles en cada moneda\n",
    "res_coin = 2\n",
    "tosses = 3\n",
    "\n",
    "# Calcular el número total de sucesos elementales en el espacio muestral\n",
    "sucesos_elementales = res_coin ** tosses\n",
    "\n",
    "# Imprimir el resultado\n",
    "print(\"El espacio muestral tiene\", sucesos_elementales, \"sucesos elementales.\")"
   ]
  },
  {
   "cell_type": "markdown",
   "metadata": {},
   "source": [
    "<span style=\"color:#00bfff\">3.</span> Se tiene una moneda y se quiere saber el resultado de un lanzamiento. Consulte acerca de la función randint de la librería numpy para resolver y simular este problema."
   ]
  },
  {
   "cell_type": "code",
   "execution_count": 3,
   "metadata": {},
   "outputs": [
    {
     "name": "stdout",
     "output_type": "stream",
     "text": [
      "Cruz\n"
     ]
    }
   ],
   "source": [
    "import numpy as np\n",
    "\n",
    "# Usar randint para simular un lanzamiento de moneda (1 para cara, 0 para cruz)\n",
    "resultado_lanzamiento = np.random.randint(0, 2)\n",
    "\n",
    "# Determinar el resultado del lanzamiento\n",
    "if resultado_lanzamiento == 1:\n",
    "    print(\"Cara\")\n",
    "else:\n",
    "    print(\"Cruz\")"
   ]
  }
 ],
 "metadata": {
  "kernelspec": {
   "display_name": "Python 3",
   "language": "python",
   "name": "python3"
  },
  "language_info": {
   "codemirror_mode": {
    "name": "ipython",
    "version": 3
   },
   "file_extension": ".py",
   "mimetype": "text/x-python",
   "name": "python",
   "nbconvert_exporter": "python",
   "pygments_lexer": "ipython3",
   "version": "3.13.5"
  },
  "orig_nbformat": 4
 },
 "nbformat": 4,
 "nbformat_minor": 2
}
