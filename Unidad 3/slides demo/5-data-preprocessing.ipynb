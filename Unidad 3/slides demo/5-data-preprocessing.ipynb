{
 "cells": [
  {
   "cell_type": "markdown",
   "metadata": {},
   "source": [
    "# <span style=\"color:#00bfff;\">Prepocesamiento de datos</span>\n",
    "\n",
    "## <span style=\"color:#00bfff;\">1.</span> Limpieza y Tratamiento de datos"
   ]
  },
  {
   "cell_type": "code",
   "execution_count": 1,
   "metadata": {},
   "outputs": [
    {
     "name": "stdout",
     "output_type": "stream",
     "text": [
      "   Edad  Salario    Ciudad\n",
      "0  25.0  50000.0    Madrid\n",
      "3  40.0  65000.0  Valencia\n",
      "Empty DataFrame\n",
      "Columns: []\n",
      "Index: [0, 1, 2, 3, 4]\n"
     ]
    }
   ],
   "source": [
    "import pandas as pd\n",
    "\n",
    "# Crear DataFrame de ejemplo con valores faltantes\n",
    "df = pd.DataFrame({\n",
    "    'Edad': [25, 30, None, 40, None],\n",
    "    'Salario': [50000, None, 60000, 65000, None],\n",
    "    'Ciudad': ['Madrid', 'Barcelona', None, 'Valencia', 'Sevilla']\n",
    "})\n",
    "\n",
    "# Eliminar filas con valores faltantes\n",
    "df_sin_filas_nulas = df.dropna()\n",
    "\n",
    "# Eliminar columnas con valores faltantes\n",
    "df_sin_columnas_nulas = df.dropna(axis=1) \n",
    "\n",
    "print(df_sin_filas_nulas)\n",
    "print(df_sin_columnas_nulas)"
   ]
  },
  {
   "cell_type": "markdown",
   "metadata": {},
   "source": [
    "### **Imputación**"
   ]
  },
  {
   "cell_type": "code",
   "execution_count": 2,
   "metadata": {},
   "outputs": [
    {
     "data": {
      "text/html": [
       "<div>\n",
       "<style scoped>\n",
       "    .dataframe tbody tr th:only-of-type {\n",
       "        vertical-align: middle;\n",
       "    }\n",
       "\n",
       "    .dataframe tbody tr th {\n",
       "        vertical-align: top;\n",
       "    }\n",
       "\n",
       "    .dataframe thead th {\n",
       "        text-align: right;\n",
       "    }\n",
       "</style>\n",
       "<table border=\"1\" class=\"dataframe\">\n",
       "  <thead>\n",
       "    <tr style=\"text-align: right;\">\n",
       "      <th></th>\n",
       "      <th>Edad</th>\n",
       "      <th>Salario</th>\n",
       "      <th>Ciudad</th>\n",
       "    </tr>\n",
       "  </thead>\n",
       "  <tbody>\n",
       "    <tr>\n",
       "      <th>0</th>\n",
       "      <td>25.000000</td>\n",
       "      <td>50000.000000</td>\n",
       "      <td>Madrid</td>\n",
       "    </tr>\n",
       "    <tr>\n",
       "      <th>1</th>\n",
       "      <td>30.000000</td>\n",
       "      <td>58333.333333</td>\n",
       "      <td>Barcelona</td>\n",
       "    </tr>\n",
       "    <tr>\n",
       "      <th>2</th>\n",
       "      <td>31.666667</td>\n",
       "      <td>60000.000000</td>\n",
       "      <td>Madrid</td>\n",
       "    </tr>\n",
       "    <tr>\n",
       "      <th>3</th>\n",
       "      <td>40.000000</td>\n",
       "      <td>65000.000000</td>\n",
       "      <td>Valencia</td>\n",
       "    </tr>\n",
       "    <tr>\n",
       "      <th>4</th>\n",
       "      <td>31.666667</td>\n",
       "      <td>58333.333333</td>\n",
       "      <td>Madrid</td>\n",
       "    </tr>\n",
       "  </tbody>\n",
       "</table>\n",
       "</div>"
      ],
      "text/plain": [
       "        Edad       Salario     Ciudad\n",
       "0  25.000000  50000.000000     Madrid\n",
       "1  30.000000  58333.333333  Barcelona\n",
       "2  31.666667  60000.000000     Madrid\n",
       "3  40.000000  65000.000000   Valencia\n",
       "4  31.666667  58333.333333     Madrid"
      ]
     },
     "execution_count": 2,
     "metadata": {},
     "output_type": "execute_result"
    }
   ],
   "source": [
    "import pandas as pd\n",
    "import numpy as np\n",
    "from sklearn.impute import SimpleImputer\n",
    "\n",
    "# Crear DataFrame de ejemplo con valores faltantes\n",
    "df = pd.DataFrame({\n",
    "    'Edad': [25, 30, None, 40, None],\n",
    "    'Salario': [50000, None, 60000, 65000, None],\n",
    "    'Ciudad': ['Madrid', 'Barcelona', None, 'Valencia', 'Madrid']\n",
    "})\n",
    "\n",
    "# Imputación con la media para datos numéricos\n",
    "imputer_media = SimpleImputer(strategy='mean')\n",
    "df[['Edad', 'Salario']] = imputer_media.fit_transform(df[['Edad', 'Salario']])\n",
    "\n",
    "# Reemplazar None por np.nan en la columna categórica\n",
    "df['Ciudad'] = df['Ciudad'].replace({None: np.nan})\n",
    "\n",
    "# Imputación con la moda para datos categóricos\n",
    "imputer_moda = SimpleImputer(strategy='most_frequent')\n",
    "df[['Ciudad']] = imputer_moda.fit_transform(df[['Ciudad']])\n",
    "\n",
    "df"
   ]
  },
  {
   "cell_type": "markdown",
   "metadata": {},
   "source": [
    "## <span style=\"color:#00bfff;\">Detección y tratamiento de Outliers</span>\n",
    "\n",
    "### **Método estadístico: Z-score**"
   ]
  },
  {
   "cell_type": "code",
   "execution_count": 3,
   "metadata": {},
   "outputs": [
    {
     "name": "stdout",
     "output_type": "stream",
     "text": [
      "DataFrame completo:\n",
      "          Valor   Z_score\n",
      "0    52.483571  0.368618\n",
      "1    49.308678 -0.101188\n",
      "2    53.238443  0.480321\n",
      "3    57.615149  1.127966\n",
      "4    48.829233 -0.172135\n",
      "..         ...       ...\n",
      "95   42.682425 -1.081712\n",
      "96   51.480601  0.220203\n",
      "97   51.305276  0.194259\n",
      "98   50.025567  0.004894\n",
      "99  100.000000  7.399888\n",
      "\n",
      "[100 rows x 2 columns]\n",
      "\n",
      "Outliers detectados:\n",
      "     Valor   Z_score\n",
      "99  100.0  7.399888\n"
     ]
    }
   ],
   "source": [
    "import numpy as np\n",
    "import pandas as pd\n",
    "from scipy.stats import zscore\n",
    "\n",
    "# Fijar semilla para reproducibilidad\n",
    "np.random.seed(42)\n",
    "\n",
    "# Crear 99 valores con distribución normal (media 50, std 5)\n",
    "normal_values = np.random.normal(50, 5, 99)\n",
    "\n",
    "# Añadir un outlier extremo (por ejemplo, 100)\n",
    "valores = np.append(normal_values, 100)\n",
    "\n",
    "# Crear DataFrame\n",
    "df = pd.DataFrame({'Valor': valores})\n",
    "\n",
    "# Calcular el Z-score\n",
    "df['Z_score'] = zscore(df['Valor'])\n",
    "\n",
    "# Identificar outliers con umbral de 3 (|Z| > 3)\n",
    "outliers = df[np.abs(df['Z_score']) > 3]\n",
    "\n",
    "print(\"DataFrame completo:\\n\", df)\n",
    "print(\"\\nOutliers detectados:\\n\", outliers)"
   ]
  },
  {
   "cell_type": "markdown",
   "metadata": {},
   "source": [
    "### **Método gráfico: Boxplot**"
   ]
  },
  {
   "cell_type": "code",
   "execution_count": 4,
   "metadata": {},
   "outputs": [
    {
     "data": {
      "image/png": "[encoded data removed]",
      "text/plain": [
       "<Figure size 500x400 with 1 Axes>"
      ]
     },
     "metadata": {},
     "output_type": "display_data"
    }
   ],
   "source": [
    "import matplotlib.pyplot as plt\n",
    "import seaborn as sns\n",
    "\n",
    "# Visualización de outliers con Boxplot\n",
    "plt.figure(figsize=(5,4))\n",
    "sns.boxplot(data=df['Valor'])\n",
    "plt.title(\"Detección de Outliers con Boxplot\")\n",
    "plt.show()"
   ]
  },
  {
   "cell_type": "markdown",
   "metadata": {},
   "source": [
    "### **Tratamiento de Outliers**\n",
    "   \n",
    "Eliminación de outliers"
   ]
  },
  {
   "cell_type": "code",
   "execution_count": 5,
   "metadata": {},
   "outputs": [
    {
     "name": "stdout",
     "output_type": "stream",
     "text": [
      "        Valor   Z_score\n",
      "0   52.483571  0.368618\n",
      "1   49.308678 -0.101188\n",
      "2   53.238443  0.480321\n",
      "3   57.615149  1.127966\n",
      "4   48.829233 -0.172135\n",
      "..        ...       ...\n",
      "94  48.039459 -0.289002\n",
      "95  42.682425 -1.081712\n",
      "96  51.480601  0.220203\n",
      "97  51.305276  0.194259\n",
      "98  50.025567  0.004894\n",
      "\n",
      "[98 rows x 2 columns]\n"
     ]
    }
   ],
   "source": [
    "# Filtrar valores dentro del rango aceptable usando IQR\n",
    "Q1, Q3 = np.percentile(df['Valor'], [25, 75])\n",
    "IQR = Q3 - Q1\n",
    "limite_inferior = Q1 - 1.5 * IQR\n",
    "limite_superior = Q3 + 1.5 * IQR\n",
    "\n",
    "df_sin_outliers = df[(df['Valor'] >= limite_inferior) & (df['Valor'] <= limite_superior)]\n",
    "print(df_sin_outliers)"
   ]
  },
  {
   "cell_type": "markdown",
   "metadata": {},
   "source": [
    "### **Transformación de datos** \n",
    "\n",
    "1. Escalado Logarítmico: "
   ]
  },
  {
   "cell_type": "code",
   "execution_count": 6,
   "metadata": {},
   "outputs": [
    {
     "data": {
      "text/html": [
       "<div>\n",
       "<style scoped>\n",
       "    .dataframe tbody tr th:only-of-type {\n",
       "        vertical-align: middle;\n",
       "    }\n",
       "\n",
       "    .dataframe tbody tr th {\n",
       "        vertical-align: top;\n",
       "    }\n",
       "\n",
       "    .dataframe thead th {\n",
       "        text-align: right;\n",
       "    }\n",
       "</style>\n",
       "<table border=\"1\" class=\"dataframe\">\n",
       "  <thead>\n",
       "    <tr style=\"text-align: right;\">\n",
       "      <th></th>\n",
       "      <th>Valor</th>\n",
       "      <th>Z_score</th>\n",
       "      <th>Valor_transformado</th>\n",
       "    </tr>\n",
       "  </thead>\n",
       "  <tbody>\n",
       "    <tr>\n",
       "      <th>0</th>\n",
       "      <td>52.483571</td>\n",
       "      <td>0.368618</td>\n",
       "      <td>3.979375</td>\n",
       "    </tr>\n",
       "    <tr>\n",
       "      <th>1</th>\n",
       "      <td>49.308678</td>\n",
       "      <td>-0.101188</td>\n",
       "      <td>3.918178</td>\n",
       "    </tr>\n",
       "    <tr>\n",
       "      <th>2</th>\n",
       "      <td>53.238443</td>\n",
       "      <td>0.480321</td>\n",
       "      <td>3.993390</td>\n",
       "    </tr>\n",
       "    <tr>\n",
       "      <th>3</th>\n",
       "      <td>57.615149</td>\n",
       "      <td>1.127966</td>\n",
       "      <td>4.070993</td>\n",
       "    </tr>\n",
       "    <tr>\n",
       "      <th>4</th>\n",
       "      <td>48.829233</td>\n",
       "      <td>-0.172135</td>\n",
       "      <td>3.908602</td>\n",
       "    </tr>\n",
       "    <tr>\n",
       "      <th>...</th>\n",
       "      <td>...</td>\n",
       "      <td>...</td>\n",
       "      <td>...</td>\n",
       "    </tr>\n",
       "    <tr>\n",
       "      <th>95</th>\n",
       "      <td>42.682425</td>\n",
       "      <td>-1.081712</td>\n",
       "      <td>3.776946</td>\n",
       "    </tr>\n",
       "    <tr>\n",
       "      <th>96</th>\n",
       "      <td>51.480601</td>\n",
       "      <td>0.220203</td>\n",
       "      <td>3.960444</td>\n",
       "    </tr>\n",
       "    <tr>\n",
       "      <th>97</th>\n",
       "      <td>51.305276</td>\n",
       "      <td>0.194259</td>\n",
       "      <td>3.957097</td>\n",
       "    </tr>\n",
       "    <tr>\n",
       "      <th>98</th>\n",
       "      <td>50.025567</td>\n",
       "      <td>0.004894</td>\n",
       "      <td>3.932327</td>\n",
       "    </tr>\n",
       "    <tr>\n",
       "      <th>99</th>\n",
       "      <td>100.000000</td>\n",
       "      <td>7.399888</td>\n",
       "      <td>4.615121</td>\n",
       "    </tr>\n",
       "  </tbody>\n",
       "</table>\n",
       "<p>100 rows × 3 columns</p>\n",
       "</div>"
      ],
      "text/plain": [
       "         Valor   Z_score  Valor_transformado\n",
       "0    52.483571  0.368618            3.979375\n",
       "1    49.308678 -0.101188            3.918178\n",
       "2    53.238443  0.480321            3.993390\n",
       "3    57.615149  1.127966            4.070993\n",
       "4    48.829233 -0.172135            3.908602\n",
       "..         ...       ...                 ...\n",
       "95   42.682425 -1.081712            3.776946\n",
       "96   51.480601  0.220203            3.960444\n",
       "97   51.305276  0.194259            3.957097\n",
       "98   50.025567  0.004894            3.932327\n",
       "99  100.000000  7.399888            4.615121\n",
       "\n",
       "[100 rows x 3 columns]"
      ]
     },
     "execution_count": 6,
     "metadata": {},
     "output_type": "execute_result"
    }
   ],
   "source": [
    "df['Valor_transformado'] = np.log(df['Valor'] + 1)\n",
    "df  "
   ]
  },
  {
   "cell_type": "markdown",
   "metadata": {},
   "source": [
    "2. Winsorización"
   ]
  },
  {
   "cell_type": "code",
   "execution_count": 7,
   "metadata": {},
   "outputs": [
    {
     "data": {
      "text/html": [
       "<div>\n",
       "<style scoped>\n",
       "    .dataframe tbody tr th:only-of-type {\n",
       "        vertical-align: middle;\n",
       "    }\n",
       "\n",
       "    .dataframe tbody tr th {\n",
       "        vertical-align: top;\n",
       "    }\n",
       "\n",
       "    .dataframe thead th {\n",
       "        text-align: right;\n",
       "    }\n",
       "</style>\n",
       "<table border=\"1\" class=\"dataframe\">\n",
       "  <thead>\n",
       "    <tr style=\"text-align: right;\">\n",
       "      <th></th>\n",
       "      <th>Valor</th>\n",
       "      <th>Z_score</th>\n",
       "      <th>Valor_transformado</th>\n",
       "      <th>Valor_winsorizado</th>\n",
       "    </tr>\n",
       "  </thead>\n",
       "  <tbody>\n",
       "    <tr>\n",
       "      <th>0</th>\n",
       "      <td>52.483571</td>\n",
       "      <td>0.368618</td>\n",
       "      <td>3.979375</td>\n",
       "      <td>52.483571</td>\n",
       "    </tr>\n",
       "    <tr>\n",
       "      <th>1</th>\n",
       "      <td>49.308678</td>\n",
       "      <td>-0.101188</td>\n",
       "      <td>3.918178</td>\n",
       "      <td>49.308678</td>\n",
       "    </tr>\n",
       "    <tr>\n",
       "      <th>2</th>\n",
       "      <td>53.238443</td>\n",
       "      <td>0.480321</td>\n",
       "      <td>3.993390</td>\n",
       "      <td>53.238443</td>\n",
       "    </tr>\n",
       "    <tr>\n",
       "      <th>3</th>\n",
       "      <td>57.615149</td>\n",
       "      <td>1.127966</td>\n",
       "      <td>4.070993</td>\n",
       "      <td>57.615149</td>\n",
       "    </tr>\n",
       "    <tr>\n",
       "      <th>4</th>\n",
       "      <td>48.829233</td>\n",
       "      <td>-0.172135</td>\n",
       "      <td>3.908602</td>\n",
       "      <td>48.829233</td>\n",
       "    </tr>\n",
       "    <tr>\n",
       "      <th>...</th>\n",
       "      <td>...</td>\n",
       "      <td>...</td>\n",
       "      <td>...</td>\n",
       "      <td>...</td>\n",
       "    </tr>\n",
       "    <tr>\n",
       "      <th>95</th>\n",
       "      <td>42.682425</td>\n",
       "      <td>-1.081712</td>\n",
       "      <td>3.776946</td>\n",
       "      <td>42.682425</td>\n",
       "    </tr>\n",
       "    <tr>\n",
       "      <th>96</th>\n",
       "      <td>51.480601</td>\n",
       "      <td>0.220203</td>\n",
       "      <td>3.960444</td>\n",
       "      <td>51.480601</td>\n",
       "    </tr>\n",
       "    <tr>\n",
       "      <th>97</th>\n",
       "      <td>51.305276</td>\n",
       "      <td>0.194259</td>\n",
       "      <td>3.957097</td>\n",
       "      <td>51.305276</td>\n",
       "    </tr>\n",
       "    <tr>\n",
       "      <th>98</th>\n",
       "      <td>50.025567</td>\n",
       "      <td>0.004894</td>\n",
       "      <td>3.932327</td>\n",
       "      <td>50.025567</td>\n",
       "    </tr>\n",
       "    <tr>\n",
       "      <th>99</th>\n",
       "      <td>100.000000</td>\n",
       "      <td>7.399888</td>\n",
       "      <td>4.615121</td>\n",
       "      <td>57.615149</td>\n",
       "    </tr>\n",
       "  </tbody>\n",
       "</table>\n",
       "<p>100 rows × 4 columns</p>\n",
       "</div>"
      ],
      "text/plain": [
       "         Valor   Z_score  Valor_transformado  Valor_winsorizado\n",
       "0    52.483571  0.368618            3.979375          52.483571\n",
       "1    49.308678 -0.101188            3.918178          49.308678\n",
       "2    53.238443  0.480321            3.993390          53.238443\n",
       "3    57.615149  1.127966            4.070993          57.615149\n",
       "4    48.829233 -0.172135            3.908602          48.829233\n",
       "..         ...       ...                 ...                ...\n",
       "95   42.682425 -1.081712            3.776946          42.682425\n",
       "96   51.480601  0.220203            3.960444          51.480601\n",
       "97   51.305276  0.194259            3.957097          51.305276\n",
       "98   50.025567  0.004894            3.932327          50.025567\n",
       "99  100.000000  7.399888            4.615121          57.615149\n",
       "\n",
       "[100 rows x 4 columns]"
      ]
     },
     "execution_count": 7,
     "metadata": {},
     "output_type": "execute_result"
    }
   ],
   "source": [
    "from scipy.stats.mstats import winsorize\n",
    "df['Valor_winsorizado'] = winsorize(df['Valor'], limits=[0.05, 0.05]) \n",
    "df"
   ]
  },
  {
   "cell_type": "markdown",
   "metadata": {},
   "source": [
    "## <span style=\"color:#00bfff;\">Escalado y normalización</span>\n",
    "\n",
    "1. Normalización (Min-Max Scaling)"
   ]
  },
  {
   "cell_type": "code",
   "execution_count": 8,
   "metadata": {},
   "outputs": [
    {
     "name": "stdout",
     "output_type": "stream",
     "text": [
      "Datos normalizados:\n",
      "    Altura  Peso\n",
      "0    0.00   0.0\n",
      "1    0.25   0.3\n",
      "2    0.50   0.6\n",
      "3    0.75   0.8\n",
      "4    1.00   1.0\n"
     ]
    }
   ],
   "source": [
    "from sklearn.preprocessing import MinMaxScaler\n",
    "\n",
    "# Crear DataFrame de ejemplo\n",
    "df = pd.DataFrame({\"Altura\": [150, 160, 170, 180, 190], \"Peso\": [50, 65, 80, 90, 100]})\n",
    "\n",
    "# Aplicar Normalización (Min-Max Scaling)\n",
    "scaler = MinMaxScaler()\n",
    "df_normalizado = pd.DataFrame(scaler.fit_transform(df), columns=df.columns)\n",
    "\n",
    "print(\"Datos normalizados:\\n\", df_normalizado) "
   ]
  },
  {
   "cell_type": "markdown",
   "metadata": {},
   "source": [
    "2. Estandarización (Z-score Scaling)"
   ]
  },
  {
   "cell_type": "code",
   "execution_count": 9,
   "metadata": {},
   "outputs": [
    {
     "name": "stdout",
     "output_type": "stream",
     "text": [
      "Datos estandarizados:\n",
      "       Altura      Peso\n",
      "0  -0.282348 -1.097942\n",
      "1  -1.535817  0.286554\n",
      "2  -0.479859  0.473825\n",
      "3  -0.397131  0.955633\n",
      "4  -0.884983  0.928650\n",
      "..       ...       ...\n",
      "95  0.150521  0.285842\n",
      "96  0.375716 -0.682747\n",
      "97 -0.971585  0.786393\n",
      "98  0.129867  0.239977\n",
      "99  0.028471  0.706375\n",
      "\n",
      "[100 rows x 2 columns]\n",
      "\n",
      "MEDIA: \n",
      "Altura    0.0\n",
      "Peso      0.0\n",
      "dtype: float64\n",
      "\n",
      "DESVIACIÓN ESTÁNDAR: \n",
      "Altura    1.01\n",
      "Peso      1.01\n",
      "dtype: float64\n"
     ]
    }
   ],
   "source": [
    "from sklearn.preprocessing import StandardScaler\n",
    "\n",
    "df = pd.DataFrame({\n",
    "    \"Altura\": np.random.normal(loc=250, scale=1, size=100),\n",
    "    \"Peso\": np.random.normal(loc=250, scale=1, size=100)\n",
    "})\n",
    "\n",
    "# Aplicar Estandarización (Z-score)\n",
    "scaler_std = StandardScaler()\n",
    "df_estandarizado = pd.DataFrame(scaler_std.fit_transform(df), columns=df.columns)\n",
    "\n",
    "print(\"Datos estandarizados:\\n\", df_estandarizado)\n",
    "print(f\"\\nMEDIA: \\n{round(df_estandarizado.mean(), 2)}\\n\")\n",
    "print(f\"DESVIACIÓN ESTÁNDAR: \\n{round(df_estandarizado.std(), 2)}\")"
   ]
  },
  {
   "cell_type": "markdown",
   "metadata": {},
   "source": [
    "## <span style=\"color:#00bfff;\">Codificación de Variables Categóricas</span>\n",
    "\n",
    "1. Label Encoding"
   ]
  },
  {
   "cell_type": "code",
   "execution_count": 10,
   "metadata": {},
   "outputs": [
    {
     "name": "stdout",
     "output_type": "stream",
     "text": [
      "   Color  Color_codificado\n",
      "0   Rojo                 1\n",
      "1   Azul                 0\n",
      "2  Verde                 2\n",
      "3   Azul                 0\n",
      "4   Rojo                 1\n"
     ]
    }
   ],
   "source": [
    "import pandas as pd\n",
    "from sklearn.preprocessing import LabelEncoder\n",
    "\n",
    "# Crear DataFrame de ejemplo\n",
    "df = pd.DataFrame({'Color': ['Rojo', 'Azul', 'Verde', 'Azul', 'Rojo']})\n",
    "\n",
    "# Aplicar Label Encoding\n",
    "encoder = LabelEncoder()\n",
    "df['Color_codificado'] = encoder.fit_transform(df['Color'])\n",
    "\n",
    "print(df)"
   ]
  },
  {
   "cell_type": "markdown",
   "metadata": {},
   "source": [
    "2. One-Hot Encoding\n",
    "   "
   ]
  },
  {
   "cell_type": "code",
   "execution_count": 11,
   "metadata": {},
   "outputs": [
    {
     "name": "stdout",
     "output_type": "stream",
     "text": [
      "   Color  Color_Azul  Color_Rojo  Color_Verde\n",
      "0   Rojo         0.0         1.0          0.0\n",
      "1   Azul         1.0         0.0          0.0\n",
      "2  Verde         0.0         0.0          1.0\n",
      "3   Azul         1.0         0.0          0.0\n",
      "4   Rojo         0.0         1.0          0.0\n"
     ]
    }
   ],
   "source": [
    "from sklearn.preprocessing import OneHotEncoder\n",
    "\n",
    "# Aplicar One-Hot Encoding\n",
    "encoder = OneHotEncoder(sparse_output=False)\n",
    "encoded = encoder.fit_transform(df[['Color']])\n",
    "\n",
    "# Convertir a DataFrame con nombres de columnas\n",
    "df_encoded = pd.DataFrame(encoded, columns=encoder.get_feature_names_out(['Color']))\n",
    "\n",
    "# Eliminar la columna de la codificación anterior\n",
    "df = df.drop(labels=\"Color_codificado\", axis=1)\n",
    "\n",
    "# Concatenar con el DataFrame original\n",
    "df_final = pd.concat([df, df_encoded], axis=1)\n",
    "\n",
    "print(df_final) "
   ]
  },
  {
   "cell_type": "markdown",
   "metadata": {},
   "source": [
    "## <span style=\"color:#00bfff;\">Reducción de dimensionalidad</span>\n",
    "\n",
    "Análisis de Componentes Principales (PCA)"
   ]
  },
  {
   "cell_type": "code",
   "execution_count": 12,
   "metadata": {},
   "outputs": [
    {
     "data": {
      "image/png": "[encoded data removed]",
      "text/plain": [
       "<Figure size 800x500 with 2 Axes>"
      ]
     },
     "metadata": {},
     "output_type": "display_data"
    }
   ],
   "source": [
    "import numpy as np\n",
    "import pandas as pd\n",
    "import matplotlib.pyplot as plt\n",
    "from sklearn.decomposition import PCA\n",
    "from sklearn.preprocessing import StandardScaler\n",
    "from sklearn.datasets import load_iris\n",
    "\n",
    "# Cargar dataset de Iris\n",
    "iris = load_iris()\n",
    "X = iris.data  # Características\n",
    "y = iris.target  # Clases\n",
    "\n",
    "# Estandarizar los datos antes de aplicar PCA\n",
    "scaler = StandardScaler()\n",
    "X_scaled = scaler.fit_transform(X)\n",
    "\n",
    "# Aplicar PCA para reducir a 2 componentes principales\n",
    "pca = PCA(n_components=2)\n",
    "X_pca = pca.fit_transform(X_scaled)\n",
    "\n",
    "# Convertir a DataFrame\n",
    "df_pca = pd.DataFrame(X_pca, columns=['Componente 1', 'Componente 2'])\n",
    "df_pca['Clase'] = y\n",
    "\n",
    "# Visualizar los datos reducidos a 2D\n",
    "plt.figure(figsize=(8,5))\n",
    "plt.scatter(df_pca['Componente 1'], df_pca['Componente 2'], c=df_pca['Clase'], cmap='viridis', alpha=0.7)\n",
    "plt.xlabel('Componente Principal 1')\n",
    "plt.ylabel('Componente Principal 2')\n",
    "plt.title('PCA en el Dataset de Iris')\n",
    "plt.colorbar(label='Clase')\n",
    "plt.show()"
   ]
  },
  {
   "cell_type": "code",
   "execution_count": 13,
   "metadata": {},
   "outputs": [
    {
     "data": {
      "image/png": "[encoded data removed]",
      "text/plain": [
       "<Figure size 600x400 with 1 Axes>"
      ]
     },
     "metadata": {},
     "output_type": "display_data"
    }
   ],
   "source": [
    "# Analizar la varianza explicada por cada componente\n",
    "pca_full = PCA().fit(X_scaled)\n",
    "\n",
    "# Gráfico de varianza explicada\n",
    "plt.figure(figsize=(6,4))\n",
    "plt.plot(np.cumsum(pca_full.explained_variance_ratio_), marker='o')\n",
    "plt.xlabel('Número de Componentes')\n",
    "plt.ylabel('Varianza Acumulada')\n",
    "plt.title('Elección del Número de Componentes en PCA')\n",
    "plt.grid()\n",
    "plt.show()"
   ]
  },
  {
   "cell_type": "markdown",
   "metadata": {},
   "source": [
    "## <span style=\"color:#00bfff;\">Preparación del Dataset</span>\n",
    "\n",
    "### División del conjunto de datos en entrenamiento y prueba (_train and test_)\n",
    "\n",
    "1. División Simple (Holdout)"
   ]
  },
  {
   "cell_type": "code",
   "execution_count": 14,
   "metadata": {},
   "outputs": [
    {
     "name": "stdout",
     "output_type": "stream",
     "text": [
      "Tamaño del conjunto de entrenamiento: (120, 4)\n",
      "Tamaño del conjunto de prueba: (30, 4)\n"
     ]
    }
   ],
   "source": [
    "import pandas as pd\n",
    "from sklearn.model_selection import train_test_split\n",
    "from sklearn.datasets import load_iris\n",
    "\n",
    "# Cargar el dataset de Iris\n",
    "iris = load_iris()\n",
    "X = iris.data  # Características\n",
    "y = iris.target  # Etiquetas\n",
    "\n",
    "# División de datos: 80% entrenamiento, 20% prueba\n",
    "X_train, X_test, y_train, y_test = train_test_split(X, y, test_size=0.2, random_state=42)\n",
    "\n",
    "print(\"Tamaño del conjunto de entrenamiento:\", X_train.shape)\n",
    "print(\"Tamaño del conjunto de prueba:\", X_test.shape) "
   ]
  },
  {
   "cell_type": "markdown",
   "metadata": {},
   "source": [
    "2. Validación Cruzada (Cross-validation)"
   ]
  },
  {
   "cell_type": "code",
   "execution_count": 23,
   "metadata": {},
   "outputs": [
    {
     "name": "stdout",
     "output_type": "stream",
     "text": [
      "Precisión media del modelo:0.96\n"
     ]
    }
   ],
   "source": [
    "from sklearn.model_selection import cross_val_score\n",
    "from sklearn.ensemble import RandomForestClassifier\n",
    "\n",
    "# Modelo a evaluar\n",
    "modelo = RandomForestClassifier()\n",
    "\n",
    "# Aplicar validación cruzada con 5 folds\n",
    "scores = cross_val_score(modelo, X, y, cv=5)\n",
    "\n",
    "print(f\"Precisión media del modelo:{scores.mean():.2f}\") "
   ]
  },
  {
   "cell_type": "markdown",
   "metadata": {},
   "source": [
    "3. División en Entrenamiento, Validación y Prueba (Train / Validation / Test)"
   ]
  },
  {
   "cell_type": "code",
   "execution_count": 24,
   "metadata": {},
   "outputs": [
    {
     "name": "stdout",
     "output_type": "stream",
     "text": [
      "Entrenamiento: (90, 4)\n",
      "Validación: (30, 4)\n",
      "Prueba: (30, 4)\n"
     ]
    }
   ],
   "source": [
    "from sklearn.model_selection import train_test_split\n",
    "from sklearn.datasets import load_iris\n",
    "\n",
    "# Cargar datos\n",
    "iris = load_iris()\n",
    "X, y = iris.data, iris.target\n",
    "\n",
    "# 1. Separar conjunto de prueba\n",
    "X_temp, X_test, y_temp, y_test = train_test_split(X, y, test_size=0.2, random_state=42)\n",
    "\n",
    "# 2. Separar conjunto de entrenamiento y validación a partir del conjunto restante\n",
    "X_train, X_val, y_train, y_val = train_test_split(X_temp, y_temp, test_size=0.25, random_state=42)\n",
    "# Nota: 0.25 de 80% original = 20% total → 60% train, 20% val, 20% test\n",
    "\n",
    "print(\"Entrenamiento:\", X_train.shape)\n",
    "print(\"Validación:\", X_val.shape)\n",
    "print(\"Prueba:\", X_test.shape)"
   ]
  }
 ],
 "metadata": {
  "kernelspec": {
   "display_name": "slides",
   "language": "python",
   "name": "python3"
  },
  "language_info": {
   "codemirror_mode": {
    "name": "ipython",
    "version": 3
   },
   "file_extension": ".py",
   "mimetype": "text/x-python",
   "name": "python",
   "nbconvert_exporter": "python",
   "pygments_lexer": "ipython3",
   "version": "3.10.18"
  }
 },
 "nbformat": 4,
 "nbformat_minor": 2
}
