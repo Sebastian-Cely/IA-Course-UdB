{
 "cells": [
  {
   "cell_type": "markdown",
   "metadata": {},
   "source": [
    "# <span style=\"color:#00bfff\">Álgebra Lineal con Python</span>"
   ]
  },
  {
   "cell_type": "markdown",
   "metadata": {},
   "source": [
    "## <span style=\"color:#00bfff;\">1.</span> Suma y resta de matrices"
   ]
  },
  {
   "cell_type": "code",
   "execution_count": 1,
   "metadata": {},
   "outputs": [
    {
     "name": "stdout",
     "output_type": "stream",
     "text": [
      "Suma de matrices (A + B):\n",
      "[[7 5]\n",
      " [3 9]]\n",
      "\n",
      "Resta de matrices (A - B):\n",
      "[[-3  3]\n",
      " [-1 -3]]\n"
     ]
    }
   ],
   "source": [
    "import numpy as np\n",
    "\n",
    "# Definir matrices A y B\n",
    "A = np.array([[2, 4], [1, 3]])\n",
    "B = np.array([[5, 1], [2, 6]])\n",
    "\n",
    "# Suma de matrices\n",
    "suma = A + B\n",
    "print(f\"Suma de matrices (A + B):\\n{suma}\")\n",
    "\n",
    "# Resta de matrices\n",
    "resta = A - B\n",
    "print(f\"\\nResta de matrices (A - B):\\n{resta}\")"
   ]
  },
  {
   "cell_type": "markdown",
   "metadata": {},
   "source": [
    "## <span style=\"color:#00bfff;\">2.</span> Producto punto"
   ]
  },
  {
   "cell_type": "code",
   "execution_count": 2,
   "metadata": {},
   "outputs": [
    {
     "name": "stdout",
     "output_type": "stream",
     "text": [
      "\n",
      "Producto matricial (A·B):\n",
      " [[18 26]\n",
      " [11 19]]\n"
     ]
    }
   ],
   "source": [
    "# Producto matricial\n",
    "producto_matrices = np.dot(A, B)\n",
    "print(f\"\\nProducto matricial (A·B):\\n {producto_matrices}\") "
   ]
  },
  {
   "cell_type": "markdown",
   "metadata": {},
   "source": [
    "## <span style=\"color:#00bfff;\">3.</span> Trasposición e inversa de una Matriz"
   ]
  },
  {
   "cell_type": "code",
   "execution_count": 3,
   "metadata": {},
   "outputs": [
    {
     "name": "stdout",
     "output_type": "stream",
     "text": [
      "\n",
      "Transpuesta de A:\n",
      "[[2 1]\n",
      " [4 3]]\n",
      "\n",
      "Inversa de A:\n",
      "[[ 1.5 -2. ]\n",
      " [-0.5  1. ]]\n"
     ]
    }
   ],
   "source": [
    "# Transpuesta de A\n",
    "transpuesta_A = A.T\n",
    "print(f\"\\nTranspuesta de A:\\n{transpuesta_A}\")\n",
    "\n",
    "# Inversa de A (si es invertible)\n",
    "if np.linalg.det(A) != 0:  # Verificamos que sea invertible\n",
    "    inversa_A = np.linalg.inv(A)\n",
    "    print(f\"\\nInversa de A:\\n{inversa_A}\")\n",
    "else:\n",
    "    print(\"\\nLa matriz A no es invertible\")"
   ]
  }
 ],
 "metadata": {
  "kernelspec": {
   "display_name": "slides",
   "language": "python",
   "name": "python3"
  },
  "language_info": {
   "codemirror_mode": {
    "name": "ipython",
    "version": 3
   },
   "file_extension": ".py",
   "mimetype": "text/x-python",
   "name": "python",
   "nbconvert_exporter": "python",
   "pygments_lexer": "ipython3",
   "version": "3.10.18"
  }
 },
 "nbformat": 4,
 "nbformat_minor": 2
}
