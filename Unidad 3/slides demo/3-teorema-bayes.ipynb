{
 "cells": [
  {
   "cell_type": "markdown",
   "metadata": {},
   "source": [
    "## <span style=\"color:#00bfff;\">Teorema de Bayes</span>"
   ]
  },
  {
   "cell_type": "markdown",
   "metadata": {},
   "source": [
    "<span style=\"color:#00bfff;\">1.</span> En una academia, la probabilidad de que a un alumno seleccionado al azar le guste el helado es del 60 %, mientras que la probabilidad de que a un alumno le guste la torta es del 36 %. Además, se sabe que la probabilidad de que a un alumno le guste la torta dado que le gusta el helado es del 40 %. Calcular la probabilidad de que a un alumno le guste el helado, dado que le gusta la torta.\n",
    "\n",
    "**Teorema de Bayes:**\n",
    "    \n",
    "$P(A|B)=\\frac{P(A)P(B|A)}{P(B)}$"
   ]
  },
  {
   "cell_type": "code",
   "execution_count": 1,
   "metadata": {},
   "outputs": [
    {
     "name": "stdout",
     "output_type": "stream",
     "text": [
      "La probabilidad de que a un alumno le guste el helado dado que le gusta la torta es:\n",
      "    66.7%\n"
     ]
    }
   ],
   "source": [
    "# Probabilidades proporcionadas\n",
    "P_helado = 0.60\n",
    "P_torta = 0.36\n",
    "P_torta_dado_helado = 0.40\n",
    "\n",
    "# Aplicar el teorema de Bayes para calcular la probabilidad de gustar helado dado que le gusta la torta\n",
    "P_helado_dado_torta = (P_torta_dado_helado * P_helado) / P_torta\n",
    "\n",
    "# Imprimir el resultado\n",
    "print(\n",
    "    f'''La probabilidad de que a un alumno le guste el helado dado que le gusta la torta es:\n",
    "    {round(P_helado_dado_torta, 3)*100}%'''\n",
    ")"
   ]
  },
  {
   "cell_type": "markdown",
   "metadata": {},
   "source": [
    "<span style=\"color:#00bfff;\">2.</span> El 20 % de los empleados de una empresa son ingenieros y otro 20 % son economistas. El 75 % de los ingenieros ocupan un puesto directivo y el 50 % de los economistas también, mientras que los no ingenieros y los no economistas solamente el 20 % ocupa un puesto directivo. ¿Cuál es la probabilidad de que un empleado directivo elegido al azar sea ingeniero?"
   ]
  },
  {
   "cell_type": "code",
   "execution_count": 2,
   "metadata": {},
   "outputs": [
    {
     "name": "stdout",
     "output_type": "stream",
     "text": [
      "La probabilidad de que un empleado directivo elegido al azar sea ingeniero es: 40.5 %\n"
     ]
    }
   ],
   "source": [
    "# Probabilidades proporcionadas\n",
    "P_ing = 0.20\n",
    "P_eco = 0.20\n",
    "P_no_ing_no_eco = 0.60\n",
    "P_dir_dado_ing = 0.75\n",
    "P_dir_dado_eco = 0.50\n",
    "P_dir_dado_no_ing_no_eco = 0.20\n",
    "\n",
    "# Calcular la probabilidad de que sea directivo\n",
    "P_dir = (\n",
    "    (P_dir_dado_ing * P_ing)\n",
    "    + (P_dir_dado_eco * P_eco)\n",
    "    + (P_dir_dado_no_ing_no_eco * P_no_ing_no_eco)\n",
    ")\n",
    "\n",
    "# Calcular la probabilidad de que un empleado directivo sea ingeniero\n",
    "P_ing_dado_dir = (P_dir_dado_ing * P_ing) / (P_dir)\n",
    "\n",
    "# Imprimir el resultado\n",
    "print(\n",
    "    \"La probabilidad de que un empleado directivo elegido al azar sea ingeniero es:\",\n",
    "    round(P_ing_dado_dir, 3) * 100,\n",
    "    \"%\",\n",
    ")"
   ]
  },
  {
   "cell_type": "markdown",
   "metadata": {},
   "source": [
    "<span style=\"color:#00bfff;\">3.</span> Suponer que se tienen las siguientes probabilidades:\n",
    "\n",
    "\n",
    "- $P(lluvia) = 0.20$\n",
    "- $P(nublado) = 0.40$\n",
    "- $P(nublado|lluvia) = 0.85.$\n",
    "\n",
    "Calcular $P(lluvia|nublado)$"
   ]
  },
  {
   "cell_type": "code",
   "execution_count": 3,
   "metadata": {},
   "outputs": [
    {
     "name": "stdout",
     "output_type": "stream",
     "text": [
      "La porbabilidad de que llueva si está nublado es: 42.5%\n"
     ]
    }
   ],
   "source": [
    "# Definición de función de Bayes\n",
    "def bayesTheorem(pA, pB, pBA):\n",
    "    return (pA * pBA) / pB\n",
    "\n",
    "# Definición de probabilidades\n",
    "pLluvia = 0.20\n",
    "pNublado = 0.40\n",
    "pLluviaNublado = 0.85\n",
    "\n",
    "# Calcular P(lluvia|nublado) con la función\n",
    "print(\n",
    "    f\"La porbabilidad de que llueva si está nublado es: {round(bayesTheorem(pLluvia, pNublado, pLluviaNublado) *100, 3)}%\"\n",
    ")"
   ]
  }
 ],
 "metadata": {
  "kernelspec": {
   "display_name": "slides",
   "language": "python",
   "name": "python3"
  },
  "language_info": {
   "codemirror_mode": {
    "name": "ipython",
    "version": 3
   },
   "file_extension": ".py",
   "mimetype": "text/x-python",
   "name": "python",
   "nbconvert_exporter": "python",
   "pygments_lexer": "ipython3",
   "version": "3.10.18"
  },
  "orig_nbformat": 4
 },
 "nbformat": 4,
 "nbformat_minor": 2
}
