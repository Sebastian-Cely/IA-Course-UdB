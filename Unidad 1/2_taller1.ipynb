{
 "cells": [
  {
   "cell_type": "markdown",
   "id": "d5d0cfe6",
   "metadata": {},
   "source": [
    "# <span style=\"color:#00bfff;\">Taller Unidad 1. Fundamentos  de IA y Python</span>\n",
    "\n",
    "\n",
    "Nombres y apellidos: [Diligenciar aquí]\n",
    "\n",
    "Fecha: [Diligenciar aquí]\n",
    "\n",
    "---\n",
    "\n",
    "## <span style=\"color:#00bfff;\">1. Fundamentos y definiciones (0.5 puntos)</span>\n",
    "\n",
    "<span style=\"color:#00bfff;\">**Instrucciones:**</span>\n",
    "\n",
    "Responda las siguientes preguntas en la celda de Markdown designada. Sea conciso y utilice sus propias palabras basándose en los materiales de la unidad.\n",
    "\n",
    "<span style=\"color:#00bfff;\">1.1.</span> Con base en las definiciones de McCarthy (1956) y Russell & Norvig (2021), explique la diferencia fundamental entre el enfoque de \"hacer \"máquinas\" inteligentes\" y el de \"crear \"agentes\" que maximizan su éxito\" (0.25 puntos). "
   ]
  },
  {
   "cell_type": "markdown",
   "id": "b030ce95",
   "metadata": {},
   "source": [
    "_[Escriba su respuesta en este bloque]_"
   ]
  },
  {
   "cell_type": "markdown",
   "id": "62184d21",
   "metadata": {},
   "source": [
    "<span style=\"color:#00bfff;\">1.2.</span> Describa la relación jerárquica entre los siguientes términos: Inteligencia Artificial, Deep Learning, IA Generativa y Machine Learning.   "
   ]
  },
  {
   "cell_type": "markdown",
   "id": "9c1dee0a",
   "metadata": {},
   "source": [
    "_[Escriba su respuesta en este bloque]_"
   ]
  },
  {
   "cell_type": "markdown",
   "id": "f4166cba",
   "metadata": {},
   "source": [
    "--- \n",
    "\n",
    "## <span style=\"color:#00bfff;\">2. Manipulación de datos con Python (1.0 puntos)</span>\n",
    "\n",
    "<span style=\"color:#00bfff;\">Instrucciones</span> \n",
    "\n",
    "Utilice el siguiente listado de eventos históricos de la IA para completar los ejercicios en las celdas de código. "
   ]
  },
  {
   "cell_type": "code",
   "execution_count": 1,
   "id": "1bbdac8d",
   "metadata": {},
   "outputs": [],
   "source": [
    "eventos_ia = [\n",
    "    \"1943: McCulloch y Pitts publican un modelo matemático de neuronas artificiales.\",\n",
    "    \"1950: Alan Turing propone el Test de Turing para evaluar la inteligencia artificial.\",\n",
    "    \"1956: Se acuña el término 'Inteligencia Artificial' en la Conferencia de Dartmouth.\",\n",
    "    \"1966: Se desarrolla ELIZA, uno de los primeros chatbots.\",\n",
    "    \"1969: Minsky y Papert demuestran las limitaciones del Perceptrón.\",\n",
    "    \"1986: Rumelhart, Hinton y Williams introducen el algoritmo de retropropagación.\",\n",
    "    \"1997: Deep Blue (IBM) vence al campeón de ajedrez Garry Kasparov.\",\n",
    "    \"2012: AlexNet revoluciona la visión por computadora usando Deep Learning.\",\n",
    "    \"2022: Se lanzan modelos como ChatGPT y Midjourney, democratizando la IA generativa.\"\n",
    "]"
   ]
  },
  {
   "cell_type": "markdown",
   "id": "418ae2b2",
   "metadata": {},
   "source": [
    "<span style=\"color:#00bfff;\">2.1.</span> (0.5 puntos) Convierta la lista `eventos_ia` en un nuve lista llamada `hitos_ia`. Cada elemento de `hitos_ia` debe ser un diccionario con las siguientes claves: `año` (entero), `evento` (cadena de texto) y década (cadena de texto, ej: \"1950s\"). Imprima la lista resultante. "
   ]
  },
  {
   "cell_type": "code",
   "execution_count": null,
   "id": "6fc581f2",
   "metadata": {},
   "outputs": [],
   "source": [
    "# Todo el ejercicio 2.1\n",
    "# Su código aquí\n",
    "hitos_ia = []\n",
    "\n",
    "# Proceso para estructurar los datos\n",
    "# ...\n",
    "\n",
    "print(hitos_ia)"
   ]
  },
  {
   "cell_type": "markdown",
   "id": "73e537bc",
   "metadata": {},
   "source": [
    "<span style=\"color:#00bfff;\">2.2.</span> (0.5 puntos) A partir de la lista ``hitos_ia`` que creó en el punto anterior, escriba un fragmento de código que filtre e imprima en pantalla únicamente los eventos ocurridos en las décadas de 1960 y 1980.\n",
    "\n",
    "💡 Nota: Si necesita ayuda con la sintaxis para el bucle y la condición, puede usar una IA generativa como asistente. Sin embargo, usted es responsable de formular la lógica correcta para el filtrado."
   ]
  },
  {
   "cell_type": "code",
   "execution_count": null,
   "id": "3ee3999a",
   "metadata": {},
   "outputs": [],
   "source": [
    "# Todo el ejercicio 2.2\n",
    "# Su código aquí\n",
    "\n",
    "print(\"Eventos ocurridos en las décadas de 1960 y 1980:\")\n",
    "# ..."
   ]
  },
  {
   "cell_type": "markdown",
   "id": "c5326661",
   "metadata": {},
   "source": [
    "---\n",
    "\n",
    "## <span style=\"color:#00bfff;\">3. El problema del XOR (1.0 puntos)\n",
    "\n",
    "<span style=\"color:#00bfff;\">3.1.</span> (0.5 puntos) Explique brevemente por qué el Perceptrón, según Minsky y Papert, no podía resolver el problema del XOR y qué avance tecnológico clave permitió superar esta limitación en la década de 1980."
   ]
  },
  {
   "cell_type": "markdown",
   "id": "b4223b3c",
   "metadata": {},
   "source": [
    "_[Escriba su respuesta en este bloque]_"
   ]
  },
  {
   "cell_type": "markdown",
   "id": "6546add3",
   "metadata": {},
   "source": [
    "<span style=\"color:#00bfff;\">3.2.</span> (0.5 puntos) Escriba una función en Python llamada ``resolver_xor(x1, x2)`` que reciba dos valores binarios (0 o 1) como entrada y devuelva el resultado correcto de la operación lógica XOR. Utilice únicamente lógica condicional (``if/elif/else``) para demostrar la solución del problema sin emplear una red neuronal. Pruebe la función con todas las combinaciones posibles de entrada."
   ]
  },
  {
   "cell_type": "code",
   "execution_count": null,
   "id": "a70fb92c",
   "metadata": {},
   "outputs": [],
   "source": [
    "# Todo el ejercicio 3.2\n",
    "def resolver_xor(x1, x2):\n",
    "    # Su código aquí\n",
    "    pass\n",
    "\n",
    "# Pruebas de la función\n",
    "print(f\"0 XOR 0 = {resolver_xor(0, 0)}\") # Esperado: 0\n",
    "print(f\"0 XOR 1 = {resolver_xor(0, 1)}\") # Esperado: 1\n",
    "print(f\"1 XOR 0 = {resolver_xor(1, 0)}\") # Esperado: 1\n",
    "print(f\"1 XOR 1 = {resolver_xor(1, 1)}\") # Esperado: 0"
   ]
  },
  {
   "cell_type": "markdown",
   "id": "7f3c7877",
   "metadata": {},
   "source": [
    "--- \n",
    "\n",
    "## <span style=\"color:#00bfff;\">4. Refactorización y eficiencia</span>\n",
    "\n",
    "<span style=\"color:#00bfff;\">Instrucciones</span>\n",
    "\n",
    "A continuación, se proporciona una lista de diccionarios con datos de estudiantes y una función que extrae los nombres de aquellos con una nota aprobatoria (>= 3.0). Complete los ejercicios para refactorizar y optimizar este código."
   ]
  },
  {
   "cell_type": "code",
   "execution_count": null,
   "id": "546a1014",
   "metadata": {},
   "outputs": [],
   "source": [
    "datos_estudiantes = [\n",
    "    {'nombre': 'Ana', 'nota': 4.5, 'id': '001'},\n",
    "    {'nombre': 'Luis', 'nota': 2.8, 'id': '002'},\n",
    "    {'nombre': 'Carlos', 'nota': 3.9, 'id': '003'},\n",
    "    {'nombre': 'Maria', 'nota': 2.1, 'id': '004'},\n",
    "    {'nombre': 'Sofia', 'nota': 3.0, 'id': '005'},\n",
    "    {'nombre': 'Juan', 'nota': 4.8, 'id': '006'}\n",
    "]\n",
    "\n",
    "def obtener_aprobados(estudiantes):\n",
    "    \"\"\"\n",
    "    Recibe una lista de estudiantes y devuelve los nombres\n",
    "    de los aprobados en mayúsculas, usando un bucle for.\n",
    "    \"\"\"\n",
    "    aprobados = []\n",
    "    for est in estudiantes:\n",
    "        if est['nota'] >= 3.0:\n",
    "            aprobados.append(est['nombre'].upper())\n",
    "    return aprobados\n",
    "\n",
    "# Ejecución de la función original\n",
    "print(f\"Original: {obtener_aprobados(datos_estudiantes)}\")"
   ]
  },
  {
   "cell_type": "markdown",
   "id": "0ffaf8e8",
   "metadata": {},
   "source": [
    "<span style=\"color:#00bfff;\">4.1.</span> (0.75 puntos) Cree una nueva función ``obtener_aprobados_comp(estudiantes)`` que logre exactamente el mismo resultado que ``obtener_aprobados``, pero utilizando una comprensión de listas (list comprehension) en una sola línea de código dentro de la función. "
   ]
  },
  {
   "cell_type": "code",
   "execution_count": null,
   "id": "cbcf093d",
   "metadata": {},
   "outputs": [],
   "source": [
    "# Todo el ejercicio 4.1\n",
    "def obtener_aprobados_comp(estudiantes):\n",
    "    # Su código aquí\n",
    "    pass\n",
    "\n",
    "# Ejecución de la nueva función\n",
    "print(f\"Refactorizada: {obtener_aprobados_comp(datos_estudiantes)}\")"
   ]
  },
  {
   "cell_type": "markdown",
   "id": "82f1a99c",
   "metadata": {},
   "source": [
    "<span style=\"color:#00bfff;\">4.2.</span> (0.75 puntos) Ahora, cree una **función generadora** llamada ``generar_aprobados(estudiantes)`` que, en lugar de devolver una lista, utilice la palabra clave ``yield`` para entregar los nombres de los estudiantes aprobados uno por uno. Adicionalmente, incluya un comentario (#) en su código explicando cuál es la principal ventaja de memoria de usar un generador en un escenario con millones de registros de estudiantes. "
   ]
  },
  {
   "cell_type": "code",
   "execution_count": null,
   "id": "fb550f52",
   "metadata": {},
   "outputs": [],
   "source": [
    "# Todo el ejercicio 4.2\n",
    "def generar_aprobados(estudiantes):\n",
    "    # Ventaja del generador: [Explique aquí en el comentario]\n",
    "    # Su código aquí\n",
    "    pass\n",
    "\n",
    "# Pruebe el generador iterando sobre él\n",
    "print(\"Generador de aprobados:\")\n",
    "for nombre in generar_aprobados(datos_estudiantes):\n",
    "    print(f\"- {nombre}\")"
   ]
  },
  {
   "cell_type": "markdown",
   "id": "b4036cfd",
   "metadata": {},
   "source": [
    "--- \n",
    "\n",
    "## <span style=\"color:#00bfff;\">5. Síntesis (1.0 punto)</span>\n",
    "\n",
    " Considerando la evolución histórica de la IA (desde los sistemas expertos de los 80s hasta los modelos generativos actuales) y las herramientas de desarrollo presentadas, argumente por qué la disponibilidad de grandes volúmenes de datos y el aumento de la capacidad de cómputo fueron dos catalizadores indispensables para el auge del Deep Learning a partir de la década de 2010."
   ]
  },
  {
   "cell_type": "markdown",
   "id": "fc704894",
   "metadata": {},
   "source": [
    "_[Escriba su respuesta en este bloque]_"
   ]
  }
 ],
 "metadata": {
  "kernelspec": {
   "display_name": "Unidad 1",
   "language": "python",
   "name": "python3"
  },
  "language_info": {
   "codemirror_mode": {
    "name": "ipython",
    "version": 3
   },
   "file_extension": ".py",
   "mimetype": "text/x-python",
   "name": "python",
   "nbconvert_exporter": "python",
   "pygments_lexer": "ipython3",
   "version": "3.12.11"
  }
 },
 "nbformat": 4,
 "nbformat_minor": 5
}
