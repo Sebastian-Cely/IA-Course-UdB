{
 "cells": [
  {
   "cell_type": "markdown",
   "id": "404d1d30",
   "metadata": {},
   "source": [
    "# <span style=\"color:#00bfff;\"> Introducción a la IA</span>\n",
    "\n",
    "> *¡IMPORTANTE!.* *Los aspectos teóricos del curso y la Unidad 1 en específico, puede consultarse a profundidad en [ai-course-UdB](https://ai-course-udb.my.canva.site). Ingrese al sitio y seleccione la unidad correpsondiente.*\n",
    "\n",
    "## <span style=\"color:#00bfff;\">¿Qué es la Inteligencia Artificial?</span>\n",
    "\n",
    "A lo largo de la historia, se ha definido la IA desde diversas perspectivas, lo que ha generado enfoques distintos en su desarrollo.\n",
    "\n",
    "### Definiciones clásicas de IA:\n",
    "\n",
    "| Definición 1 | Definición 2 |\n",
    "|:------------:|:------------:|\n",
    "| <div style=\"width:400px\">*\"La IA es la ciencia y la ingeniería de hacer máquinas inteligentes\" - (McCarthy, 1856)*</div> | <div style=\"width:400px\">*“La IA es el estudio de agentes que perciben su entorno y toman acciones para maximizar su probabilidad de éxito” - (Russell & Norvig, 2021)* </div>|\n",
    "\n",
    "### Tipos de Inteligencia Artificial\n",
    "\n",
    "| Descripción | Diagrama |\n",
    "|:----|:----:|\n",
    "| <div style=\"width:600px\"><ul><li>**Inteligencia Artificial (IA):** Tecnología que permite a las máquinas simular procesos cognitivos humanos como aprendizaje, razonamiento y toma de decisiones.</li><li>**Machine Learning (Aprendizaje Automático):** Subcampo de la IA que permite a las máquinas aprender de datos y mejorar su rendimiento sin ser programadas explícitamente.</li><li>**Deep Learning (Aprendizaje Profundo):** Rama de Machine Learning que utiliza redes neuronales profundas para modelar patrones complejos en grandes cantidades de datos.</li><li>**Large Language Models (LLM):** Modelos de IA entrenados con grandes cantidades de texto para comprender, generar y predecir lenguaje natural.</li><li>**Generative Pre-Trained Transformers (GPT):** Modelos de IA que generan texto mediante redes neuronales entrenadas en grandes conjuntos de datos de lenguaje.</li><li>**Inteligencia Artificial Generativa (IAG):** Tecnología que crea contenido nuevo, como texto, imágenes o música, a partir de patrones aprendidos de datos existentes.</li></ul></div> | <div style=\"width:500px\"><img src=\"assets/tipos-ia.png\"></div>| \n"
   ]
  },
  {
   "cell_type": "markdown",
   "id": "57c873f0",
   "metadata": {},
   "source": [
    "# <span style=\"color:#00bfff;\">Herramientas y Entornos de Desarrollo</span>\n",
    "\n",
    "## Lenguajes de Programación para Inteligencia Artificial:\n",
    "\n",
    "| Lenguaje | Descripción | Web official | Logo |\n",
    "| :----: | :---- | :----: | :----: |\n",
    "| **Python** | Versátil, fácil de aprender, con bibliotecas como TensorFlow, PyTorch y scikit-learn para IA. | [python.org](https://www.python.org)| <div style=\"height:80px\"><img src=\"https://1000logos.net/wp-content/uploads/2020/08/Python-Logo-500x313.png\"></div> |\n",
    "| **R** | Ideal para análisis estadístico y visualización, usado en aprendizaje automático y ciencia de datos. | [R Project](https://www-r--project-org.translate.goog/?_x_tr_sl=en&_x_tr_tl=es&_x_tr_hl=es&_x_tr_pto=tc) | <div style=\"height:80px\"><img src=\"https://upload.wikimedia.org/wikipedia/commons/thumb/1/1b/R_logo.svg/724px-R_logo.svg.png\"></div> |\n",
    "| **Java** | Robusto, portable, usado en aplicaciones empresariales de IA y herramientas como Weka. | [Java.es](https://www.java.com/es) | <div style=\"height:80px\"><img src=\"https://1000logos.net/wp-content/uploads/2020/09/Java-Logo.jpg\"></div> |\n",
    "| **C++** | Rápido y eficiente, empleado en sistemas de IA de alto rendimiento y juegos. | [C++ Language](https://es.wikipedia.org/wiki/C%2B%2B) | <div style=\"height:80px\"><img src=\"https://upload.wikimedia.org/wikipedia/commons/thumb/1/18/ISO_C%2B%2B_Logo.svg/800px-ISO_C%2B%2B_Logo.svg.png\"></div> |\n",
    "\n",
    "## Frameworks para Inteligencia Artificial\n",
    "\n",
    "| Framework | Descripción | Web official | Logo |\n",
    "| :----: | :---- | :----: | :----: |\n",
    "| **TensorFlow** | Framework de Google, flexible para redes neuronales y aprendizaje profundo. | [tensorflow.org](https://www.tensorflow.org/?hl=es-419)| <div style=\"height:80px\"><img src=\"https://upload.wikimedia.org/wikipedia/commons/thumb/a/ab/TensorFlow_logo.svg/1200px-TensorFlow_logo.svg.png\"></div> |\n",
    "| **PyTorch** | Popular por su facilidad de uso y dinámica, ideal para investigación en IA. | [pytorch.org](https://pytorch.org) | <div style=\"height:80px\"><img src=\"https://miro.medium.com/v2/resize:fit:1382/0*dp6NCTWXmbelZwBd\"></div> |\n",
    "| **scikit-learn** | Biblioteca de Python para aprendizaje automático, simple para modelos clásicos. | [scikit-learn.org](https://scikit-learn.org/stable) | <div style=\"height:80px\"><img src=\"https://encrypted-tbn0.gstatic.com/images?q=tbn:ANd9GcRNsNsCUnCK9dU4ADTVmRc0fs0KpHJwWFNJjQ&s\"></div> |\n",
    "| **Keras** | API de alto nivel sobre TensorFlow, fácil para construir redes neuronales. | [keras.io](https://keras.io) | <div style=\"height:80px\"><img src=\"https://keras.io/img/logo.png\"></div> |\n",
    "\n",
    "## Entornos de Desarrollo\n",
    "\n",
    "| Framework | Descripción | Web official | Logo |\n",
    "| :----: | :---- | :----: | :----: |\n",
    "| **Anaconda** | Anaconda es una plataforma de código abierto para IA y ciencia de datos, con Conda y bibliotecas de Python/R. | [https://www.anaconda.com](https://www.anaconda.com)| <div style=\"height:80px\"><img src=\"https://www.bigdatawire.com/wp-content/uploads/2022/04/anaconda_logo.png\"></div> |\n",
    "| **Visual Studio Code** | Editor ligero y versátil con extensiones para IA, como GitHub Copilot y soporte para Python. | [https://code.visualstudio.com](https://code.visualstudio.com) | <div style=\"height:80px\"><img src=\"https://encrypted-tbn0.gstatic.com/images?q=tbn:ANd9GcTnoirCtiJhhN8Tvo0FJRRd4CInsOXkRX9EbA&s\"></div> |\n",
    "| **Jupyter Notebook** | Entorno interactivo ideal para ciencia de datos y prototipado de modelos de IA. | [jupyter.org](https://jupyter.org) | <div style=\"height:80px\"><img src=\"https://encrypted-tbn0.gstatic.com/images?q=tbn:ANd9GcSehQLPIoGl2790wxl4fdGqYPcr38cef0Byr1qBg-f1Z7m1zXG-kiuSTHZTrHSm3woTulM&usqp=CAU\"></div> |\n",
    "| **Google Colab** | Plataforma basada en la nube para ciencia de datos, con soporte para Python y frameworks de IA. | [colab.research.google.com](colab.research.google.com) | <div style=\"height:80px\"><img src=\"https://www.marketing-trending.com/wp-content/uploads/2020/07/google-colaboratory-colab-guia-completa.jpg\"></div> |\n",
    "| **uv (Astral)** | Herramienta de gestión de paquetes y entornos para Python, optimizada para proyectos de IA. | [astral.sh/uv](https://docs.astral.sh/uv) | <div style=\"height:80px\"><img src=\"https://dashboard.snapcraft.io/site_media/appmedia/2024/09/uv.svg.png\"></div> |\n",
    "\n",
    "----"
   ]
  },
  {
   "cell_type": "markdown",
   "id": "6e3e96dd",
   "metadata": {},
   "source": [
    "# <span style=\"color:#00bfff;\">Guía de Instalación: Anaconda y uv en Windows</span>\n",
    "\n",
    "Este apartado proporciona las instrucciones para instalar **Anaconda Distribution** y el gestor de paquetes **`uv`** de Astral en un sistema operativo Windows.\n",
    "\n",
    "## <span style=\"color:#00bfff;\">1. Introducción</span>\n",
    "\n",
    "### ¿Qué es Anaconda?\n",
    "**Anaconda** es una distribución de los lenguajes de programación Python y R para computación científica. Simplifica la gestión de paquetes y el despliegue. Incluye más de 250 paquetes de ciencia de datos populares y permite el acceso a más de 7,500 paquetes adicionales a través del sistema de gestión de paquetes `conda`.\n",
    "\n",
    "### ¿Qué es `uv`?\n",
    "**`uv`** es un instalador y resolutor de paquetes de Python extremadamente rápido, desarrollado en Rust por Astral. Está diseñado para ser un reemplazo directo de herramientas como `pip` y `pip-tools`, ofreciendo una mejora significativa en la velocidad de instalación y resolución de dependencias.\n",
    "\n",
    "## <span style=\"color:#00bfff;\">2. Instalación de Anaconda Distribution</span>\n",
    "\n",
    "El método recomendado para instalar Anaconda es mediante el instalador gráfico, que guía al usuario a través del proceso.\n",
    "\n",
    "### Paso 2.1: Descargar el Instalador\n",
    "\n",
    "Descargue la última versión del instalador de Anaconda para Windows desde el sitio web oficial:\n",
    "\n",
    "[**Anaconda Distribution - Página de Descarga Oficial**](https://www.anaconda.com/download)\n",
    "\n",
    "Asegúrese de seleccionar el instalador para **Windows** compatible con la arquitectura de su sistema (usualmente 64-Bit).\n",
    "\n",
    "### Paso 2.2: Ejecutar el Instalador\n",
    "\n",
    "Una vez descargado el archivo `.exe`, ejecútelo y siga los pasos del asistente de instalación:\n",
    "1.  **Acepte el Acuerdo de Licencia**: Lea los términos y continúe.\n",
    "2.  **Tipo de Instalación**: Seleccione la opción \"Just Me\" (Recomendado), a menos que necesite que la instalación esté disponible para todos los usuarios del sistema.\n",
    "3.  **Directorio de Instalación**: Conserve la ruta por defecto, a menos que requiera una ubicación específica.\n",
    "4.  **Opciones Avanzadas de Instalación**:\n",
    "    * **\"Add Anaconda3 to my PATH environment variable\"**: **No se recomienda marcar esta opción**. Si la activa, puede interferir con otras instalaciones de software. En su lugar, utilice el **Anaconda Prompt** o **Anaconda Navigator** para acceder a los paquetes y herramientas de la distribución.\n",
    "    * **\"Register Anaconda3 as my default Python 3.x\"**: Mantenga esta opción marcada si desea que Anaconda sea la instalación de Python por defecto utilizada por sus editores de código y IDEs.\n",
    "5.  **Finalizar la Instalación**: Haga clic en \"Install\" y espere a que el proceso concluya.\n",
    "\n",
    "### Paso 2.3: Verificar la Instalación\n",
    "\n",
    "Para confirmar que Anaconda se ha instalado correctamente, abra el **Anaconda Prompt** desde el menú de Inicio y ejecute el siguiente comando: "
   ]
  },
  {
   "cell_type": "code",
   "execution_count": null,
   "id": "7addfd95",
   "metadata": {},
   "outputs": [],
   "source": [
    "# Comando para verificar la versión de conda\n",
    "!conda --version"
   ]
  },
  {
   "cell_type": "markdown",
   "id": "62e4e036",
   "metadata": {},
   "source": [
    "Si la instalación fue exitosa, el comando anterior deberá devolver la versión de `conda` instalada, por ejemplo: `conda 24.5.0`.\n",
    "\n",
    "### Paso 2.4: Crear y Activar un Entorno con Conda\n",
    "\n",
    "Un entorno virtual es un directorio aislado que contiene una instalación de Python específica, junto con un conjunto de paquetes.\n",
    "\n",
    "1.  **Crear un entorno**: Abra el **Anaconda Prompt** y utilice el siguiente comando para crear un nuevo entorno llamado `mi_entorno` con una versión específica de Python. Puede reemplazar `mi_entorno` por el nombre que prefiera."
   ]
  },
  {
   "cell_type": "code",
   "execution_count": null,
   "id": "061aad1c",
   "metadata": {},
   "outputs": [],
   "source": [
    "# Comando para crear un entorno en conda\n",
    "# Se especifica Python 3.9, pero puede elegir otra versión.\n",
    "!conda create --name mi_entorno python=3.9"
   ]
  },
  {
   "cell_type": "markdown",
   "id": "02f32cf7",
   "metadata": {},
   "source": [
    "2.  **Activar el entorno**: Una vez creado, debe activar el entorno para poder utilizarlo."
   ]
  },
  {
   "cell_type": "code",
   "execution_count": null,
   "id": "39bb76f7",
   "metadata": {},
   "outputs": [],
   "source": [
    "# Comando para activar el entorno en conda\n",
    "!conda activate mi_entorno"
   ]
  },
  {
   "cell_type": "markdown",
   "id": "aae40a85",
   "metadata": {},
   "source": [
    "### Paso 2.5: Instalar Librerías con Conda\n",
    "\n",
    "Una vez activado el entorno, puede instalar las librerías que necesite.\n",
    "\n",
    "**Instalación individual:**\n",
    "Para instalar una librería específica, como `pandas` o `matplotlib`, utilice el comando `conda install`."
   ]
  },
  {
   "cell_type": "code",
   "execution_count": null,
   "id": "1f5b70e0",
   "metadata": {
    "vscode": {
     "languageId": "powershell"
    }
   },
   "outputs": [],
   "source": [
    "# Comando para instalar librerías individuales con conda\n",
    "!conda install pandas matplotlib -y"
   ]
  },
  {
   "cell_type": "markdown",
   "id": "45301786",
   "metadata": {},
   "source": [
    "**Instalación con archivo de requerimientos:**\n",
    "Si tiene un archivo `requirements.txt`, puede instalar todas las librerías listadas en él. Primero, cree el archivo y luego instale las librerías definidas en él utilizando `pip` dentro del entorno de `conda`."
   ]
  },
  {
   "cell_type": "code",
   "execution_count": null,
   "id": "4b48cecf",
   "metadata": {
    "vscode": {
     "languageId": "powershell"
    }
   },
   "outputs": [],
   "source": [
    "# Instalar desde un archivo requirements.txt con pip en el entorno conda\n",
    "!pip install -r requirements.txt"
   ]
  },
  {
   "cell_type": "markdown",
   "id": "75adf212",
   "metadata": {},
   "source": [
    "---\n",
    "\n",
    "## <span style=\"color:#00bfff;\">3. Instalación de `uv` de Astral</span>\n",
    "\n",
    "`uv` puede ser instalado dentro del entorno de Anaconda o de forma global en el sistema. El método más directo para Windows es a través de PowerShell.\n",
    "\n",
    "### Paso 3.1: Abrir Windows PowerShell\n",
    "\n",
    "Abra una terminal de **Windows PowerShell**. Puede hacerlo buscando \"PowerShell\" en el menú de Inicio.\n",
    "\n",
    "### Paso 3.2: Ejecutar el Script de Instalación\n",
    "\n",
    "Copie y pegue el siguiente comando en la terminal de PowerShell y presione Enter. Este comando descarga y ejecuta el script de instalación oficial de `uv`."
   ]
  },
  {
   "cell_type": "code",
   "execution_count": null,
   "id": "e6d90398",
   "metadata": {
    "vscode": {
     "languageId": "powershell"
    }
   },
   "outputs": [],
   "source": [
    "# Comando de instalación para uv en PowerShell\n",
    "powershell -ExecutionPolicy ByPass -c \"irm https://astral.sh/uv/install.ps1 | iex\""
   ]
  },
  {
   "cell_type": "markdown",
   "id": "e84f80dc",
   "metadata": {},
   "source": [
    "### Paso 3.3: Verificar la Instalación de `uv`\n",
    "\n",
    "Una vez finalizada la instalación, es posible que deba reiniciar su terminal para que los cambios en el PATH del sistema surtan efecto.\n",
    "\n",
    "Abra una nueva terminal (PowerShell o Símbolo del sistema) y ejecute el siguiente comando para verificar que `uv` se ha instalado correctamente: "
   ]
  },
  {
   "cell_type": "code",
   "execution_count": null,
   "id": "ca8e1e20",
   "metadata": {
    "vscode": {
     "languageId": "powershell"
    }
   },
   "outputs": [],
   "source": [
    "# Comando para verificar la versión de uv\n",
    "!uv --version"
   ]
  },
  {
   "cell_type": "markdown",
   "id": "ebc98a51",
   "metadata": {},
   "source": [
    "Una instalación correcta mostrará la versión de `uv`, por ejemplo: `uv 0.2.11`.\n",
    "\n",
    "Con estos pasos, tanto Anaconda como `uv` estarán instalados y listos para ser utilizados en su sistema.\n",
    "\n",
    "### Paso 3.4: Crear y Activar un Entorno con `uv`\n",
    "\n",
    "1.  **Crear y activar un entorno**: `uv` crea y activa un entorno en un solo paso. Navegue hasta el directorio de su proyecto y ejecute el siguiente comando. Se creará una carpeta `.venv` para alojar el entorno."
   ]
  },
  {
   "cell_type": "code",
   "execution_count": null,
   "id": "ff56d0c4",
   "metadata": {
    "vscode": {
     "languageId": "powershell"
    }
   },
   "outputs": [],
   "source": [
    "# Comando para crear y activar un entorno con uv\n",
    "# Puede especificar una versión de Python con --python, ej: --python 3.9\n",
    "!uv venv"
   ]
  },
  {
   "cell_type": "markdown",
   "id": "f77c44b6",
   "metadata": {},
   "source": [
    "### Paso 3.5: Instalar Librerías con `uv`\n",
    "\n",
    "Con el entorno activado, puede instalar librerías.\n",
    "\n",
    "**Instalación individual:**\n",
    "Para instalar una librería específica como `requests` o `fastapi`, utilice el comando `uv pip install`."
   ]
  },
  {
   "cell_type": "code",
   "execution_count": null,
   "id": "489e6822",
   "metadata": {
    "vscode": {
     "languageId": "powershell"
    }
   },
   "outputs": [],
   "source": [
    "# Comando para instalar librerías individuales con uv\n",
    "!uv pip install ipykernel requests fastapi # ipykernel es necesario para usar Jupyter Notebooks"
   ]
  },
  {
   "cell_type": "markdown",
   "id": "d5350a16",
   "metadata": {},
   "source": [
    "**Instalación con archivo de requerimientos:**\n",
    "De manera similar a `pip`, `uv` puede instalar librerías desde un archivo `requirements.txt`. "
   ]
  },
  {
   "cell_type": "code",
   "execution_count": null,
   "id": "45a6162f",
   "metadata": {
    "vscode": {
     "languageId": "powershell"
    }
   },
   "outputs": [],
   "source": [
    "# Instalar desde un archivo requirements.txt con uv\n",
    "!uv pip install -r requirements.txt"
   ]
  },
  {
   "cell_type": "markdown",
   "id": "7df24dc5",
   "metadata": {},
   "source": [
    "> <span style=\"color:#ff7800;\">_**Nota:**_</span> \n",
    "> - _**En Windows:** Si al activar o correr algún comando de **uv** con la terminal arroja error relacionado con los permisos para ejecutar scripts, puede solucionarlo abriendo Power Shell como administrador y ejecute el comando `Set-ExecutionPolicy -ExecutionPolicy RemoteSigned -Scope CurrentUser`. Allí deberá confirmar el cambio en los permisos con 'S' o 'Y', según el idioma y podrá ejecutar los scripts del entorno creado._\n",
    "\n",
    "> - _Es posible que, al intentar instalar librerías en el entorno de **uv** en la terminal, el sistema deniegue el el acceso. Esto generalmente se debe a que el entorno está en ejecución y siendo usado por un proceso. Cierre los archivos del editor que puedan estar interviniendo e intente la isntalación de librerías de Python nuevamente._\n",
    "\n",
    "> - _En el caso en que Visual Studio Code no detecte el kernel correspondiente al entorno creado, presione `Ctrl + Shift + P` para abrir la barra de comandos y escriba `Developer: Reload Window`. Esto \"refrescará\" VS Code e indexará nuevamente los entornos disponibles._\n",
    "\n",
    "Con estos pasos, tanto ``Anaconda`` como `uv` estarán instalados y listos para ser utilizados en su sistema Windows, y podrá crear entornos virtuales e instalar las librerías necesarias para sus proyectos.\n",
    "\n",
    "---"
   ]
  },
  {
   "cell_type": "markdown",
   "id": "c2f159d0",
   "metadata": {},
   "source": [
    "## <span style=\"color:#00bfff;\">4. Hola Python!</span>\n",
    "\n",
    "Para probar el funcionamiento del entorno de python puede utilizar el siguiente script (No olvide tener instalar prebviamente la librería ``ipykernel``): "
   ]
  },
  {
   "cell_type": "code",
   "execution_count": 1,
   "id": "c09eb0f2",
   "metadata": {},
   "outputs": [
    {
     "name": "stdout",
     "output_type": "stream",
     "text": [
      "!Hola Python!\n"
     ]
    }
   ],
   "source": [
    "var = \"!Hola Python!\"\n",
    "\n",
    "print(var) "
   ]
  },
  {
   "cell_type": "markdown",
   "id": "837f7a8e",
   "metadata": {},
   "source": [
    "Si el código imprime correctamente el mensaje de la variable ``\"¡Hola Python!\"`` la configuración ha culminado satisfactoriamente. \n",
    "\n",
    "---"
   ]
  }
 ],
 "metadata": {
  "kernelspec": {
   "display_name": "fundamentos",
   "language": "python",
   "name": "python3"
  },
  "language_info": {
   "codemirror_mode": {
    "name": "ipython",
    "version": 3
   },
   "file_extension": ".py",
   "mimetype": "text/x-python",
   "name": "python",
   "nbconvert_exporter": "python",
   "pygments_lexer": "ipython3",
   "version": "3.13.5"
  }
 },
 "nbformat": 4,
 "nbformat_minor": 5
}
