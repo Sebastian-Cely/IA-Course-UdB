{
 "cells": [
  {
   "cell_type": "markdown",
   "id": "intro-python-title",
   "metadata": {},
   "source": [
    "# Introducción a Python: Nivel Básico\n",
    "\n",
    "¡Bienvenido/a al mundo de la programación con Python! Este notebook es una guía interactiva diseñada para quienes no tienen experiencia previa. Aquí aprenderás los fundamentos del lenguaje de una manera práctica.\n",
    "\n",
    "**¿Qué es Python?** Es un lenguaje de programación de alto nivel, interpretado y fácil de leer, ideal para principiantes.\n",
    "\n",
    "**¿Cómo usar este notebook?** Verás celdas de texto (como esta) y celdas de código. Para ejecutar el código en una celda, haz clic en ella y presiona `Shift + Enter`."
   ]
  },
  {
   "cell_type": "markdown",
   "id": "hola-mundo-intro",
   "metadata": {},
   "source": [
    "## 1. El \"Hola, Mundo\" y los Comentarios\n",
    "\n",
    "El primer paso en cualquier lenguaje de programación es aprender a mostrar un mensaje en pantalla. En Python, usamos la función `print()`.\n",
    "\n",
    "Los **comentarios** son notas en el código que el programa ignora. Son para que los humanos entiendan el código. Se escriben con el símbolo `#`."
   ]
  },
  {
   "cell_type": "code",
   "execution_count": 1,
   "id": "hola-mundo-code",
   "metadata": {},
   "outputs": [
    {
     "name": "stdout",
     "output_type": "stream",
     "text": [
      "¡Hola, Mundo!\n"
     ]
    }
   ],
   "source": [
    "# Este es un comentario. El código de abajo imprimirá un saludo.\n",
    "print(\"¡Hola, Mundo!\")"
   ]
  },
  {
   "cell_type": "markdown",
   "id": "variables-intro",
   "metadata": {},
   "source": [
    "## 2. Variables y Tipos de Datos Básicos\n",
    "\n",
    "Una **variable** es como una caja con una etiqueta donde guardamos información. Podemos darle un nombre y asignarle un valor con el símbolo `=`."
   ]
  },
  {
   "cell_type": "code",
   "execution_count": 2,
   "id": "variables-code",
   "metadata": {},
   "outputs": [
    {
     "name": "stdout",
     "output_type": "stream",
     "text": [
      "Ana\n",
      "25\n"
     ]
    }
   ],
   "source": [
    "# Asignamos el texto \"Ana\" a la variable 'nombre'\n",
    "nombre = \"Ana\"\n",
    "edad = 25\n",
    "\n",
    "print(nombre)\n",
    "print(edad)"
   ]
  },
  {
   "cell_type": "markdown",
   "id": "data-types-intro",
   "metadata": {},
   "source": [
    "### Tipos de Datos\n",
    "\n",
    "Python maneja diferentes tipos de datos:\n",
    "- **Strings (`str`)**: Para texto. Se escribe entre comillas `\"` o `'`.\n",
    "- **Números (`int`, `float`)**: Enteros y decimales para operaciones matemáticas.\n",
    "- **Booleanos (`bool`)**: Representan valores de verdad, solo pueden ser `True` o `False`."
   ]
  },
  {
   "cell_type": "code",
   "execution_count": 3,
   "id": "data-types-code",
   "metadata": {},
   "outputs": [
    {
     "name": "stdout",
     "output_type": "stream",
     "text": [
      "Bienvenida al curso\n",
      "2025\n",
      "True\n",
      "Ana tiene 25 años y su matrícula cuesta $99.95.\n"
     ]
    }
   ],
   "source": [
    "# String (texto)\n",
    "saludo = \"Bienvenida al curso\"\n",
    "\n",
    "# Números\n",
    "anio = 2025\n",
    "precio = 99.95\n",
    "\n",
    "# Booleano\n",
    "es_estudiante = True\n",
    "\n",
    "print(saludo)\n",
    "print(anio)\n",
    "print(es_estudiante)\n",
    "\n",
    "# Podemos combinar variables y texto con f-strings (una forma de formatear strings)\n",
    "print(f\"{nombre} tiene {edad} años y su matrícula cuesta ${precio}.\")"
   ]
  },
  {
   "cell_type": "markdown",
   "id": "data-structures-intro",
   "metadata": {},
   "source": [
    "## 3. Estructuras de Datos Comunes\n",
    "\n",
    "Para agrupar datos, Python ofrece estructuras muy útiles.\n",
    "\n",
    "### Listas (`list`)\n",
    "Una lista es una colección **ordenada** y **modificable** de elementos. Se definen con corchetes `[]`."
   ]
  },
  {
   "cell_type": "code",
   "execution_count": 4,
   "id": "lists-code",
   "metadata": {},
   "outputs": [
    {
     "name": "stdout",
     "output_type": "stream",
     "text": [
      "['manzana', 'banana', 'cereza']\n",
      "La primera fruta es: manzana\n",
      "Lista actualizada: ['manzana', 'banana', 'cereza', 'naranja']\n"
     ]
    }
   ],
   "source": [
    "frutas = [\"manzana\", \"banana\", \"cereza\"]\n",
    "print(frutas)\n",
    "\n",
    "# Accedemos al primer elemento (los índices empiezan en 0)\n",
    "primera_fruta = frutas[0]\n",
    "print(f\"La primera fruta es: {primera_fruta}\")\n",
    "\n",
    "# Agregamos un nuevo elemento al final de la lista\n",
    "frutas.append(\"naranja\")\n",
    "print(f\"Lista actualizada: {frutas}\")"
   ]
  },
  {
   "cell_type": "markdown",
   "id": "dicts-intro",
   "metadata": {},
   "source": [
    "### Diccionarios (`dict`)\n",
    "Un diccionario es una colección de pares **clave-valor**. No tienen un orden fijo y se usan para relacionar datos. Se definen con llaves `{}`."
   ]
  },
  {
   "cell_type": "code",
   "execution_count": 5,
   "id": "dicts-code",
   "metadata": {},
   "outputs": [
    {
     "name": "stdout",
     "output_type": "stream",
     "text": [
      "{'nombre': 'Carlos', 'edad': 32, 'ciudad': 'Tunja'}\n",
      "La edad de la persona es: 32\n",
      "Diccionario actualizado: {'nombre': 'Carlos', 'edad': 32, 'ciudad': 'Tunja', 'profesion': 'Ingeniero'}\n"
     ]
    }
   ],
   "source": [
    "persona = {\n",
    "    \"nombre\": \"Carlos\",\n",
    "    \"edad\": 32,\n",
    "    \"ciudad\": \"Tunja\"\n",
    "}\n",
    "\n",
    "print(persona)\n",
    "\n",
    "# Accedemos a un valor a través de su clave\n",
    "print(f\"La edad de la persona es: {persona['edad']}\")\n",
    "\n",
    "# Agregamos un nuevo par clave-valor\n",
    "persona[\"profesion\"] = \"Ingeniero\"\n",
    "print(f\"Diccionario actualizado: {persona}\")"
   ]
  },
  {
   "cell_type": "markdown",
   "id": "control-flow-intro",
   "metadata": {},
   "source": [
    "## 4. Control de Flujo\n",
    "\n",
    "El control de flujo nos permite tomar decisiones y repetir acciones en nuestro código.\n",
    "\n",
    "### Condicionales (`if`, `elif`, `else`)\n",
    "Permiten ejecutar un bloque de código solo si se cumple una condición."
   ]
  },
  {
   "cell_type": "code",
   "execution_count": 6,
   "id": "if-else-code",
   "metadata": {},
   "outputs": [
    {
     "name": "stdout",
     "output_type": "stream",
     "text": [
      "El clima es agradable.\n"
     ]
    }
   ],
   "source": [
    "temperatura = 22\n",
    "\n",
    "if temperatura > 25:\n",
    "    print(\"Hace calor.\")\n",
    "elif temperatura < 15:\n",
    "    print(\"Hace frío.\")\n",
    "else:\n",
    "    print(\"El clima es agradable.\")"
   ]
  },
  {
   "cell_type": "markdown",
   "id": "loops-intro",
   "metadata": {},
   "source": [
    "### Bucles (`for`)\n",
    "Un bucle `for` se usa para recorrer los elementos de una secuencia (como una lista)."
   ]
  },
  {
   "cell_type": "code",
   "execution_count": 7,
   "id": "for-loop-code",
   "metadata": {},
   "outputs": [
    {
     "name": "stdout",
     "output_type": "stream",
     "text": [
      "Mi lista de frutas:\n",
      "- manzana\n",
      "- banana\n",
      "- cereza\n",
      "- naranja\n"
     ]
    }
   ],
   "source": [
    "# Recorremos la lista de frutas que creamos antes\n",
    "print(\"Mi lista de frutas:\")\n",
    "for fruta in frutas:\n",
    "    print(f\"- {fruta}\")"
   ]
  },
  {
   "cell_type": "markdown",
   "id": "functions-intro",
   "metadata": {},
   "source": [
    "## 5. Funciones\n",
    "\n",
    "Una **función** es un bloque de código reutilizable que realiza una tarea específica. Se definen con la palabra clave `def` y pueden recibir datos (parámetros) para trabajar con ellos."
   ]
  },
  {
   "cell_type": "code",
   "execution_count": 8,
   "id": "functions-code",
   "metadata": {},
   "outputs": [
    {
     "name": "stdout",
     "output_type": "stream",
     "text": [
      "Hola, Juan. ¡Qué bueno verte!\n",
      "Hola, María. ¡Qué bueno verte!\n"
     ]
    }
   ],
   "source": [
    "# Definimos una función que recibe un nombre y devuelve un saludo\n",
    "def saludar(nombre_persona):\n",
    "    return f\"Hola, {nombre_persona}. ¡Qué bueno verte!\"\n",
    "\n",
    "# Ahora llamamos a la función con diferentes nombres\n",
    "saludo_a_juan = saludar(\"Juan\")\n",
    "saludo_a_maria = saludar(\"María\")\n",
    "\n",
    "print(saludo_a_juan)\n",
    "print(saludo_a_maria)"
   ]
  },
  {
   "cell_type": "markdown",
   "id": "conclusion",
   "metadata": {},
   "source": [
    "## ¡Felicitaciones y Próximos Pasos!\n",
    "\n",
    "Has completado tu primera introducción a Python. Has aprendido sobre:\n",
    "- Variables y tipos de datos.\n",
    "- Listas y diccionarios.\n",
    "- Control de flujo con `if` y `for`.\n",
    "- Funciones con `def`.\n",
    "\n",
    "El siguiente paso es practicar. Intenta crear tus propias variables, modificar listas y escribir funciones simples. ¡La práctica constante es la clave para dominar la programación!"
   ]
  }
 ],
 "metadata": {
  "kernelspec": {
   "display_name": "fundamentos",
   "language": "python",
   "name": "python3"
  },
  "language_info": {
   "codemirror_mode": {
    "name": "ipython",
    "version": 3
   },
   "file_extension": ".py",
   "mimetype": "text/x-python",
   "name": "python",
   "nbconvert_exporter": "python",
   "pygments_lexer": "ipython3",
   "version": "3.13.5"
  }
 },
 "nbformat": 4,
 "nbformat_minor": 5
}
