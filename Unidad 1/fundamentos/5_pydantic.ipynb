{
 "cells": [
  {
   "cell_type": "markdown",
   "id": "intro-pydantic-title",
   "metadata": {},
   "source": [
    "# <span style=\"color:#00bfff;\">Introducción a Pydantic: Validación de Datos en Python</span>\n",
    "\n",
    "Este notebook es una guía práctica para entender y utilizar **Pydantic**, una de las librerías más importantes en el ecosistema de Python moderno para la validación de datos."
   ]
  },
  {
   "cell_type": "markdown",
   "id": "what-is-pydantic",
   "metadata": {},
   "source": [
    "## <span style=\"color:#00bfff;\">1. ¿Qué es Pydantic y cuándo utilizarlo?</span>\n",
    "\n",
    "**Pydantic** es una librería que utiliza los *type hints* (indicadores de tipo) de Python para validar, serializar y parsear datos. En esencia, le permite definir la \"forma\" que deben tener sus datos a través de clases de Python.\n",
    "\n",
    "#### Casos de uso comunes:\n",
    "- **Desarrollo de APIs**: Es el motor de validación de frameworks como **FastAPI**. Asegura que los datos entrantes (requests) y salientes (responses) cumplan con un esquema definido.\n",
    "- **Configuración de aplicaciones**: Permite cargar configuraciones desde archivos o variables de entorno, validando que todos los parámetros necesarios estén presentes y tengan el tipo correcto.\n",
    "- **Procesamiento de datos estructurados**: Ideal para trabajar con formatos como JSON o YAML. Es especialmente útil para procesar las **salidas de Modelos de Lenguaje Grandes (LLM)**, que suelen devolver datos en formato JSON y necesitan ser validados rigurosamente."
   ]
  },
  {
   "cell_type": "code",
   "execution_count": null,
   "id": "install-pydantic",
   "metadata": {},
   "outputs": [
    {
     "name": "stdout",
     "output_type": "stream",
     "text": [
      "Note: you may need to restart the kernel to use updated packages.\n"
     ]
    },
    {
     "name": "stderr",
     "output_type": "stream",
     "text": [
      "h:\\Mi unidad\\Docencia\\Inteligencia Artificial - Ing Sistemas\\2025-2\\IA-Course-UdB\\Unidad 1\\fundamentos\\.venv\\Scripts\\python.exe: No module named uv\n"
     ]
    }
   ],
   "source": [
    "# Instalación (si no lo ha hecho antes)\n",
    "%pip install pydantic pydantic[email]"
   ]
  },
  {
   "cell_type": "markdown",
   "id": "define-models",
   "metadata": {},
   "source": [
    "## <span style=\"color:#00bfff;\">2. Definir Modelos de Datos con `BaseModel`</span>\n",
    "\n",
    "La clase fundamental en Pydantic es `BaseModel`. Se hereda de ella para crear modelos de datos personalizados. Los atributos de la clase se definen con sus respectivos *type hints*."
   ]
  },
  {
   "cell_type": "code",
   "execution_count": 1,
   "id": "create-basemodel",
   "metadata": {},
   "outputs": [],
   "source": [
    "from pydantic import BaseModel, EmailStr, ValidationError\n",
    "from typing import List, Optional\n",
    "\n",
    "# Se define un modelo simple para un usuario\n",
    "class Usuario(BaseModel):\n",
    "    id: int\n",
    "    nombre: str\n",
    "    email: EmailStr  # Pydantic provee tipos especiales como EmailStr\n",
    "    edad: Optional[int] = None # Campo opcional con un valor por defecto"
   ]
  },
  {
   "cell_type": "markdown",
   "id": "parse-validate",
   "metadata": {},
   "source": [
    "## <span style=\"color:#00bfff;\">3. Parsear, Validar y Serializar Datos</span>\n",
    "\n",
    "Una vez definido el modelo, Pydantic se encarga del trabajo pesado: tomar datos \"crudos\" (como un diccionario), validarlos contra el modelo y crear una instancia de la clase si todo es correcto."
   ]
  },
  {
   "cell_type": "code",
   "execution_count": 2,
   "id": "validation-example",
   "metadata": {},
   "outputs": [
    {
     "name": "stdout",
     "output_type": "stream",
     "text": [
      "✅ Datos validados correctamente:\n",
      "id=123 nombre='Juan Pérez' email='juan.perez@email.com' edad=30\n"
     ]
    }
   ],
   "source": [
    "# Datos de entrada en formato de diccionario\n",
    "datos_usuario = {\n",
    "    \"id\": 123,\n",
    "    \"nombre\": \"Juan Pérez\",\n",
    "    \"email\": \"juan.perez@email.com\",\n",
    "    \"edad\": 30\n",
    "}\n",
    "\n",
    "# 1. Parseo y Validación\n",
    "try:\n",
    "    usuario_validado = Usuario(**datos_usuario)\n",
    "    print(\"✅ Datos validados correctamente:\")\n",
    "    print(usuario_validado)\n",
    "except ValidationError as e:\n",
    "    print(f\"❌ Error de validación: {e}\")"
   ]
  },
  {
   "cell_type": "code",
   "execution_count": 3,
   "id": "validation-error-example",
   "metadata": {},
   "outputs": [
    {
     "name": "stdout",
     "output_type": "stream",
     "text": [
      "Intentando validar datos incorrectos:\n",
      "❌ Error de validación detectado:2 validation errors for Usuario\n",
      "id\n",
      "  Input should be a valid integer, unable to parse string as an integer [type=int_parsing, input_value='no-es-un-numero', input_type=str]\n",
      "    For further information visit https://errors.pydantic.dev/2.11/v/int_parsing\n",
      "email\n",
      "  Field required [type=missing, input_value={'id': 'no-es-un-numero', 'nombre': 'Ana'}, input_type=dict]\n",
      "    For further information visit https://errors.pydantic.dev/2.11/v/missing\n"
     ]
    }
   ],
   "source": [
    "# Ejemplo con datos incorrectos para provocar un error\n",
    "datos_invalidos = {\n",
    "    \"id\": \"no-es-un-numero\", # Tipo incorrecto\n",
    "    \"nombre\": \"Ana\",\n",
    "    # Falta el campo 'email', que es obligatorio\n",
    "}\n",
    "\n",
    "print(\"Intentando validar datos incorrectos:\")\n",
    "try:\n",
    "    Usuario(**datos_invalidos)\n",
    "except ValidationError as e:\n",
    "    print(f\"❌ Error de validación detectado:{e}\")"
   ]
  },
  {
   "cell_type": "markdown",
   "id": "serialization-intro",
   "metadata": {},
   "source": [
    "### Serialización de Datos\n",
    "\n",
    "La serialización es el proceso inverso: convertir un objeto del modelo a un formato estándar como un diccionario o un string JSON. Pydantic lo hace muy sencillo con los métodos `.model_dump()` y `.model_dump_json()`."
   ]
  },
  {
   "cell_type": "code",
   "execution_count": 4,
   "id": "serialization-example",
   "metadata": {},
   "outputs": [
    {
     "name": "stdout",
     "output_type": "stream",
     "text": [
      "Objeto serializado a diccionario:\n",
      "{'id': 123, 'nombre': 'Juan Pérez', 'email': 'juan.perez@email.com', 'edad': 30}\n",
      "Tipo: <class 'dict'>\n",
      "\n",
      "Objeto serializado a JSON:\n",
      "{\n",
      "  \"id\": 123,\n",
      "  \"nombre\": \"Juan Pérez\",\n",
      "  \"email\": \"juan.perez@email.com\",\n",
      "  \"edad\": 30\n",
      "}\n",
      "Tipo: <class 'str'>\n"
     ]
    }
   ],
   "source": [
    "# Usamos el objeto 'usuario_validado' que creamos antes\n",
    "\n",
    "# Convertir a diccionario de Python\n",
    "diccionario_usuario = usuario_validado.model_dump()\n",
    "print(\"Objeto serializado a diccionario:\")\n",
    "print(diccionario_usuario)\n",
    "print(f\"Tipo: {type(diccionario_usuario)}\\n\")\n",
    "\n",
    "# Convertir directamente a un string JSON\n",
    "# El argumento 'indent=2' lo formatea para que sea legible\n",
    "json_usuario = usuario_validado.model_dump_json(indent=2)\n",
    "print(\"Objeto serializado a JSON:\")\n",
    "print(json_usuario)\n",
    "print(f\"Tipo: {type(json_usuario)}\")"
   ]
  },
  {
   "cell_type": "markdown",
   "id": "json-integration",
   "metadata": {},
   "source": [
    "## <span style=\"color:#00bfff;\">4. Trabajar con `json.loads()` y `json.dumps()`</span>\n",
    "\n",
    "Aunque Pydantic ofrece métodos nativos para manejar JSON, es totalmente compatible con el módulo `json` de Python. El flujo habitual es:\n",
    "1. Cargar un string JSON a un diccionario con `json.loads()`.\n",
    "2. Validar ese diccionario con un modelo Pydantic.\n",
    "3. Si se necesita un string JSON de vuelta, usar `json.dumps()` sobre el diccionario generado por `.model_dump()`."
   ]
  },
  {
   "cell_type": "code",
   "execution_count": 5,
   "id": "json-module-example",
   "metadata": {},
   "outputs": [
    {
     "name": "stdout",
     "output_type": "stream",
     "text": [
      "✅ Usuario validado desde un string JSON:\n",
      "id=456 nombre='Luisa Gomez' email='luisa.g@example.com' edad=None\n"
     ]
    }
   ],
   "source": [
    "import json\n",
    "\n",
    "# 1. Partimos de un string JSON (podría venir de un archivo o una API)\n",
    "json_string = '{\"id\": 456, \"nombre\": \"Luisa Gomez\", \"email\": \"luisa.g@example.com\"}'\n",
    "\n",
    "# 2. Parseamos el string a un diccionario\n",
    "datos_dict = json.loads(json_string)\n",
    "\n",
    "# 3. Validamos el diccionario con nuestro modelo Pydantic\n",
    "usuario_desde_json = Usuario(**datos_dict)\n",
    "\n",
    "print(\"✅ Usuario validado desde un string JSON:\")\n",
    "print(usuario_desde_json)"
   ]
  },
  {
   "cell_type": "markdown",
   "id": "llm-example-intro",
   "metadata": {},
   "source": [
    "## <span style=\"color:#00bfff;\">5. Caso Práctico: Procesar la Salida de un LLM</span>\n",
    "\n",
    "Imaginemos que le pedimos a un LLM que extraiga información de un texto y nos la devuelva en formato JSON. La salida del modelo puede ser inconsistente: puede incluir campos extra, tener tipos de datos como strings en lugar de números, etc. Pydantic es la herramienta perfecta para limpiar y validar esta salida."
   ]
  },
  {
   "cell_type": "code",
   "execution_count": 6,
   "id": "llm-example-code",
   "metadata": {},
   "outputs": [
    {
     "name": "stdout",
     "output_type": "stream",
     "text": [
      "--- Salida cruda del LLM ---\n",
      "\n",
      "{\n",
      "    \"nombre_receta\": \"Torta de Chocolate\",\n",
      "    \"ingredientes\": [\n",
      "        {\"nombre\": \"Harina\", \"cantidad\": 2.5, \"unidad\": \"tazas\"},\n",
      "        {\"nombre\": \"Azúcar\", \"cantidad\": 2, \"unidad\": \"tazas\"},\n",
      "        {\"nombre\": \"Cacao en polvo\", \"cantidad\": 0.75, \"unidad\": \"tazas\"}\n",
      "    ],\n",
      "    \"tiempo_preparacion_min\": \"90\",\n",
      "    \"dificultad\": \"media\" \n",
      "}\n",
      "\n",
      "\n",
      "--- ✅ Datos del LLM validados y estructurados ---\n",
      "nombre_receta='Torta de Chocolate' ingredientes=[Ingrediente(nombre='Harina', cantidad=2.5, unidad='tazas'), Ingrediente(nombre='Azúcar', cantidad=2.0, unidad='tazas'), Ingrediente(nombre='Cacao en polvo', cantidad=0.75, unidad='tazas')] tiempo_preparacion_min=90\n",
      "\n",
      "Tipo de 'tiempo_preparacion_min': <class 'int'>\n"
     ]
    }
   ],
   "source": [
    "# Modelo estricto para una receta de cocina\n",
    "class Ingrediente(BaseModel):\n",
    "    nombre: str\n",
    "    cantidad: float\n",
    "    unidad: str\n",
    "\n",
    "class Receta(BaseModel):\n",
    "    nombre_receta: str\n",
    "    ingredientes: List[Ingrediente]\n",
    "    tiempo_preparacion_min: int\n",
    "\n",
    "# Salida simulada de un LLM (en formato string JSON)\n",
    "# Notar que 'tiempo_preparacion_min' es un string y hay un campo extra 'dificultad'\n",
    "salida_llm = '''\n",
    "{\n",
    "    \"nombre_receta\": \"Torta de Chocolate\",\n",
    "    \"ingredientes\": [\n",
    "        {\"nombre\": \"Harina\", \"cantidad\": 2.5, \"unidad\": \"tazas\"},\n",
    "        {\"nombre\": \"Azúcar\", \"cantidad\": 2, \"unidad\": \"tazas\"},\n",
    "        {\"nombre\": \"Cacao en polvo\", \"cantidad\": 0.75, \"unidad\": \"tazas\"}\n",
    "    ],\n",
    "    \"tiempo_preparacion_min\": \"90\",\n",
    "    \"dificultad\": \"media\" \n",
    "}\n",
    "'''\n",
    "\n",
    "print(\"--- Salida cruda del LLM ---\")\n",
    "print(salida_llm)\n",
    "\n",
    "# Proceso de validación:\n",
    "# Pydantic automáticamente:\n",
    "# 1. Convertirá 'tiempo_preparacion_min' de string a int.\n",
    "# 2. Ignorará el campo extra 'dificultad' que no está en el modelo.\n",
    "# 3. Validará que 'ingredientes' sea una lista de objetos que cumplen con el modelo 'Ingrediente'.\n",
    "\n",
    "try:\n",
    "    receta_validada = Receta.model_validate_json(salida_llm)\n",
    "    print(\"\\n--- ✅ Datos del LLM validados y estructurados ---\")\n",
    "    print(receta_validada)\n",
    "    print(\"\\nTipo de 'tiempo_preparacion_min':\", type(receta_validada.tiempo_preparacion_min))\n",
    "except ValidationError as e:\n",
    "    print(f\"\\n--- ❌ Error al validar la salida del LLM ---\\n{e}\")"
   ]
  },
  {
   "cell_type": "markdown",
   "id": "conclusion",
   "metadata": {},
   "source": [
    "## <span style=\"color:#ff7800;\">Conclusión</span>\n",
    "\n",
    "Pydantic es una herramienta indispensable para escribir código Python robusto y fiable. Al definir explícitamente la estructura de sus datos, no solo previene errores, sino que también mejora la legibilidad del código y la experiencia de desarrollo gracias al autocompletado y la verificación de tipos de los editores modernos."
   ]
  }
 ],
 "metadata": {
  "kernelspec": {
   "display_name": "fundamentos",
   "language": "python",
   "name": "python3"
  },
  "language_info": {
   "codemirror_mode": {
    "name": "ipython",
    "version": 3
   },
   "file_extension": ".py",
   "mimetype": "text/x-python",
   "name": "python",
   "nbconvert_exporter": "python",
   "pygments_lexer": "ipython3",
   "version": "3.13.5"
  }
 },
 "nbformat": 4,
 "nbformat_minor": 5
}
