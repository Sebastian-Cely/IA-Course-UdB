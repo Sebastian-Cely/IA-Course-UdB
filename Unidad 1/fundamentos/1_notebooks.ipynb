{
 "cells": [
  {
   "cell_type": "markdown",
   "id": "5c291475-8c7c-461c-9b12-545a887b2432",
   "metadata": {},
   "source": [
    "# <span style=\"color: #00bfff;\">Notebooks en Visual Studio Code</span>\n",
    "\n",
    "> *Modificado de las guías del repositorio ``agents`` de [Ed Donner](https://github.com/ed-donner/agents/tree/main).* \n",
    "\n",
    "Este curso hace un uso intensivo de una herramienta llamada Notebooks (también conocida como Jupyter Notebooks o Labs). Como científicos de datos, hay mucha exploración y experimentación. Y los Notebooks son ideales para este tipo de actividad.\n",
    "\n",
    "Un notebook es un archivo con la extensión \".ipynb\", que significa IPython Notebook, un nombre antiguo para estos.\n",
    "\n",
    "## <span style=\"color:#00bfff;\">Una guía más amplia sobre Notebooks con ejemplos</span>\n",
    "\n",
    "El Notebook es un campo de juego para la Ciencia de Datos donde puedes escribir código fácilmente e investigar los resultados. Es un entorno ideal para:\n",
    "- Investigación y Desarrollo\n",
    "- Prototipado\n",
    "- Aprendizaje\n",
    "\n",
    "El notebook consta de una serie de cajas cuadradas llamadas \"celdas\". Algunas de ellas contienen texto, como esta celda, y otras contienen código, como la celda de abajo.\n",
    "\n",
    "Primero, es posible que debas hacer clic en el botón `Select Kernel` en la esquina superior derecha y luego elegir `venv (Python 3.12.x)` o similar.\n",
    "\n",
    "Haz clic en una celda con código y presiona `Shift + Return` (o `Shift + Enter`) para ejecutar el código e imprimir el resultado.\n",
    "\n",
    "Hazlo ahora para la celda debajo de esta:"
   ]
  },
  {
   "cell_type": "code",
   "execution_count": 1,
   "id": "33d37cd8-55c9-4e03-868c-34aa9cab2c80",
   "metadata": {},
   "outputs": [
    {
     "data": {
      "text/plain": [
       "4"
      ]
     },
     "execution_count": 1,
     "metadata": {},
     "output_type": "execute_result"
    }
   ],
   "source": [
    "# Haz clic en cualquier parte de esta celda y presiona Shift + Return\n",
    "\n",
    "2 + 2"
   ]
  },
  {
   "cell_type": "markdown",
   "id": "9e95df7b-55c6-4204-b8f9-cae83360fc23",
   "metadata": {},
   "source": [
    "## <span style=\"color:#00bfff;\">¡Felicidades!</span>\n",
    "\n",
    "Ahora ejecuta la siguiente celda que establece un valor, seguida de las celdas posteriores para imprimir el valor."
   ]
  },
  {
   "cell_type": "code",
   "execution_count": 2,
   "id": "585eb9c1-85ee-4c27-8dc2-b4d8d022eda0",
   "metadata": {},
   "outputs": [],
   "source": [
    "# Establece un valor para una variable\n",
    "\n",
    "fruta_favorita = \"bananas\""
   ]
  },
  {
   "cell_type": "code",
   "execution_count": 3,
   "id": "07792faa-761d-46cb-b9b7-2bbf70bb1628",
   "metadata": {},
   "outputs": [
    {
     "data": {
      "text/plain": [
       "'bananas'"
      ]
     },
     "execution_count": 3,
     "metadata": {},
     "output_type": "execute_result"
    }
   ],
   "source": [
    "# El resultado de la última instrucción se muestra después de ejecutarla\n",
    "\n",
    "fruta_favorita"
   ]
  },
  {
   "cell_type": "code",
   "execution_count": 4,
   "id": "a067d2b1-53d5-4aeb-8a3c-574d39ff654a",
   "metadata": {},
   "outputs": [
    {
     "name": "stdout",
     "output_type": "stream",
     "text": [
      "Mi fruta favorita es bananas\n"
     ]
    }
   ],
   "source": [
    "# Usa la variable\n",
    "\n",
    "print(f\"Mi fruta favorita es {fruta_favorita}\")"
   ]
  },
  {
   "cell_type": "code",
   "execution_count": 5,
   "id": "4c5a4e60-b7f4-4953-9e80-6d84ba4664ad",
   "metadata": {},
   "outputs": [],
   "source": [
    "# Ahora cambia la variable\n",
    "\n",
    "fruta_favorita = f\"cualquier cosa menos {fruta_favorita}\""
   ]
  },
  {
   "cell_type": "markdown",
   "id": "9442d5c9-f57d-4839-b0af-dce58646c04f",
   "metadata": {},
   "source": [
    "## <span style=\"color:#00bfff;\">Ahora regresa y vuelve a ejecutar la celda con la instrucción de impresión, dos celdas atrás</span>\n",
    "\n",
    "¿Ves cómo imprime algo diferente, a pesar de que fruta_favorita se cambió más abajo en el notebook?\n",
    "\n",
    "El orden en que aparece el código en el notebook no importa. Lo que importa es el orden en que el código es **ejecutado**. Hay un proceso de Python ejecutándose detrás de este notebook en el que las variables están siendo cambiadas."
   ]
  },
  {
   "cell_type": "code",
   "execution_count": 6,
   "id": "8e5ec81d-7c5b-4025-bd2e-468d67b581b6",
   "metadata": {},
   "outputs": [
    {
     "name": "stdout",
     "output_type": "stream",
     "text": [
      "Mi fruta favorita es cualquier cosa menos bananas\n"
     ]
    }
   ],
   "source": [
    "# Luego ejecuta esta celda dos veces y ve si entiendes lo que está pasando\n",
    "\n",
    "print(f\"Mi fruta favorita es {fruta_favorita}\")\n",
    "\n",
    "fruta_favorita = \"manzanas\""
   ]
  },
  {
   "cell_type": "markdown",
   "id": "a29dab2d-bab9-4a54-8504-05e62594cc6f",
   "metadata": {},
   "source": [
    "# <span style=\"color:#00bfff;\">Explicando el 'kernel'</span>\n",
    "\n",
    "Detrás de este notebook hay un proceso de Python que ejecuta cada celda cuando la corres. Ese proceso de Python se conoce como el Kernel. Cada notebook tiene su propio Kernel separado.\n",
    "\n",
    "Puedes hacer clic en el botón de arriba \"Restart Kernel\".\n",
    "\n",
    "Si luego intentas ejecutar la siguiente celda, obtendrás un error, porque `fruta_favorita` ya no está definida. Necesitarás ejecutar las celdas desde el principio del notebook nuevamente. Entonces la siguiente celda debería funcionar sin problemas."
   ]
  },
  {
   "cell_type": "code",
   "execution_count": 7,
   "id": "84b1e410-5eda-4e2c-97ce-4eebcff816c5",
   "metadata": {},
   "outputs": [
    {
     "name": "stdout",
     "output_type": "stream",
     "text": [
      "Mi fruta favorita es manzanas\n"
     ]
    }
   ],
   "source": [
    "print(f\"Mi fruta favorita es {fruta_favorita}\")"
   ]
  },
  {
   "cell_type": "markdown",
   "id": "4d4188fc-d9cc-42be-8b4e-ae8630456764",
   "metadata": {},
   "source": [
    "# <span style=\"color:#00bfff;\">Añadir y eliminar celdas</span>\n",
    "\n",
    "Haz clic en esta celda, luego haz clic en el botón `[+ Código]` en la barra de herramientas de arriba para crear una nueva celda inmediatamente debajo de esta. ¡Copia y pega el código de la celda anterior, y luego ejecútalo! También hay iconos en la esquina superior derecha de la celda seleccionada para eliminarla (papelera)."
   ]
  },
  {
   "cell_type": "code",
   "execution_count": null,
   "id": "ce258424-40c3-49a7-9462-e6fa25014b03",
   "metadata": {},
   "outputs": [],
   "source": []
  },
  {
   "cell_type": "markdown",
   "id": "30e71f50-8f01-470a-9d7a-b82a6cef4236",
   "metadata": {},
   "source": [
    "# <span style=\"color:#00bfff;\">Salida de la celda</span>\n",
    "\n",
    "Cuando ejecutas una celda, la salida estándar y el resultado de la última instrucción se escriben en el área inmediatamente debajo del código, conocida como la 'salida de la celda'. Cuando guardas un Notebook desde el menú de archivo (o ctrl+S o command+S), la salida también se guarda, convirtiéndolo en un registro útil de lo que sucedió.\n",
    "\n",
    "Puedes limpiar esto haciendo clic en \"Clear All Outputs\" en la barra de herramientas. Es una buena idea limpiar las salidas antes de enviar código a un repositorio como GitHub, de lo contrario, los archivos pueden ser grandes y más difíciles de leer."
   ]
  },
  {
   "cell_type": "code",
   "execution_count": 8,
   "id": "a4d021e2-c284-411f-8ab1-030530cfbe72",
   "metadata": {},
   "outputs": [
    {
     "name": "stdout",
     "output_type": "stream",
     "text": [
      "['spam', 'spam', 'spam', 'spam', 'spam', 'spam', 'spam', 'spam', 'spam', 'spam', 'spam', 'spam', 'spam', 'spam', 'spam', 'spam', 'spam', 'spam', 'spam', 'spam', 'spam', 'spam', 'spam', 'spam', 'spam', 'spam', 'spam', 'spam', 'spam', 'spam', 'spam', 'spam', 'spam', 'spam', 'spam', 'spam', 'spam', 'spam', 'spam', 'spam', 'spam', 'spam', 'spam', 'spam', 'spam', 'spam', 'spam', 'spam', 'spam', 'spam', 'spam', 'spam', 'spam', 'spam', 'spam', 'spam', 'spam', 'spam', 'spam', 'spam', 'spam', 'spam', 'spam', 'spam', 'spam', 'spam', 'spam', 'spam', 'spam', 'spam', 'spam', 'spam', 'spam', 'spam', 'spam', 'spam', 'spam', 'spam', 'spam', 'spam', 'spam', 'spam', 'spam', 'spam', 'spam', 'spam', 'spam', 'spam', 'spam', 'spam', 'spam', 'spam', 'spam', 'spam', 'spam', 'spam', 'spam', 'spam', 'spam', 'spam', 'spam', 'spam', 'spam', 'spam', 'spam', 'spam', 'spam', 'spam', 'spam', 'spam', 'spam', 'spam', 'spam', 'spam', 'spam', 'spam', 'spam', 'spam', 'spam', 'spam', 'spam', 'spam', 'spam', 'spam', 'spam', 'spam', 'spam', 'spam', 'spam', 'spam', 'spam', 'spam', 'spam', 'spam', 'spam', 'spam', 'spam', 'spam', 'spam', 'spam', 'spam', 'spam', 'spam', 'spam', 'spam', 'spam', 'spam', 'spam', 'spam', 'spam', 'spam', 'spam', 'spam', 'spam', 'spam', 'spam', 'spam', 'spam', 'spam', 'spam', 'spam', 'spam', 'spam', 'spam', 'spam', 'spam', 'spam', 'spam', 'spam', 'spam', 'spam', 'spam', 'spam', 'spam', 'spam', 'spam', 'spam', 'spam', 'spam', 'spam', 'spam', 'spam', 'spam', 'spam', 'spam', 'spam', 'spam', 'spam', 'spam', 'spam', 'spam', 'spam', 'spam', 'spam', 'spam', 'spam', 'spam', 'spam', 'spam', 'spam', 'spam', 'spam', 'spam', 'spam', 'spam', 'spam', 'spam', 'spam', 'spam', 'spam', 'spam', 'spam', 'spam', 'spam', 'spam', 'spam', 'spam', 'spam', 'spam', 'spam', 'spam', 'spam', 'spam', 'spam', 'spam', 'spam', 'spam', 'spam', 'spam', 'spam', 'spam', 'spam', 'spam', 'spam', 'spam', 'spam', 'spam', 'spam', 'spam', 'spam', 'spam', 'spam', 'spam', 'spam', 'spam', 'spam', 'spam', 'spam', 'spam', 'spam', 'spam', 'spam', 'spam', 'spam', 'spam', 'spam', 'spam', 'spam', 'spam', 'spam', 'spam', 'spam', 'spam', 'spam', 'spam', 'spam', 'spam', 'spam', 'spam', 'spam', 'spam', 'spam', 'spam', 'spam', 'spam', 'spam', 'spam', 'spam', 'spam', 'spam', 'spam', 'spam', 'spam', 'spam', 'spam', 'spam', 'spam', 'spam', 'spam', 'spam', 'spam', 'spam', 'spam', 'spam', 'spam', 'spam', 'spam', 'spam', 'spam', 'spam', 'spam', 'spam', 'spam', 'spam', 'spam', 'spam', 'spam', 'spam', 'spam', 'spam', 'spam', 'spam', 'spam', 'spam', 'spam', 'spam', 'spam', 'spam', 'spam', 'spam', 'spam', 'spam', 'spam', 'spam', 'spam', 'spam', 'spam', 'spam', 'spam', 'spam', 'spam', 'spam', 'spam', 'spam', 'spam', 'spam', 'spam', 'spam', 'spam', 'spam', 'spam', 'spam', 'spam', 'spam', 'spam', 'spam', 'spam', 'spam', 'spam', 'spam', 'spam', 'spam', 'spam', 'spam', 'spam', 'spam', 'spam', 'spam', 'spam', 'spam', 'spam', 'spam', 'spam', 'spam', 'spam', 'spam', 'spam', 'spam', 'spam', 'spam', 'spam', 'spam', 'spam', 'spam', 'spam', 'spam', 'spam', 'spam', 'spam', 'spam', 'spam', 'spam', 'spam', 'spam', 'spam', 'spam', 'spam', 'spam', 'spam', 'spam', 'spam', 'spam', 'spam', 'spam', 'spam', 'spam', 'spam', 'spam', 'spam', 'spam', 'spam', 'spam', 'spam', 'spam', 'spam', 'spam', 'spam', 'spam', 'spam', 'spam', 'spam', 'spam', 'spam', 'spam', 'spam', 'spam', 'spam', 'spam', 'spam', 'spam', 'spam', 'spam', 'spam', 'spam', 'spam', 'spam', 'spam', 'spam', 'spam', 'spam', 'spam', 'spam', 'spam', 'spam', 'spam', 'spam', 'spam', 'spam', 'spam', 'spam', 'spam', 'spam', 'spam', 'spam', 'spam', 'spam', 'spam', 'spam', 'spam', 'spam', 'spam', 'spam', 'spam', 'spam', 'spam', 'spam', 'spam', 'spam', 'spam', 'spam', 'spam', 'spam', 'spam', 'spam', 'spam', 'spam', 'spam', 'spam', 'spam', 'spam', 'spam', 'spam', 'spam', 'spam', 'spam', 'spam', 'spam', 'spam', 'spam', 'spam', 'spam', 'spam', 'spam', 'spam', 'spam', 'spam', 'spam', 'spam', 'spam', 'spam', 'spam', 'spam', 'spam', 'spam', 'spam', 'spam', 'spam', 'spam', 'spam', 'spam', 'spam', 'spam', 'spam', 'spam', 'spam', 'spam', 'spam', 'spam', 'spam', 'spam', 'spam', 'spam', 'spam', 'spam', 'spam', 'spam', 'spam', 'spam', 'spam', 'spam', 'spam', 'spam', 'spam', 'spam', 'spam', 'spam', 'spam', 'spam', 'spam', 'spam', 'spam', 'spam', 'spam', 'spam', 'spam', 'spam', 'spam', 'spam', 'spam', 'spam', 'spam', 'spam', 'spam', 'spam', 'spam', 'spam', 'spam', 'spam', 'spam', 'spam', 'spam', 'spam', 'spam', 'spam', 'spam', 'spam', 'spam', 'spam', 'spam', 'spam', 'spam', 'spam', 'spam', 'spam', 'spam', 'spam', 'spam', 'spam', 'spam', 'spam', 'spam', 'spam', 'spam', 'spam', 'spam', 'spam', 'spam', 'spam', 'spam', 'spam', 'spam', 'spam', 'spam', 'spam', 'spam', 'spam', 'spam', 'spam', 'spam', 'spam', 'spam', 'spam', 'spam', 'spam', 'spam', 'spam', 'spam', 'spam', 'spam', 'spam', 'spam', 'spam', 'spam', 'spam', 'spam', 'spam', 'spam', 'spam', 'spam', 'spam', 'spam', 'spam', 'spam', 'spam', 'spam', 'spam', 'spam', 'spam', 'spam', 'spam', 'spam', 'spam', 'spam', 'spam', 'spam', 'spam', 'spam', 'spam', 'spam', 'spam', 'spam', 'spam', 'spam', 'spam', 'spam', 'spam', 'spam', 'spam', 'spam', 'spam', 'spam', 'spam', 'spam', 'spam', 'spam', 'spam', 'spam', 'spam', 'spam', 'spam', 'spam', 'spam', 'spam', 'spam', 'spam', 'spam', 'spam', 'spam', 'spam', 'spam', 'spam', 'spam', 'spam', 'spam', 'spam', 'spam', 'spam', 'spam', 'spam', 'spam', 'spam', 'spam', 'spam', 'spam', 'spam', 'spam', 'spam', 'spam', 'spam', 'spam', 'spam', 'spam', 'spam', 'spam', 'spam', 'spam', 'spam', 'spam', 'spam', 'spam', 'spam', 'spam', 'spam', 'spam', 'spam', 'spam', 'spam', 'spam', 'spam', 'spam', 'spam', 'spam', 'spam', 'spam', 'spam', 'spam', 'spam', 'spam', 'spam', 'spam', 'spam', 'spam', 'spam', 'spam', 'spam', 'spam', 'spam', 'spam', 'spam', 'spam', 'spam', 'spam', 'spam', 'spam', 'spam', 'spam', 'spam', 'spam', 'spam', 'spam', 'spam', 'spam', 'spam', 'spam', 'spam', 'spam', 'spam', 'spam', 'spam', 'spam', 'spam', 'spam', 'spam', 'spam', 'spam', 'spam', 'spam', 'spam', 'spam', 'spam', 'spam', 'spam', 'spam', 'spam', 'spam', 'spam', 'spam', 'spam', 'spam', 'spam', 'spam', 'spam', 'spam', 'spam', 'spam', 'spam', 'spam', 'spam', 'spam', 'spam', 'spam', 'spam', 'spam', 'spam', 'spam', 'spam', 'spam', 'spam', 'spam', 'spam', 'spam', 'spam', 'spam', 'spam', 'spam', 'spam', 'spam', 'spam', 'spam', 'spam', 'spam', 'spam', 'spam', 'spam', 'spam', 'spam', 'spam', 'spam', 'spam', 'spam', 'spam', 'spam', 'spam', 'spam', 'spam', 'spam', 'spam', 'spam', 'spam', 'spam', 'spam', 'spam', 'spam', 'spam', 'spam', 'spam', 'spam', 'spam', 'spam', 'spam', 'spam', 'spam', 'spam', 'spam', 'spam', 'spam', 'spam', 'spam', 'spam', 'spam', 'spam', 'spam', 'spam', 'spam', 'spam', 'spam', 'spam', 'spam', 'spam', 'spam', 'spam', 'spam', 'spam', 'spam', 'spam', 'spam', 'spam', 'spam', 'spam', 'spam', 'spam', 'spam', 'spam', 'spam', 'spam', 'spam', 'spam', 'spam', 'spam', 'spam', 'spam', 'spam', 'spam', 'spam', 'spam', 'spam', 'spam', 'spam', 'spam', 'spam', 'spam', 'spam', 'spam', 'spam', 'spam', 'spam', 'spam', 'spam', 'spam', 'spam', 'spam', 'spam', 'spam', 'spam', 'spam', 'spam', 'spam', 'spam', 'spam', 'spam', 'spam', 'spam', 'spam', 'spam', 'spam', 'spam', 'spam', 'spam', 'spam', 'spam', 'spam', 'spam', 'spam', 'spam', 'spam', 'spam', 'spam', 'spam', 'spam', 'spam', 'spam', 'spam', 'spam', 'spam', 'spam', 'spam', 'spam', 'spam', 'spam', 'spam', 'spam', 'spam', 'spam', 'spam', 'spam', 'spam', 'spam', 'spam', 'spam', 'spam', 'spam', 'spam', 'spam', 'spam', 'spam', 'spam', 'spam', 'spam', 'spam', 'spam', 'spam', 'spam', 'spam', 'spam', 'spam', 'spam', 'spam', 'spam', 'spam', 'spam', 'spam', 'spam', 'spam', 'spam', 'spam', 'spam', 'spam', 'spam', 'spam', 'spam', 'spam', 'spam', 'spam', 'spam', 'spam', 'spam', 'spam', 'spam', 'spam', 'spam', 'spam', 'spam', 'spam', 'spam', 'spam', 'spam', 'spam', 'spam', 'spam', 'spam', 'spam', 'spam', 'spam', 'spam', 'spam', 'spam', 'spam', 'spam', 'spam', 'spam', 'spam', 'spam', 'spam', 'spam', 'spam', 'spam', 'spam', 'spam', 'spam', 'spam']\n"
     ]
    }
   ],
   "source": [
    "spams = [\"spam\"] * 1000\n",
    "print(spams)\n",
    "\n",
    "# ¡Podría valer la pena limpiar la salida después de ejecutar esto!"
   ]
  },
  {
   "cell_type": "markdown",
   "id": "eac060f2-7a71-46e7-8235-b6ad0a76f5f8",
   "metadata": {},
   "source": [
    "# <span style=\"color:#00bfff;\">Usando markdown</span>\n",
    "\n",
    "Entonces, ¿qué pasa con estas áreas con texto, como esta? Bueno, en realidad hay un tipo diferente de celda llamada celda 'Markdown' para agregar explicaciones como esta. Haz clic en el botón [+ Markdown] para agregar una nueva celda de markdown.\n",
    "\n",
    "Agrega algunos comentarios usando el formato Markdown, quizás copiando y pegando desde aquí:\n",
    "\n",
    "```\n",
    "# Este es un encabezado\n",
    "## Este es un sub-encabezado\n",
    "### Y un sub-sub-encabezado\n",
    "\n",
    "Me gusta Jupyter Lab porque es\n",
    "- Fácil\n",
    "- Flexible\n",
    "- Satisfactorio\n",
    "```\n",
    "\n",
    "Y para convertir esto en texto formateado simplemente presiona Shift+Return en la celda.\n",
    "Haz clic en la celda y presiona el icono de la Papelera si quieres eliminarla."
   ]
  },
  {
   "cell_type": "code",
   "execution_count": null,
   "id": "e1586320-c90f-4f22-8b39-df6865484950",
   "metadata": {},
   "outputs": [],
   "source": []
  },
  {
   "cell_type": "markdown",
   "id": "1330c83c-67ac-4ca0-ac92-a71699e0c31b",
   "metadata": {},
   "source": [
    "# <span style=\"color:#00bfff;\">El signo de exclamación</span>\n",
    "\n",
    "Hay una característica súper útil de los jupyter labs; puedes escribir un comando con un ! delante en una celda de código, como:\n",
    "\n",
    "!ls\n",
    "!pwd\n",
    "\n",
    "Y lo ejecutará en la línea de comandos (como si estuviera en Windows Powershell o en la Terminal de Mac) e imprimirá el resultado"
   ]
  },
  {
   "cell_type": "code",
   "execution_count": null,
   "id": "82042fc5-a907-4381-a4b8-eb9386df19cd",
   "metadata": {},
   "outputs": [],
   "source": [
    "# listar el directorio actual\n",
    "\n",
    "# !ls # Para ejecutar comandos en la terminal de Linux o Mac\n",
    "%ls  # Para ejecutar comandos en la terminal de Windows "
   ]
  },
  {
   "cell_type": "code",
   "execution_count": null,
   "id": "4fc3e3da-8a55-40cc-9706-48bf12a0e20e",
   "metadata": {},
   "outputs": [],
   "source": [
    "# pwd  # Para mostrar el directorio de trabajo actual\n",
    "\n",
    "# !pwd # Para ejecutar comandos en la terminal de Linux o Mac\n",
    "%pwd  # Para ejecutar comandos en la terminal de Windows"
   ]
  },
  {
   "cell_type": "markdown",
   "id": "4688baaf-a72c-41b5-90b6-474cb24790a7",
   "metadata": {},
   "source": [
    "# <span style=\"color:#00bfff;\">Pequeñas cosas que encontramos en el curso</span>\n",
    "\n",
    "Esto no es necesariamente una característica de los notebooks, pero es un buen paquete para conocer que es útil en los notebooks.\n",
    "\n",
    "El paquete `tqdm` imprimirá una bonita barra de progreso si envuelves cualquier iterable."
   ]
  },
  {
   "cell_type": "code",
   "execution_count": 9,
   "id": "2646a4e5-3c23-4aee-a34d-d623815187d2",
   "metadata": {},
   "outputs": [],
   "source": [
    "# Aquí hay algo de código sin barra de progreso\n",
    "# Tardará 10 segundos mientras te preguntas qué está pasando...\n",
    "\n",
    "import time\n",
    "\n",
    "spams = [\"spam\"] * 1000\n",
    "\n",
    "for spam in spams:\n",
    "    time.sleep(0.01)"
   ]
  },
  {
   "cell_type": "code",
   "execution_count": 10,
   "id": "6e96be3d-fa82-42a3-a8aa-b81dd20563a5",
   "metadata": {},
   "outputs": [
    {
     "name": "stderr",
     "output_type": "stream",
     "text": [
      "100%|██████████| 1000/1000 [00:10<00:00, 94.50it/s]\n"
     ]
    }
   ],
   "source": [
    "# Y ahora, con una bonita barra de progreso:\n",
    "\n",
    "import time\n",
    "from tqdm import tqdm\n",
    "\n",
    "spams = [\"spam\"] * 1000\n",
    "\n",
    "for spam in tqdm(spams):\n",
    "    time.sleep(0.01)"
   ]
  },
  {
   "cell_type": "code",
   "execution_count": 11,
   "id": "63c788dd-4618-4bb4-a5ce-204411a38ade",
   "metadata": {},
   "outputs": [
    {
     "data": {
      "text/markdown": [
       "# ¡Este es un gran encabezado!\n",
       "\n",
       "- Y este es un punto de viñeta\n",
       "- Este también\n",
       "- ¡Yo también!"
      ],
      "text/plain": [
       "<IPython.core.display.Markdown object>"
      ]
     },
     "metadata": {},
     "output_type": "display_data"
    }
   ],
   "source": [
    "# En otro tema, aquí hay una forma útil de imprimir resultados en markdown\n",
    "\n",
    "from IPython.display import Markdown, display\n",
    "\n",
    "display(Markdown(\"# ¡Este es un gran encabezado!\\n\\n- Y este es un punto de viñeta\\n- Este también\\n- ¡Yo también!\"))\n"
   ]
  },
  {
   "cell_type": "markdown",
   "id": "9d14c1fb-3321-4387-b6ca-9af27676f980",
   "metadata": {},
   "source": [
    "# <span style=\"color:#ff7800;\">¡Eso es todo! Ya estás al día con los Notebooks / Labs en Visual Studio Code.</span>"
   ]
  }
 ],
 "metadata": {
  "kernelspec": {
   "display_name": "fundamentos",
   "language": "python",
   "name": "python3"
  },
  "language_info": {
   "codemirror_mode": {
    "name": "ipython",
    "version": 3
   },
   "file_extension": ".py",
   "mimetype": "text/x-python",
   "name": "python",
   "nbconvert_exporter": "python",
   "pygments_lexer": "ipython3",
   "version": "3.13.5"
  }
 },
 "nbformat": 4,
 "nbformat_minor": 5
}
