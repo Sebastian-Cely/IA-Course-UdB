{
 "cells": [
  {
   "cell_type": "markdown",
   "id": "5c291475-8c7c-461c-9b12-545a887b2432",
   "metadata": {},
   "source": [
    "# Nivel Intermedio de Python\n",
    "\n",
    "## Un resumen de las características más avanzadas de Python\n",
    "\n",
    "Esta sección asume que ya conoces los fundamentos.\n",
    "\n",
    "1. Comprensiones (Comprehensions)\n",
    "2. Generadores (Generators)\n",
    "3. Subclases, Indicadores de Tipo (Type Hints), Pydantic\n",
    "4. Decoradores (Decorators)\n",
    "5. Docker (no es realmente Python, ¡pero lo usamos para ejecutar código de Python!)"
   ]
  },
  {
   "cell_type": "code",
   "execution_count": 1,
   "id": "5802e2f0-0ea0-4237-bbb7-f375a34260f0",
   "metadata": {},
   "outputs": [],
   "source": [
    "# Primero, creemos algunas cosas:\n",
    "\n",
    "fruits = [\"Apples\", \"Bananas\", \"Pears\"]\n",
    "\n",
    "book1 = {\"title\": \"Great Expectations\", \"author\": \"Charles Dickens\"}\n",
    "book2 = {\"title\": \"Bleak House\", \"author\": \"Charles Dickens\"}\n",
    "book3 = {\"title\": \"An Book By No Author\"}\n",
    "book4 = {\"title\": \"Moby Dick\", \"author\": \"Herman Melville\"}\n",
    "\n",
    "books = [book1, book2, book3, book4]"
   ]
  },
  {
   "cell_type": "markdown",
   "id": "9b941e6a-3658-4144-a8d4-72f5e72f3707",
   "metadata": {},
   "source": [
    "# Parte 1: Comprensiones de listas y diccionarios"
   ]
  },
  {
   "cell_type": "code",
   "execution_count": 2,
   "id": "61992bb8-735d-4dad-8747-8c10b63aec82",
   "metadata": {},
   "outputs": [
    {
     "name": "stdout",
     "output_type": "stream",
     "text": [
      "Apples\n",
      "Bananas\n",
      "Pears\n"
     ]
    }
   ],
   "source": [
    "# Suficientemente simple para empezar\n",
    "\n",
    "for fruit in fruits:\n",
    "    print(fruit)"
   ]
  },
  {
   "cell_type": "code",
   "execution_count": 3,
   "id": "c89c3842-9b74-47fa-8424-0fcb08e4177c",
   "metadata": {},
   "outputs": [
    {
     "data": {
      "text/plain": [
       "['APPLES', 'BANANAS', 'PEARS']"
      ]
     },
     "execution_count": 3,
     "metadata": {},
     "output_type": "execute_result"
    }
   ],
   "source": [
    "# Hagamos una nueva versión de las frutas\n",
    "\n",
    "fruits_shouted = []\n",
    "for fruit in fruits:\n",
    "    fruits_shouted.append(fruit.upper())\n",
    "\n",
    "fruits_shouted"
   ]
  },
  {
   "cell_type": "code",
   "execution_count": 4,
   "id": "4ec13b3a-9545-44f1-874a-2910a0663560",
   "metadata": {},
   "outputs": [
    {
     "data": {
      "text/plain": [
       "['APPLES', 'BANANAS', 'PEARS']"
      ]
     },
     "execution_count": 4,
     "metadata": {},
     "output_type": "execute_result"
    }
   ],
   "source": [
    "# Probablemente ya conozcas esto\n",
    "# Existe una construcción agradable en Python llamada \"comprensión de listas\" que hace esto:\n",
    "\n",
    "fruits_shouted2 = [fruit.upper() for fruit in fruits]\n",
    "fruits_shouted2"
   ]
  },
  {
   "cell_type": "code",
   "execution_count": 5,
   "id": "ecc08c3c-181d-4b64-a3e1-b0ccffc6c0cd",
   "metadata": {},
   "outputs": [
    {
     "data": {
      "text/plain": [
       "{'Apples': 'APPLES', 'Bananas': 'BANANAS', 'Pears': 'PEARS'}"
      ]
     },
     "execution_count": 5,
     "metadata": {},
     "output_type": "execute_result"
    }
   ],
   "source": [
    "# Pero puede que no sepas que también puedes hacer esto para crear diccionarios:\n",
    "\n",
    "fruit_mapping = {fruit: fruit.upper() for fruit in fruits}\n",
    "fruit_mapping"
   ]
  },
  {
   "cell_type": "code",
   "execution_count": 6,
   "id": "500c2406-00d2-4793-b57b-f49b612760c8",
   "metadata": {},
   "outputs": [
    {
     "data": {
      "text/plain": [
       "['APPLES', 'BANANAS']"
      ]
     },
     "execution_count": 6,
     "metadata": {},
     "output_type": "execute_result"
    }
   ],
   "source": [
    "# también puedes usar la declaración if para filtrar los resultados\n",
    "\n",
    "fruits_with_longer_names_shouted = [fruit.upper() for fruit in fruits if len(fruit)>5]\n",
    "fruits_with_longer_names_shouted"
   ]
  },
  {
   "cell_type": "code",
   "execution_count": 7,
   "id": "38c11c34-d71e-45ba-945b-a3d37dc29793",
   "metadata": {},
   "outputs": [
    {
     "data": {
      "text/plain": [
       "{'Bananas': 'BANANAS', 'Pears': 'PEARS'}"
      ]
     },
     "execution_count": 7,
     "metadata": {},
     "output_type": "execute_result"
    }
   ],
   "source": [
    "fruit_mapping_unless_starts_with_a = {fruit: fruit.upper() for fruit in fruits if not fruit.startswith('A')}\n",
    "fruit_mapping_unless_starts_with_a "
   ]
  },
  {
   "cell_type": "code",
   "execution_count": 8,
   "id": "5c97d8e8-31de-4afa-973e-28d8e5cab749",
   "metadata": {},
   "outputs": [
    {
     "data": {
      "text/plain": [
       "['Great Expectations', 'Bleak House', 'An Book By No Author', 'Moby Dick']"
      ]
     },
     "execution_count": 8,
     "metadata": {},
     "output_type": "execute_result"
    }
   ],
   "source": [
    "# Otra comprensión\n",
    "\n",
    "[book['title'] for book in books]"
   ]
  },
  {
   "cell_type": "code",
   "execution_count": 9,
   "id": "50be0edc-a4cd-493f-a680-06080bb497b4",
   "metadata": {},
   "outputs": [
    {
     "ename": "KeyError",
     "evalue": "'author'",
     "output_type": "error",
     "traceback": [
      "\u001b[31m---------------------------------------------------------------------------\u001b[39m",
      "\u001b[31mKeyError\u001b[39m                                  Traceback (most recent call last)",
      "\u001b[36mCell\u001b[39m\u001b[36m \u001b[39m\u001b[32mIn[9]\u001b[39m\u001b[32m, line 3\u001b[39m\n\u001b[32m      1\u001b[39m \u001b[38;5;66;03m# Este código fallará con un error porque uno de nuestros libros no tiene autor\u001b[39;00m\n\u001b[32m----> \u001b[39m\u001b[32m3\u001b[39m [\u001b[43mbook\u001b[49m\u001b[43m[\u001b[49m\u001b[33;43m'\u001b[39;49m\u001b[33;43mauthor\u001b[39;49m\u001b[33;43m'\u001b[39;49m\u001b[43m]\u001b[49m \u001b[38;5;28;01mfor\u001b[39;00m book \u001b[38;5;129;01min\u001b[39;00m books]\n",
      "\u001b[31mKeyError\u001b[39m: 'author'"
     ]
    }
   ],
   "source": [
    "# Este código fallará con un error porque uno de nuestros libros no tiene autor\n",
    "\n",
    "[book['author'] for book in books]"
   ]
  },
  {
   "cell_type": "code",
   "execution_count": 10,
   "id": "53794083-cc09-4edb-b448-2ffb7e8495c2",
   "metadata": {},
   "outputs": [
    {
     "data": {
      "text/plain": [
       "['Charles Dickens', 'Charles Dickens', None, 'Herman Melville']"
      ]
     },
     "execution_count": 10,
     "metadata": {},
     "output_type": "execute_result"
    }
   ],
   "source": [
    "# Pero esto funcionará, porque get() devuelve None\n",
    "\n",
    "[book.get('author') for book in books]"
   ]
  },
  {
   "cell_type": "code",
   "execution_count": 11,
   "id": "b8e4b859-24f8-4016-8d74-c2cef226d049",
   "metadata": {},
   "outputs": [
    {
     "data": {
      "text/plain": [
       "['Charles Dickens', 'Charles Dickens', 'Herman Melville']"
      ]
     },
     "execution_count": 11,
     "metadata": {},
     "output_type": "execute_result"
    }
   ],
   "source": [
    "# Y esta variación filtrará los None\n",
    "\n",
    "[book.get('author') for book in books if book.get('author')]"
   ]
  },
  {
   "cell_type": "code",
   "execution_count": 12,
   "id": "c44bb999-52b4-4dee-810b-8a400db8f25f",
   "metadata": {},
   "outputs": [
    {
     "data": {
      "text/plain": [
       "{'Charles Dickens', 'Herman Melville'}"
      ]
     },
     "execution_count": 12,
     "metadata": {},
     "output_type": "execute_result"
    }
   ],
   "source": [
    "# Y esta versión lo convertirá en un conjunto (set), eliminando duplicados\n",
    "\n",
    "set([book.get('author') for book in books if book.get('author')])"
   ]
  },
  {
   "cell_type": "code",
   "execution_count": 13,
   "id": "80a65156-6192-4bb4-b4e6-df3fdc933891",
   "metadata": {},
   "outputs": [
    {
     "data": {
      "text/plain": [
       "{'Charles Dickens', 'Herman Melville'}"
      ]
     },
     "execution_count": 13,
     "metadata": {},
     "output_type": "execute_result"
    }
   ],
   "source": [
    "# Y finalmente, esta versión es aún mejor\n",
    "# las llaves crean un conjunto (set), por lo que esto es una comprensión de conjuntos\n",
    "\n",
    "{book.get('author') for book in books if book.get('author')}"
   ]
  },
  {
   "cell_type": "markdown",
   "id": "c100e5db-5438-4715-921c-3f7152f83f4a",
   "metadata": {},
   "source": [
    "# Parte 2: Generadores\n",
    "\n",
    "Usamos Generadores en el curso porque los modelos de IA pueden devolver resultados en forma de stream.\n",
    "\n",
    "En Python, los generadores son una forma especial de crear iteradores, que son objetos que se pueden recorrer de uno en uno. Los generadores facilitan el trabajo con datos de uno en uno, especialmente cuando no quieres cargar todo en memoria a la vez.\n",
    "\n",
    "## Conceptos clave\n",
    "1. Los **generadores** permiten iterar sobre los datos sin crear una lista completa en memoria. En su lugar, producen valores de uno en uno a medida que los necesitas.\n",
    "\n",
    "2. **La palabra clave ``yield``** es el núcleo de un generador. Cuando una función tiene yield en lugar de return, se convierte en una función generadora. Cada vez que se llama a yield, la función se detiene, guardando su estado, y devuelve un valor a quien la llamó.\n",
    "\n",
    "3. **Evaluación perezosa:** Los generadores no calculan valores hasta que realmente los necesitas, lo que ahorra memoria.\n",
    "\n",
    "**Escribir una función generadora**\n",
    "He aquí un ejemplo para ilustrar cómo funciona una función generadora.\n",
    "\n",
    "**Ejemplo 1: Función Generadora Simple**\n",
    "Creemos una función generadora que produzca números del 1 al 5, de uno en uno."
   ]
  },
  {
   "cell_type": "code",
   "execution_count": 14,
   "id": "de137117",
   "metadata": {},
   "outputs": [],
   "source": [
    "def number_generator():\n",
    "    for i in range(1, 6):\n",
    "        yield i"
   ]
  },
  {
   "cell_type": "markdown",
   "id": "d906042c",
   "metadata": {},
   "source": [
    "Fíjate en la línea ``yield i`` - esto es lo que hace que number_generator() sea un generador. Cuando llamas a ``yield``, Python pausa la función y guarda el estado actual, e ``i`` es devuelto a quien lo llamó.\n",
    "\n",
    "**Usando el Generador** \n",
    "\n",
    "Para usar el generador, puedes hacer un bucle sobre él o llamar a next() directamente."
   ]
  },
  {
   "cell_type": "code",
   "execution_count": 16,
   "id": "c2b31957",
   "metadata": {},
   "outputs": [
    {
     "name": "stdout",
     "output_type": "stream",
     "text": [
      "1\n",
      "2\n",
      "3\n",
      "4\n",
      "5\n"
     ]
    }
   ],
   "source": [
    "# Crear un generador\n",
    "gen = number_generator()\n",
    "\n",
    "# Usa un bucle para iterar sobre el generador\n",
    "for number in gen:\n",
    "    print(number)\n"
   ]
  },
  {
   "cell_type": "markdown",
   "id": "dfb1533a",
   "metadata": {},
   "source": [
    "**Explicación de la salida**\n",
    "\n",
    "1. Cuando se inicia el bucle ``for``, ``gen`` comienza en el primer valor (1).\n",
    "2. Llama a ``yield`` y produce 1, luego hace una pausa.\n",
    "3. Cada vez que el bucle continúa, el generador se reanuda desde donde lo dejó, produciendo 2, 3, 4, y finalmente 5. \n",
    "4. Después de producir 5, el generador termina.\n",
    "\n",
    "**Usando ``next()`` Directamente**\n",
    "\n",
    "Alternativamente, puedes llamar a ``next()`` en el generador para obtener valores uno a uno."
   ]
  },
  {
   "cell_type": "code",
   "execution_count": 19,
   "id": "a5508d66",
   "metadata": {},
   "outputs": [
    {
     "name": "stdout",
     "output_type": "stream",
     "text": [
      "1\n",
      "2\n"
     ]
    }
   ],
   "source": [
    "gen = number_generator()\n",
    "print(next(gen))  # Output: 1\n",
    "print(next(gen))  # Output: 2\n",
    "# Sigue iterando hasta que se obtiene un error StopIteration\n",
    "# print(next(gen))\n",
    "# print(next(gen))\n",
    "# print(next(gen))\n",
    "# print(next(gen))"
   ]
  },
  {
   "cell_type": "markdown",
   "id": "57fd9fa8",
   "metadata": {},
   "source": [
    "Cuando el generador se agota, al llamar de nuevo a next() lanza una excepción StopIteration.\n",
    "\n",
    "**Ejemplo 2: Generador infinito**\n",
    "\n",
    "Supongamos que desea un generador que siga produciendo números indefinidamente."
   ]
  },
  {
   "cell_type": "code",
   "execution_count": null,
   "id": "d2468320",
   "metadata": {},
   "outputs": [
    {
     "name": "stdout",
     "output_type": "stream",
     "text": [
      "1\n",
      "2\n",
      "3\n",
      "4\n",
      "5\n",
      "6\n",
      "7\n"
     ]
    }
   ],
   "source": [
    "def infinite_generator():\n",
    "    i = 1\n",
    "    while True:\n",
    "        yield i\n",
    "        i += 1\n",
    "\n",
    "# Usando el generador infinito\n",
    "gen = infinite_generator()\n",
    "print(next(gen))  # Output: 1\n",
    "print(next(gen))  # Output: 2\n",
    "print(next(gen))  # Output: 3\n",
    "print(next(gen))  # Output: 4\n",
    "print(next(gen))  # Output: 5\n",
    "print(next(gen))  # Output: 6\n",
    "print(next(gen))  # Output: 7"
   ]
  },
  {
   "cell_type": "markdown",
   "id": "70d5fe63",
   "metadata": {},
   "source": [
    "Dado que este generador no se detiene por sí mismo, se denomina generador infinito. Puedes utilizarlo para casos en los que sólo quieras una parte de la secuencia, como la generación de datos bajo demanda.\n",
    "\n",
    "**Ventajas de los generadores**\n",
    "\n",
    "- **Eficiencia de memoria:** No almacenan todos los valores en memoria; generan cada valor sólo cuando es necesario.\n",
    "- **Evaluación perezosa:** Ideal para grandes conjuntos de datos, ya que calculan los valores sólo cuando es necesario.\n",
    "- **Simplifica el código:** Son una excelente forma de manejar secuencias que se calculan sobre la marcha sin necesidad de estructuras de datos complejas.\n",
    "\n",
    "Los generadores son potentes para manejar conjuntos de datos grandes o potencialmente infinitos de forma eficiente y elegante en Python.\n",
    "\n",
    "**Uso Avanzado de los Generadores**"
   ]
  },
  {
   "cell_type": "code",
   "execution_count": 23,
   "id": "1efc26fa-9144-4352-9a17-dfec1d246aad",
   "metadata": {},
   "outputs": [],
   "source": [
    "# Primero define un generador; parece una función, pero tiene `yield` en lugar de `return`\n",
    "\n",
    "import time\n",
    "\n",
    "def come_up_with_fruit_names():\n",
    "    for fruit in fruits:\n",
    "        time.sleep(1) # pensando en una fruta\n",
    "        yield fruit"
   ]
  },
  {
   "cell_type": "code",
   "execution_count": 24,
   "id": "eac338bb-285c-45c8-8a3e-dbfc41409ca3",
   "metadata": {},
   "outputs": [
    {
     "name": "stdout",
     "output_type": "stream",
     "text": [
      "Apples\n",
      "Bananas\n",
      "Pears\n"
     ]
    }
   ],
   "source": [
    "# Luego úsalo\n",
    "\n",
    "for fruit in come_up_with_fruit_names():\n",
    "    print(fruit)"
   ]
  },
  {
   "cell_type": "code",
   "execution_count": 25,
   "id": "f6880578-a3de-4502-952a-4572b95eb9ff",
   "metadata": {},
   "outputs": [],
   "source": [
    "# Aquí hay otro\n",
    "\n",
    "def authors_generator():\n",
    "    for book in books:\n",
    "        if book.get(\"author\"):\n",
    "            yield book.get(\"author\")"
   ]
  },
  {
   "cell_type": "code",
   "execution_count": 26,
   "id": "9e316f02-f87f-441d-a01f-024ade949607",
   "metadata": {},
   "outputs": [
    {
     "name": "stdout",
     "output_type": "stream",
     "text": [
      "Charles Dickens\n",
      "Charles Dickens\n",
      "Herman Melville\n"
     ]
    }
   ],
   "source": [
    "# Úsalo\n",
    "\n",
    "for author in authors_generator():\n",
    "    print(author)"
   ]
  },
  {
   "cell_type": "code",
   "execution_count": 27,
   "id": "7535c9d0-410e-4e56-a86c-ae6c0e16053f",
   "metadata": {},
   "outputs": [],
   "source": [
    "# Aquí está lo mismo escrito con una comprensión de listas\n",
    "\n",
    "def authors_generator():\n",
    "    for author in [book.get(\"author\") for book in books if book.get(\"author\")]:\n",
    "        yield author"
   ]
  },
  {
   "cell_type": "code",
   "execution_count": 28,
   "id": "dad34494-0f6c-4edb-b03f-b8d49ee186f2",
   "metadata": {},
   "outputs": [
    {
     "name": "stdout",
     "output_type": "stream",
     "text": [
      "Charles Dickens\n",
      "Charles Dickens\n",
      "Herman Melville\n"
     ]
    }
   ],
   "source": [
    "# Úsalo\n",
    "\n",
    "for author in authors_generator():\n",
    "    print(author)"
   ]
  },
  {
   "cell_type": "code",
   "execution_count": 29,
   "id": "abeb7e61-d8aa-4af0-b05a-ae17323e678c",
   "metadata": {},
   "outputs": [],
   "source": [
    "# Aquí hay un buen atajo\n",
    "# Puedes usar \"yield from\" para ceder cada elemento de un iterable\n",
    "\n",
    "def authors_generator():\n",
    "    yield from [book.get(\"author\") for book in books if book.get(\"author\")]"
   ]
  },
  {
   "cell_type": "code",
   "execution_count": 30,
   "id": "05b0cb43-aa83-4762-a797-d3beb0f22c44",
   "metadata": {},
   "outputs": [
    {
     "name": "stdout",
     "output_type": "stream",
     "text": [
      "Charles Dickens\n",
      "Charles Dickens\n",
      "Herman Melville\n"
     ]
    }
   ],
   "source": [
    "# Úsalo\n",
    "\n",
    "for author in authors_generator():\n",
    "    print(author)"
   ]
  },
  {
   "cell_type": "code",
   "execution_count": 31,
   "id": "fdfea58e-d809-4dd4-b7b0-c26427f8be55",
   "metadata": {},
   "outputs": [],
   "source": [
    "# Y finalmente - podemos reemplazar la comprensión de listas por una comprensión de conjuntos\n",
    "\n",
    "def unique_authors_generator():\n",
    "    yield from {book.get(\"author\") for book in books if book.get(\"author\")}"
   ]
  },
  {
   "cell_type": "code",
   "execution_count": 32,
   "id": "3e821d08-97be-4db9-9a5b-ce5dced3eff8",
   "metadata": {},
   "outputs": [
    {
     "name": "stdout",
     "output_type": "stream",
     "text": [
      "Herman Melville\n",
      "Charles Dickens\n"
     ]
    }
   ],
   "source": [
    "# Úsalo\n",
    "\n",
    "for author in unique_authors_generator():\n",
    "    print(author)"
   ]
  },
  {
   "cell_type": "code",
   "execution_count": null,
   "id": "905ba603-15d8-4d01-9a79-60ec293d7ca1",
   "metadata": {},
   "outputs": [],
   "source": [
    "# Y para divertirse un poco - ¡presiona el botón de detener en la barra de herramientas cuando te aburras!\n",
    "# Es como si hubiéramos creado nuestro propio Modelo de Lenguaje Grande... aunque no particularmente grande...\n",
    "# Intenta entender por qué imprime una letra a la vez, en lugar de una palabra a la vez. Si no estás seguro, intenta eliminar la palabra clave \"from\" en todo el código.\n",
    "\n",
    "import random\n",
    "import time\n",
    "\n",
    "pronouns = [\"I\", \"You\", \"We\", \"They\"]\n",
    "verbs = [\"eat\", \"detest\", \"bathe in\", \"deny the existence of\", \"resent\", \"pontificate about\", \"juggle\", \"impersonate\", \"worship\", \"misplace\", \"conspire with\", \"philosophize about\", \"tap dance on\", \"dramatically renounce\", \"secretly collect\"]\n",
    "adjectives = [\"turqoise\", \"smelly\", \"arrogant\", \"festering\", \"pleasing\", \"whimsical\", \"disheveled\", \"pretentious\", \"wobbly\", \"melodramatic\", \"pompous\", \"fluorescent\", \"bewildered\", \"suspicious\", \"overripe\"]\n",
    "nouns = [\"turnips\", \"rodents\", \"eels\", \"walruses\", \"kumquats\", \"monocles\", \"spreadsheets\", \"bagpipes\", \"wombats\", \"accordions\", \"mustaches\", \"calculators\", \"jellyfish\", \"thermostats\"]\n",
    "\n",
    "def infinite_random_sentences():\n",
    "    while True:\n",
    "        yield from random.choice(pronouns)\n",
    "        yield \" \"\n",
    "        yield from random.choice(verbs)\n",
    "        yield \" \"\n",
    "        yield from random.choice(adjectives)\n",
    "        yield \" \"\n",
    "        yield from random.choice(nouns)\n",
    "        yield \". \"\n",
    "\n",
    "for letter in infinite_random_sentences():\n",
    "    print(letter, end=\"\", flush=True)\n",
    "    time.sleep(0.02)"
   ]
  },
  {
   "cell_type": "markdown",
   "id": "04832ea2-2447-4473-a449-104f80e24d85",
   "metadata": {},
   "source": [
    "## Ejercicio\n",
    "\n",
    "Escribe algunas clases de Python para el ejemplo de los libros.\n",
    "\n",
    "Escribe una clase `Book` con un título y un autor. Incluye un método `has_author()`.\n",
    "\n",
    "Escribe una clase `BookShelf` con una lista de libros. Incluye un método generador `unique_authors()`."
   ]
  },
  {
   "cell_type": "markdown",
   "id": "35760406-fe6c-41f9-b0c0-3e8cf73aafd0",
   "metadata": {},
   "source": [
    "# Parte 3: Subclases, Indicadores de Tipo (Type Hints), Pydantic\n",
    "\n",
    "## Aspectos Avanzados de Clases en Python\n",
    "\n",
    "Este apartado cubre conceptos avanzados en clases de Python para quienes ya conocen lo básico (como `__init__`, `self`, instancias y clases). Se abordarán:\n",
    "\n",
    "- Pistas de tipo (type hints)\n",
    "- Subclases\n",
    "- Métodos de clase (`@classmethod`)\n",
    "- Ejemplo completo integrando estos conceptos\n",
    "\n",
    "### 1. Pistas de Tipo (Type Hints)\n",
    "Las pistas de tipo en Python permiten especificar el tipo esperado de una variable o argumento. Son útiles para mejorar la legibilidad del código, ayudar a herramientas como editores o linters, y evitar errores comunes. No son obligatorias ni se aplican en tiempo de ejecución."
   ]
  },
  {
   "cell_type": "code",
   "execution_count": 36,
   "id": "42ab7219",
   "metadata": {},
   "outputs": [],
   "source": [
    "class Libro:\n",
    "    titulo: str\n",
    "    autor: str\n",
    "\n",
    "    def __init__(self, titulo: str, autor: str):\n",
    "        self.titulo = titulo\n",
    "        self.autor = autor"
   ]
  },
  {
   "cell_type": "markdown",
   "id": "00461fd5",
   "metadata": {},
   "source": [
    "**Uso avanzado con Optional y Union**\n",
    "\n",
    "Puedes indicar tipos opcionales o múltiples posibles con `Optional` y `Union` del módulo `typing`."
   ]
  },
  {
   "cell_type": "code",
   "execution_count": 37,
   "id": "27cb096e",
   "metadata": {},
   "outputs": [],
   "source": [
    "from typing import Optional, Union\n",
    "\n",
    "class Libro:\n",
    "    titulo: str\n",
    "    autor: Optional[str] = None  # Puede ser str o None\n",
    "    anio_publicacion: Union[int, str] = 'Desconocido'  # Puede ser int o str "
   ]
  },
  {
   "cell_type": "markdown",
   "id": "cafa3c4d",
   "metadata": {},
   "source": [
    "### 2. Subclases\n",
    "Las subclases permiten crear una clase que hereda atributos y métodos de otra. Esto permite reutilizar y extender código de forma eficiente."
   ]
  },
  {
   "cell_type": "code",
   "execution_count": 38,
   "id": "d494bc1b",
   "metadata": {},
   "outputs": [],
   "source": [
    "class Libro:\n",
    "    def __init__(self, titulo: str, autor: str):\n",
    "        self.titulo = titulo\n",
    "        self.autor = autor\n",
    "\n",
    "    def descripcion(self) -> str:\n",
    "        return f\"'{self.titulo}' por {self.autor}\"\n",
    "\n",
    "class EBook(Libro):\n",
    "    def __init__(self, titulo: str, autor: str, formato_archivo: str):\n",
    "        super().__init__(titulo, autor)\n",
    "        self.formato_archivo = formato_archivo\n",
    "\n",
    "    def descripcion(self) -> str:\n",
    "        return f\"'{self.titulo}' por {self.autor} (formato: {self.formato_archivo})\""
   ]
  },
  {
   "cell_type": "markdown",
   "id": "5cf6bf57",
   "metadata": {},
   "source": [
    "### 3. Métodos de Clase\n",
    "Un método de clase se define con el decorador `@classmethod` y recibe `cls` como primer argumento, que representa la clase y no una instancia específica. Se usa comúnmente para constructores alternativos."
   ]
  },
  {
   "cell_type": "code",
   "execution_count": null,
   "id": "15b96bb5",
   "metadata": {},
   "outputs": [],
   "source": [
    "from typing import List\n",
    "\n",
    "class Libro:\n",
    "    def __init__(self, titulo: str, autor: str):\n",
    "        self.titulo = titulo\n",
    "        self.autor = autor\n",
    "\n",
    "    def descripcion(self) -> str:\n",
    "        return f\"'{self.titulo}' por {self.autor}\"\n",
    "\n",
    "    @classmethod\n",
    "    def crear_varios(cls, lista_info: List[tuple]) -> List['Libro']:\n",
    "        return [cls(titulo, autor) for titulo, autor in lista_info]"
   ]
  },
  {
   "cell_type": "code",
   "execution_count": 40,
   "id": "a3bf619e",
   "metadata": {},
   "outputs": [
    {
     "name": "stdout",
     "output_type": "stream",
     "text": [
      "'1984' por George Orwell\n",
      "'Un mundo feliz' por Aldous Huxley\n"
     ]
    }
   ],
   "source": [
    "libros = Libro.crear_varios([\n",
    "    (\"1984\", \"George Orwell\"),\n",
    "    (\"Un mundo feliz\", \"Aldous Huxley\")\n",
    "])\n",
    "\n",
    "for libro in libros:\n",
    "    print(libro.descripcion())"
   ]
  },
  {
   "cell_type": "markdown",
   "id": "6a14d42e",
   "metadata": {},
   "source": [
    "### 4. Ejemplo Completo Integrado\n",
    "\n",
    "Aquí combinamos herencia, métodos de clase y pistas de tipo en una sola solución."
   ]
  },
  {
   "cell_type": "code",
   "execution_count": 41,
   "id": "0303e6ea",
   "metadata": {},
   "outputs": [
    {
     "name": "stdout",
     "output_type": "stream",
     "text": [
      "'El guardián entre el centeno' por J.D. Salinger (1951)\n"
     ]
    }
   ],
   "source": [
    "class ItemBiblioteca:\n",
    "    def __init__(self, titulo: str, anio: int):\n",
    "        self.titulo = titulo\n",
    "        self.anio = anio\n",
    "\n",
    "    def obtener_info(self) -> str:\n",
    "        return f\"{self.titulo} ({self.anio})\"\n",
    "\n",
    "class Libro(ItemBiblioteca):\n",
    "    def __init__(self, titulo: str, anio: int, autor: str):\n",
    "        super().__init__(titulo, anio)\n",
    "        self.autor = autor\n",
    "\n",
    "    def obtener_info(self) -> str:\n",
    "        return f\"'{self.titulo}' por {self.autor} ({self.anio})\"\n",
    "\n",
    "    @classmethod\n",
    "    def desde_cadena(cls, info: str) -> 'Libro':\n",
    "        titulo, autor, anio = info.split(', ')\n",
    "        return cls(titulo, int(anio), autor)\n",
    "\n",
    "# Uso del constructor alternativo\n",
    "libro = Libro.desde_cadena(\"El guardián entre el centeno, J.D. Salinger, 1951\")\n",
    "print(libro.obtener_info())"
   ]
  },
  {
   "cell_type": "markdown",
   "id": "6bbc9c63",
   "metadata": {},
   "source": [
    "# Parte 4: Decoradores\n",
    "\n",
    "Este apartado explora los **decoradores**, una de las características más potentes y elegantes de Python. Permiten modificar o extender el comportamiento de funciones o métodos de forma limpia y reutilizable.\n",
    "\n",
    "## 1. Definiendo un Decorador: Entendiendo su propósito y uso\n",
    "\n",
    "Un decorador es, en esencia, una **función que recibe otra función como argumento, le añade alguna funcionalidad y devuelve otra función**. Esta técnica permite envolver el código de una función existente con lógica adicional sin modificar su estructura interna.\n",
    "\n",
    "La sintaxis `@` es una forma de \"azúcar sintáctico\" que simplifica la aplicación de un decorador a una función.\n",
    "\n",
    "**Propósito y Uso:**\n",
    "Los decoradores son una implementación del patrón de diseño estructural *Decorator* y son extremadamente útiles para:\n",
    "- **Logging**: Registrar cuándo se ejecuta una función y con qué argumentos.\n",
    "- **Medición de rendimiento**: Calcular el tiempo de ejecución de una función.\n",
    "- **Control de acceso y permisos**: Verificar si un usuario tiene autorización para ejecutar una acción.\n",
    "- **Caching**: Almacenar los resultados de funciones costosas para evitar recalcularlos.\n",
    "- **Simplificación de APIs en librerías**: Abstraer lógica compleja, como veremos con el SDK de OpenAI."
   ]
  },
  {
   "cell_type": "markdown",
   "id": "cf93a39c",
   "metadata": {},
   "source": [
    "## 2. Ejemplos Simples: Explorando `@classmethod` y `@staticmethod`\n",
    "\n",
    "Antes de crear nuestros propios decoradores, es útil entender dos de los más comunes que vienen incorporados en Python y se usan en el contexto de las clases."
   ]
  },
  {
   "cell_type": "code",
   "execution_count": 42,
   "id": "b209b9e7",
   "metadata": {},
   "outputs": [
    {
     "name": "stdout",
     "output_type": "stream",
     "text": [
      "Esta es una clase de calculadora simple.\n",
      "Creando una instancia de Calculadora...\n",
      "Resultado de la suma: 8\n"
     ]
    }
   ],
   "source": [
    "class Calculadora:\n",
    "    # Método de instancia regular. Necesita una instancia (self) para operar.\n",
    "    def sumar(self, a, b):\n",
    "        return a + b\n",
    "\n",
    "    # Un método estático no recibe la instancia (self) ni la clase (cls) como primer argumento.\n",
    "    # Es esencialmente una función normal que vive dentro del 'namespace' de la clase.\n",
    "    @staticmethod\n",
    "    def info():\n",
    "        print(\"Esta es una clase de calculadora simple.\")\n",
    "\n",
    "    # Un método de clase recibe la clase misma (cls) como primer argumento.\n",
    "    # Es útil para crear 'factory methods', que construyen instancias de la clase de formas alternativas.\n",
    "    @classmethod\n",
    "    def crear_con_valor(cls, valor):\n",
    "        # Aquí podríamos tener una lógica más compleja para crear la instancia\n",
    "        print(f\"Creando una instancia de {cls.__name__}...\")\n",
    "        return cls()\n",
    "\n",
    "# Uso de los métodos:\n",
    "\n",
    "# El método estático se puede llamar directamente desde la clase\n",
    "Calculadora.info()\n",
    "\n",
    "# El método de clase también se llama desde la clase\n",
    "mi_calc = Calculadora.crear_con_valor(10)\n",
    "\n",
    "# El método de instancia requiere un objeto creado\n",
    "resultado = mi_calc.sumar(5, 3)\n",
    "print(f\"Resultado de la suma: {resultado}\")"
   ]
  },
  {
   "cell_type": "markdown",
   "id": "4d4500d6",
   "metadata": {},
   "source": [
    "## 3. Ejemplo Avanzado: Utilizando `@function_tool` del SDK de Agentes de OpenAI\n",
    "\n",
    "Las librerías modernas utilizan decoradores para simplificar interacciones complejas. Un excelente ejemplo es el decorador `@function_tool` del SDK de Agentes de OpenAI.\n",
    "\n",
    "Su propósito es tomar una función de Python estándar y convertirla en una \"herramienta\" que un modelo de lenguaje (como GPT-4) puede entender y decidir invocar. El decorador se encarga de generar automáticamente el esquema JSON que la API de OpenAI necesita para registrar la función, una tarea que de otro modo sería manual y propensa a errores."
   ]
  },
  {
   "cell_type": "code",
   "execution_count": 43,
   "id": "71008ea5",
   "metadata": {},
   "outputs": [
    {
     "name": "stdout",
     "output_type": "stream",
     "text": [
      "La función 'obtener_clima' ha sido registrada como una herramienta.\n",
      "Un agente de IA ahora podría invocarla, por ejemplo: obtener_clima(ciudad='Bogota')\n"
     ]
    }
   ],
   "source": [
    "# NOTA: Este código es para fines demostrativos.\n",
    "# Necesitaría la librería 'openai' instalada y un cliente configurado para ejecutarse.\n",
    "\n",
    "from agents import function_tool\n",
    "\n",
    "# Definimos una función normal de Python con type hints y un docstring claro.\n",
    "@function_tool\n",
    "def obtener_clima(ciudad: str, unidad: str = \"celsius\"):\n",
    "    \"\"\"Obtiene el clima actual para una ciudad específica.\"\"\"\n",
    "    # En una aplicación real, aquí iría la lógica para llamar a una API de clima.\n",
    "    if \"bogota\" in ciudad.lower():\n",
    "        return f\"El clima en Bogotá es de 15 grados {unidad}.\"\n",
    "    return f\"No se encontró información del clima para {ciudad}.\"\n",
    "\n",
    "# El decorador @function_tool ha envuelto nuestra función.\n",
    "# Internamente, ha generado un esquema JSON a partir de la firma de la función y su docstring.\n",
    "# Este esquema es lo que un Agente de OpenAI usaría para saber cómo llamar a nuestra función.\n",
    "\n",
    "print(\"La función 'obtener_clima' ha sido registrada como una herramienta.\")\n",
    "print(\"Un agente de IA ahora podría invocarla, por ejemplo: obtener_clima(ciudad='Bogota')\")"
   ]
  },
  {
   "cell_type": "markdown",
   "id": "7d87b0ed",
   "metadata": {},
   "source": [
    "## 4. Detrás de Escenas: Creando decoradores personalizados\n",
    "\n",
    "Entender cómo funcionan los decoradores internamente es clave para dominarlos. La estructura básica es una función anidada:\n",
    "\n",
    "1.  **Función Externa (El Decorador)**: Acepta la función a decorar como argumento.\n",
    "2.  **Función Interna (El `wrapper` o envoltura)**: Aquí se añade la nueva funcionalidad. Esta función es la que finalmente ejecuta la función original.\n",
    "3.  El decorador **devuelve la función `wrapper`**."
   ]
  },
  {
   "cell_type": "code",
   "execution_count": 44,
   "id": "bae32943",
   "metadata": {},
   "outputs": [
    {
     "name": "stdout",
     "output_type": "stream",
     "text": [
      "▶️ Ejecutando 'proceso_largo'...\n",
      "✅ 'proceso_largo' finalizó en 1.0004 segundos.\n",
      "\n",
      "Nombre de la función: proceso_largo\n",
      "Docstring: Esta función simula un proceso que tarda un tiempo en completarse.\n"
     ]
    }
   ],
   "source": [
    "import time\n",
    "import functools\n",
    "\n",
    "def medir_tiempo(func):\n",
    "    # @functools.wraps preserva los metadatos de la función original (nombre, docstring, etc.)\n",
    "    # Es una buena práctica usarlo siempre.\n",
    "    @functools.wraps(func)\n",
    "    def wrapper(*args, **kwargs):\n",
    "        # Lógica ANTES de llamar a la función original\n",
    "        print(f\"▶️ Ejecutando '{func.__name__}'...\")\n",
    "        inicio = time.time()\n",
    "        \n",
    "        # Llamada a la función original\n",
    "        resultado = func(*args, **kwargs)\n",
    "        \n",
    "        # Lógica DESPUÉS de llamar a la función original\n",
    "        fin = time.time()\n",
    "        print(f\"✅ '{func.__name__}' finalizó en {fin - inicio:.4f} segundos.\")\n",
    "        return resultado\n",
    "    return wrapper\n",
    "\n",
    "# Aplicamos nuestro decorador personalizado\n",
    "@medir_tiempo\n",
    "def proceso_largo(duracion):\n",
    "    \"\"\"Esta función simula un proceso que tarda un tiempo en completarse.\"\"\"\n",
    "    time.sleep(duracion)\n",
    "    return \"Proceso completado\"\n",
    "\n",
    "# Llamamos a la función decorada\n",
    "proceso_largo(1)\n",
    "\n",
    "# Verificamos que los metadatos se conservaron gracias a @functools.wraps\n",
    "print(f\"\\nNombre de la función: {proceso_largo.__name__}\")\n",
    "print(f\"Docstring: {proceso_largo.__doc__}\")"
   ]
  },
  {
   "cell_type": "markdown",
   "id": "045ef024",
   "metadata": {},
   "source": [
    "## Conclusión\n",
    "\n",
    "Los decoradores son una herramienta de metaprogramación que fomenta la escritura de código **DRY (Don't Repeat Yourself)**. Permiten separar las responsabilidades transversales (como logging o monitoreo) de la lógica de negocio principal, resultando en un código más limpio, modular y fácil de mantener."
   ]
  }
 ],
 "metadata": {
  "kernelspec": {
   "display_name": "fundamentos",
   "language": "python",
   "name": "python3"
  },
  "language_info": {
   "codemirror_mode": {
    "name": "ipython",
    "version": 3
   },
   "file_extension": ".py",
   "mimetype": "text/x-python",
   "name": "python",
   "nbconvert_exporter": "python",
   "pygments_lexer": "ipython3",
   "version": "3.13.5"
  }
 },
 "nbformat": 4,
 "nbformat_minor": 5
}
