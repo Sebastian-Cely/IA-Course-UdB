{
 "cells": [
  {
   "cell_type": "markdown",
   "id": "5c291475-8c7c-461c-9b12-545a887b2432",
   "metadata": {},
   "source": [
    "# <span style=\"color:#00bfff;\">Python Asíncrono</span>\n",
    "\n",
    "## Un resumen sobre la programación asíncrona en Python"
   ]
  },
  {
   "cell_type": "code",
   "execution_count": 1,
   "id": "09f5662a",
   "metadata": {},
   "outputs": [],
   "source": [
    "# Definamos una función asíncrona\n",
    "\n",
    "import asyncio\n",
    "\n",
    "async def do_some_work():\n",
    "    print(\"Iniciando trabajo\")\n",
    "    await asyncio.sleep(1)\n",
    "    print(\"Trabajo completado\")"
   ]
  },
  {
   "cell_type": "code",
   "execution_count": 2,
   "id": "07ab3abf",
   "metadata": {},
   "outputs": [
    {
     "data": {
      "text/plain": [
       "<coroutine object do_some_work at 0x000002913293D600>"
      ]
     },
     "execution_count": 2,
     "metadata": {},
     "output_type": "execute_result"
    }
   ],
   "source": [
    "# ¿Qué hará esto?\n",
    "\n",
    "do_some_work()"
   ]
  },
  {
   "cell_type": "code",
   "execution_count": 3,
   "id": "6d681b6d",
   "metadata": {},
   "outputs": [
    {
     "name": "stdout",
     "output_type": "stream",
     "text": [
      "Iniciando trabajo\n",
      "Trabajo completado\n"
     ]
    }
   ],
   "source": [
    "# ¡OK, intentémoslo de nuevo!\n",
    "\n",
    "await do_some_work()"
   ]
  },
  {
   "cell_type": "code",
   "execution_count": 4,
   "id": "ea867090",
   "metadata": {},
   "outputs": [
    {
     "name": "stderr",
     "output_type": "stream",
     "text": [
      "C:\\Users\\jscely\\AppData\\Local\\Temp\\ipykernel_24364\\2691356138.py:4: RuntimeWarning: coroutine 'do_some_work' was never awaited\n",
      "  do_some_work()\n",
      "RuntimeWarning: Enable tracemalloc to get the object allocation traceback\n",
      "C:\\Users\\jscely\\AppData\\Local\\Temp\\ipykernel_24364\\2691356138.py:5: RuntimeWarning: coroutine 'do_some_work' was never awaited\n",
      "  do_some_work()\n",
      "RuntimeWarning: Enable tracemalloc to get the object allocation traceback\n",
      "C:\\Users\\jscely\\AppData\\Local\\Temp\\ipykernel_24364\\2691356138.py:6: RuntimeWarning: coroutine 'do_some_work' was never awaited\n",
      "  do_some_work()\n",
      "RuntimeWarning: Enable tracemalloc to get the object allocation traceback\n"
     ]
    }
   ],
   "source": [
    "# ¿Qué está mal con esto?\n",
    "\n",
    "async def do_a_lot_of_work():\n",
    "    do_some_work()\n",
    "    do_some_work()\n",
    "    do_some_work()\n",
    "\n",
    "await do_a_lot_of_work()"
   ]
  },
  {
   "cell_type": "code",
   "execution_count": 5,
   "id": "e9c75c3f",
   "metadata": {},
   "outputs": [
    {
     "name": "stdout",
     "output_type": "stream",
     "text": [
      "Iniciando trabajo\n",
      "Trabajo completado\n",
      "Iniciando trabajo\n",
      "Trabajo completado\n",
      "Iniciando trabajo\n",
      "Trabajo completado\n"
     ]
    }
   ],
   "source": [
    "# ¡Advertencia interesante! Corrijámoslo\n",
    "\n",
    "async def do_a_lot_of_work():\n",
    "    await do_some_work()\n",
    "    await do_some_work()\n",
    "    await do_some_work()\n",
    "\n",
    "await do_a_lot_of_work()"
   ]
  },
  {
   "cell_type": "code",
   "execution_count": 6,
   "id": "720cf3f5",
   "metadata": {},
   "outputs": [
    {
     "name": "stdout",
     "output_type": "stream",
     "text": [
      "Iniciando trabajo\n",
      "Iniciando trabajo\n",
      "Iniciando trabajo\n",
      "Trabajo completado\n",
      "Trabajo completado\n",
      "Trabajo completado\n"
     ]
    }
   ],
   "source": [
    "# Y ahora hagámoslo en paralelo\n",
    "# Es importante reconocer que esto no es \"multithreading\" de la manera a la que podría estar acostumbrado.\n",
    "# La librería asyncio se ejecuta en un solo hilo, pero utiliza un bucle de eventos para cambiar entre tareas mientras una está en espera.\n",
    "\n",
    "async def do_a_lot_of_work_in_parallel():\n",
    "    await asyncio.gather(do_some_work(), do_some_work(), do_some_work())\n",
    "\n",
    "await do_a_lot_of_work_in_parallel()"
   ]
  }
 ],
 "metadata": {
  "kernelspec": {
   "display_name": "fundamentos",
   "language": "python",
   "name": "python3"
  },
  "language_info": {
   "codemirror_mode": {
    "name": "ipython",
    "version": 3
   },
   "file_extension": ".py",
   "mimetype": "text/x-python",
   "name": "python",
   "nbconvert_exporter": "python",
   "pygments_lexer": "ipython3",
   "version": "3.13.5"
  }
 },
 "nbformat": 4,
 "nbformat_minor": 5
}
