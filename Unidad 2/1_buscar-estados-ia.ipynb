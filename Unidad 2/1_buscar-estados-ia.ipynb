{
 "cells": [
  {
   "cell_type": "markdown",
   "id": "ac2d28f6",
   "metadata": {},
   "source": [
    "# <span style=\"color:#00bfff;\">Unidad 2. Búsqueda en Espacios de Estados</span>\n",
    "\n",
    "> *¡IMPORTANTE!.* *Los aspectos teóricos del curso y la Unidad 2 en específico, puede consultarse a profundidad en [ai-course-UdB](https://ai-course-udb.my.canva.site). Ingrese al sitio y seleccione la unidad correpsondiente.*\n",
    "\n",
    "## <span style=\"color:#00bfff;\">Representación Formal de un Espacio de Estados</span>\n",
    "\n",
    "Un espacio de estados se modela matemáticamente como un grafo dirigido, donde:\n",
    "\n",
    "- Los nodos representan los estados.\n",
    "- Las aristas representan las acciones que permiten cambiar de un estado a otro.\n",
    "\n",
    "Ejemplo en notación formal:\n",
    "\n",
    "- Estados: $S = \\{s_0, s_1, s_2, ..., s_n\\}$\n",
    "- Operadores: $O={a_1,a_2,...,a_m}$\n",
    "- Función de transición: $f(s,a)→s′$ (el estado $s′$ resulta de aplicar la acción $a$ en $s$ ).\n",
    "- Estado meta: $S_{goal}⊂S $\n",
    "\n",
    "| <span style=\"color:#ff7980;\">Ejemplo de secuencia de estados</span> | <span style=\"color:#ff7980;\">Gráfico de estados 8-Puzzle</span> |\n",
    "|:----:|:----:|\n",
    "| <img src=\"..\\Unidad 2\\assets\\secuencia-espacio-estados.png\" /> | <img src=\"..\\Unidad 2\\assets\\estados-8puzzle.png\" /> | "
   ]
  },
  {
   "cell_type": "markdown",
   "id": "ecb42bc8",
   "metadata": {},
   "source": [
    "---- \n",
    "\n",
    "# <span style=\"color:#00bfff;\">Algoritmos de Búsqueda No Informada </span>\n",
    "\n",
    "La búsqueda no informada o ciega, explora el espacio de estados sin usar información adicional sobre la solución. Solo conoce el estado inicial, el estado meta y las posibles transiciones. \n",
    "\n",
    "## <span style=\"color:#00bfff;\">Búsqueda de Anchura - BFS (Breadth-First Search) </span>\n",
    "\n",
    "- Explora el espacio de estados por niveles, avanzando en todas las direcciones antes de descender a niveles más profundos. \n",
    "- Utiliza FIFO (First in, First Out) para gestionar los nodos pendientes.\n",
    "\n",
    "### <span style=\"color:#00bfff;\">Solución del 8-Puzzle con BFS</span> \n",
    "\n",
    "Para comenzar, importamos la función `deque` del módulo `collections` de Python para el manejo de las colas. Su nombre es una abreviatura de *\"double-ended queue\"* (cola de dos extremos) ya que su propósito principal es crear un objeto similar a una lista, pero más eficiente en compejidad computacional para añadir y eliminar elementos en ambos extremos de la cola (tanto el izquierdo como el derecho). "
   ]
  },
  {
   "cell_type": "code",
   "execution_count": 1,
   "id": "cf1926b3",
   "metadata": {},
   "outputs": [],
   "source": [
    "from collections import deque"
   ]
  },
  {
   "cell_type": "markdown",
   "id": "8a831811",
   "metadata": {},
   "source": [
    "Ahora creamos una función para generar los estados sucesores del 8-puzzle, teniendo como estado incial:\n",
    "\n",
    "| 0 | 1 | 2 |\n",
    "|:------:|:---:|:---:|\n",
    "| 3 | 4 | 5 |\n",
    "| 6 | 7 | 8 |"
   ]
  },
  {
   "cell_type": "code",
   "execution_count": 2,
   "id": "a5dd0f05",
   "metadata": {},
   "outputs": [],
   "source": [
    "# Representación conceptual de las posiciones en el 3x3:\n",
    "#  0 1 2\n",
    "#  3 4 5\n",
    "#  6 7 8\n",
    "\n",
    "def generar_sucesores(estado):\n",
    "    \"\"\"\n",
    "    Dado un estado (string de longitud 9), genera los estados sucesores\n",
    "    intercambiando el '0' con alguna casilla adyacente (arriba, abajo, izquierda, derecha).\n",
    "    \"\"\"\n",
    "    sucesores = []\n",
    "    \n",
    "    # Movimientos posibles desde cada posición (índice) hacia arriba/abajo/izq/der:\n",
    "    movimientos = {\n",
    "        0: [1, 3],\n",
    "        1: [0, 2, 4],\n",
    "        2: [1, 5],\n",
    "        3: [0, 4, 6],\n",
    "        4: [1, 3, 5, 7],\n",
    "        5: [2, 4, 8],\n",
    "        6: [3, 7],\n",
    "        7: [4, 6, 8],\n",
    "        8: [5, 7],\n",
    "    }\n",
    "\n",
    "    # Encuentra la posición del '0' (hueco) en el estado actual\n",
    "    pos_cero = estado.index(\"0\")\n",
    "\n",
    "    # Para cada movimiento posible de esa posición, intercambiar el '0' con la ficha correspondiente\n",
    "    for pos in movimientos[pos_cero]:\n",
    "        # Convertimos el estado a lista para intercambiar fácilmente\n",
    "        lista = list(estado)\n",
    "        lista[pos_cero], lista[pos] = lista[pos], lista[pos_cero]\n",
    "        nuevo_estado = \"\".join(lista)\n",
    "        sucesores.append(nuevo_estado)\n",
    "\n",
    "    return sucesores"
   ]
  },
  {
   "cell_type": "markdown",
   "id": "3283ef8c",
   "metadata": {},
   "source": [
    "Ahora definiremos la función BFS que hará el recorrido, a partir del estado inicial, por cada uno de los estados sucesores del 8-puzzle."
   ]
  },
  {
   "cell_type": "code",
   "execution_count": 3,
   "id": "54e591ce",
   "metadata": {},
   "outputs": [],
   "source": [
    "def bfs_8_puzzle(inicial, meta=\"123456780\"):\n",
    "    \"\"\"\n",
    "    Realiza una búsqueda en anchura (BFS) para encontrar la secuencia de movimientos\n",
    "    que lleve del estado inicial al estado meta. Devuelve la secuencia de estados\n",
    "    desde el inicial hasta el meta (si hay solución).\n",
    "    \"\"\"\n",
    "    if inicial == meta:\n",
    "        return [inicial]\n",
    "\n",
    "    # Cola para gestionar los estados en orden FIFO\n",
    "    cola = deque()\n",
    "    cola.append(inicial)\n",
    "\n",
    "    # Diccionario para reconstruir el camino (predecesores)\n",
    "    predecesor = {inicial: None}\n",
    "\n",
    "    # Mientras haya estados por explorar\n",
    "    while cola:\n",
    "        estado_actual = cola.popleft()\n",
    "\n",
    "        # Generar sucesores del estado actual\n",
    "        for sucesor in generar_sucesores(estado_actual):\n",
    "            if sucesor not in predecesor:\n",
    "                predecesor[sucesor] = estado_actual\n",
    "                cola.append(sucesor)\n",
    "                # Si llegamos al estado meta, reconstruimos el camino\n",
    "                if sucesor == meta:\n",
    "                    return reconstruir_camino(predecesor, meta)\n",
    "\n",
    "    # Si la cola se vacía y no se encontró la meta, no hay solución\n",
    "    return None"
   ]
  },
  {
   "cell_type": "markdown",
   "id": "663739bd",
   "metadata": {},
   "source": [
    "Creamos una función para que tome la secuencia de predecesores y reconstruya el camino hacia el estado final. "
   ]
  },
  {
   "cell_type": "code",
   "execution_count": 4,
   "id": "d9439930",
   "metadata": {},
   "outputs": [],
   "source": [
    "def reconstruir_camino(predecesor, meta):\n",
    "    \"\"\"\n",
    "    A partir del diccionario de predecesores (estado -> estado_anterior),\n",
    "    se reconstruye la secuencia de estados hasta llegar a la meta.\n",
    "    \"\"\"\n",
    "    camino = [meta]\n",
    "    # Ir saltando de la meta hacia atrás hasta llegar al inicial\n",
    "    while predecesor[camino[-1]] is not None:\n",
    "        camino.append(predecesor[camino[-1]])\n",
    "    camino.reverse()\n",
    "    return camino"
   ]
  },
  {
   "cell_type": "markdown",
   "id": "370f0c70",
   "metadata": {},
   "source": [
    "Finalmente, ejecutamos el algoritmo BFS para que encuentre una solución al estado incial y final que pasamos como argumentos expresados en cadena de strings: \n",
    "\n",
    "`Estado inicial: \"103425786\"`\n",
    "\n",
    "`Estado meta: \"123456780\"`"
   ]
  },
  {
   "cell_type": "code",
   "execution_count": null,
   "id": "9acc3828",
   "metadata": {},
   "outputs": [
    {
     "name": "stdout",
     "output_type": "stream",
     "text": [
      "['103425786', '123405786', '123450786', '123456780']\n",
      "Solución encontrada en 3 pasos.\n",
      "Paso 0: 103425786\n",
      "Paso 1: 123405786\n",
      "Paso 2: 123450786\n",
      "Paso 3: 123456780\n"
     ]
    }
   ],
   "source": [
    "estado_inicial = \"103425786\"\n",
    "estado_meta = \"123456780\"\n",
    "camino_solucion = bfs_8_puzzle(estado_inicial, meta=estado_meta)\n",
    "print(camino_solucion)\n",
    "\n",
    "if camino_solucion is None:\n",
    "    print(\"No se encontró solución.\")\n",
    "else:\n",
    "    print(f\"Solución encontrada en {len(camino_solucion) - 1} pasos.\")\n",
    "    for paso, estado in enumerate(camino_solucion):\n",
    "        print(f\"Paso {paso}: {estado}\")"
   ]
  },
  {
   "cell_type": "markdown",
   "id": "b5295fae",
   "metadata": {},
   "source": [
    "## <span style=\"color:#00bfff;\">Búsqueda en Profundidad - DFS (Depth-First Search) </span>\n",
    "\n",
    "- Explora un camino completamente hasta llegar a un callejón sin salida, y luego retrocede para explorar otro camino. \n",
    "- Utiliza LIFO (Last in, First out) para gestionar los nodos pendientes. \n",
    "\n",
    "### <span style=\"color:#00bfff;\">Solución del 8-puzzle con DFS</span>\n",
    "\n",
    "Para resolver el problema con DFS, simplemente hay que cambiar la perspectiva del recorrido en los estados predecesores. *BFS* sigue una directriz **FIFO**, mientras que *DFS* obedece a un **LIFO**, lo que implica que tenemos que tomar el último estado revisado y no duplicado para seguir avanzando por uan rama hasta la máxima profundidad. \n",
    "\n",
    "Así, lo único que habría que añadir es la función del algoritmo DFS, la cuál es la misma que en BFS cambiando en enfoque a LIFO. "
   ]
  },
  {
   "cell_type": "code",
   "execution_count": 6,
   "id": "d77a1938",
   "metadata": {},
   "outputs": [],
   "source": [
    "def dfs_8_puzzle(inicial, meta=\"123456780\"):\n",
    "    \"\"\"\n",
    "    Realiza una búsqueda en profundidad (DFS) para encontrar la secuencia de movimientos\n",
    "    que lleve del estado inicial al estado meta. Devuelve la secuencia de estados\n",
    "    desde el inicial hasta el meta (si hay solución).\n",
    "    \"\"\"\n",
    "    if inicial == meta:\n",
    "        return [inicial]\n",
    "    \n",
    "    # Usamos una lista como pila (LIFO): .append() para insertar y .pop() para extraer\n",
    "    pila = []\n",
    "    pila.append(inicial)\n",
    "    \n",
    "    # predecesor[state] = estado desde el cual se llegó a 'state'\n",
    "    predecesor = {inicial: None}\n",
    "    \n",
    "    while pila:\n",
    "        estado_actual = pila.pop()  # Se extrae el último elemento insertado\n",
    "        \n",
    "        # Generamos sucesores del estado actual\n",
    "        for sucesor in generar_sucesores(estado_actual):\n",
    "            if sucesor not in predecesor:\n",
    "                predecesor[sucesor] = estado_actual\n",
    "                # Insertamos en la pila\n",
    "                pila.append(sucesor)\n",
    "                # Si llegamos al objetivo, reconstruimos el camino\n",
    "                if sucesor == meta:\n",
    "                    return reconstruir_camino(predecesor, meta)\n",
    "    \n",
    "    # Si la pila se vacía y no se encontró la meta, no hay solución\n",
    "    return None"
   ]
  },
  {
   "cell_type": "markdown",
   "id": "b172c0bf",
   "metadata": {},
   "source": [
    "Finalmente, corremos el algoritmo para los estados iniciales y meta definidos anteirormente. "
   ]
  },
  {
   "cell_type": "code",
   "execution_count": 7,
   "id": "24f367b1",
   "metadata": {},
   "outputs": [
    {
     "name": "stdout",
     "output_type": "stream",
     "text": [
      "['103425786', '123405786', '123485706', '123485760', '123480765', '123408765', '123468705', '123468750', '123460758', '123406758', '123456708', '123456780']\n",
      "Solución encontrada en 11 pasos.\n",
      "Paso 0: 103425786\n",
      "Paso 1: 123405786\n",
      "Paso 2: 123485706\n",
      "Paso 3: 123485760\n",
      "Paso 4: 123480765\n",
      "Paso 5: 123408765\n",
      "Paso 6: 123468705\n",
      "Paso 7: 123468750\n",
      "Paso 8: 123460758\n",
      "Paso 9: 123406758\n",
      "Paso 10: 123456708\n",
      "Paso 11: 123456780\n"
     ]
    }
   ],
   "source": [
    "camino_solucion = dfs_8_puzzle(estado_inicial, meta=estado_meta)\n",
    "print(camino_solucion)\n",
    "\n",
    "if camino_solucion is None:\n",
    "    print(\"No se encontró solución.\")\n",
    "else:\n",
    "    print(f\"Solución encontrada en {len(camino_solucion) - 1} pasos.\")\n",
    "    for paso, estado in enumerate(camino_solucion):\n",
    "        print(f\"Paso {paso}: {estado}\")"
   ]
  },
  {
   "cell_type": "markdown",
   "id": "c18c5f3c",
   "metadata": {},
   "source": [
    "# <span style=\"color:#00bfff;\">Algorimtos de Búsqueda Informada</span>\n",
    "\n",
    "<span style=\"color: #ff7980;\">**¿Qué es una heurística?**</span>\n",
    "\n",
    "Es una **estrategia o técnica** que guía la búsqueda de soluciones, permitiendo abordar problemas complejos al proporcionar estimaciones informadas, sin evaluar exhaustivamente todas las posibilidades. "
   ]
  },
  {
   "cell_type": "markdown",
   "id": "aa544aa1",
   "metadata": {},
   "source": [
    "## <span style=\"color:#00bfff;\">Búsqueda A*</span>\n",
    "\n",
    "La eficiencia del algoritmo radica en la forma en que decide qué nodo explorar a continuación, para lo cual utiliza una función de evaluación heurística que combina el costo real del camino ya recorrido con una estimación del costo restante. \n",
    "\n",
    "Concretamente, para cada nodo n, A* calcula un valor de prioridad ``f(n)=g(n)+h(n)``, donde ``g(n)`` es el costo conocido del camino desde el inicio hasta ``n``, y ``h(n)`` es el costo estimado o heurístico desde ``n`` hasta el objetivo. Al expandir siempre el nodo con el valor ``f(n)`` más bajo de una cola de prioridad, A* dirige la búsqueda hacia las rutas más prometedoras, garantizando encontrar la solución óptima (el camino más corto) de manera completa y eficiente, siempre y cuando la función heurística $h(n)$ sea admisible. \n",
    "\n",
    "## <span style=\"color:#00bfff;\"> Solución del 8-Puzzle con A* (A estrella)\n",
    "\n",
    "El algoritmo A* es uno de los más básicos de la Búsqueda Informada, utiliza una función $ f(n) = g(n) + h(n)$ donde $h(n)$ representa la heurística definida para le problema. \n",
    "\n",
    "A continuación, se resuelve el problema del 8-puzzle mediante el algoritmo A* valiendose de la librería `headpq`. Este módulo se utiliza para implementar la frontera (_**o lista de abiertos**_) como una cola de prioridad. \n",
    "\n",
    "Su función es almacenar los nodos (estados del puzzle) que están pendientes de ser explorados, ordenándolos eficientemente según el costo de la función de evaluación $f(n)$. Básicamente, permite a A* encontrar de manera óptima y eficiente el siguiente mejor nodo a explorar, basándose en el costo real más la estimación heurística.\n",
    "\n",
    "#### <span style=\"color:#00bfff;\"> ¿Cómo funciona `headpq` en la heurística?</span>\n",
    "\n",
    "Su función es almacenar los nodos (estados del puzzle) que están pendientes de ser explorados, ordenándolos eficientemente según el costo de la función de evaluación $f(n)$.\n",
    "\n",
    "¿Qué se almacena?: Cada elemento insertado en el ``heapq`` es una tupla, típicamente con el formato ``(f_cost, state)``, donde:\n",
    "\n",
    "- ``f_cost`` es la prioridad, calculada como $f(n)=g(n)+h(n)$.\n",
    "- $g(n)$: El número de movimientos realizados desde el estado inicial.\n",
    "- $h(n)$: La heurística de Manhattan, que es la suma de las distancias de cada pieza a su posición objetivo\n",
    "- ``state``: La representación del estado actual del tablero.\n",
    "\n",
    "Paso a paso:\n",
    "\n",
    "1. ``heapq.heappush(abiertos, (f_cost, state))``: Añade un nuevo estado a la frontera, manteniendo la propiedad de min-heap.\n",
    "2. ``heapq.heappop(abiertos)``: Extrae y devuelve el estado con el menor costo f(n), garantizando que el algoritmo siempre expanda el nodo más prometedor. \n",
    "\n",
    "En este sentido, comenzaremos importando el módulo `headpq`"
   ]
  },
  {
   "cell_type": "code",
   "execution_count": 8,
   "id": "4a439c79",
   "metadata": {},
   "outputs": [],
   "source": [
    "import heapq"
   ]
  },
  {
   "cell_type": "markdown",
   "id": "13c7c243",
   "metadata": {},
   "source": [
    "Como ya hemos creado las funciones para generar sucesores y reconstruir el camino, no habrá necesidad de volverlas a crear. En su lugar, se definirá la herística de Manhattan para calcular la distancia.  "
   ]
  },
  {
   "cell_type": "code",
   "execution_count": 9,
   "id": "6f304240",
   "metadata": {},
   "outputs": [],
   "source": [
    "def heuristica_manhattan(estado, meta):\n",
    "    \"\"\"\n",
    "    Heurística de A*: \n",
    "    Calcula la suma de distancias Manhattan de cada ficha respecto a su posición en 'meta'.\n",
    "    - '0' (hueco) no se toma en cuenta para la heurística.\n",
    "    \"\"\"\n",
    "    distancia = 0\n",
    "    for i, ficha in enumerate(estado):\n",
    "        if ficha != '0':  # Ignorar el hueco\n",
    "            # Posición objetivo de esta ficha en 'meta'\n",
    "            pos_meta = meta.index(ficha)\n",
    "            \n",
    "            # Coordenadas (fila, columna) de la posición actual y la posición meta\n",
    "            fila_actual, col_actual = divmod(i, 3)\n",
    "            fila_meta,   col_meta   = divmod(pos_meta, 3)\n",
    "            \n",
    "            # Distancia de Manhattan\n",
    "            distancia += abs(fila_actual - fila_meta) + abs(col_actual - col_meta)\n",
    "    return distancia"
   ]
  },
  {
   "cell_type": "markdown",
   "id": "648610a9",
   "metadata": {},
   "source": [
    "Ahora se definira la función para el algoritmo A*, el cúal es similar a los usados en la Búsqueda No Informada pero adaptada para implementar la heurística de Manhattan valiéndose del módulo `heapq` en la función de evaluación. "
   ]
  },
  {
   "cell_type": "code",
   "execution_count": null,
   "id": "91a55190",
   "metadata": {},
   "outputs": [],
   "source": [
    "\"\"\"\n",
    "Algoritmo A* para el 8-puzzle usando distancia de Manhattan como heurística.\n",
    "Devuelve la secuencia de estados desde 'inicial' hasta 'meta', o None si no hay solución.\n",
    "\n",
    "f(n) = g(n) + h(n)\n",
    "g(n) = costo real desde el inicio (aquí, # de movimientos)\n",
    "h(n) = heuristica_manhattan\n",
    "\"\"\"\n",
    "def a_estrella_8puzzle(inicial, meta):\n",
    "    # Priority queue (heap) donde cada elemento es (f, estado)\n",
    "    # f = g + h, g = coste desde inicial, h = heurística\n",
    "    abiertos = []\n",
    "    \n",
    "    # Diccionario para reconstruir el camino: predecesor[estado] = estado_previo\n",
    "    predecesor = {inicial: None}\n",
    "    # g[estado] = costo real desde el inicial hasta 'estado'\n",
    "    g = {inicial: 0}\n",
    "    \n",
    "    # Calcular f para el estado inicial\n",
    "    h_inicial = heuristica_manhattan(inicial, meta)\n",
    "    f_inicial = g[inicial] + h_inicial\n",
    "    \n",
    "    # Insertar en la lista de abiertos\n",
    "    heapq.heappush(abiertos, (f_inicial, inicial))\n",
    "    \n",
    "    while abiertos:\n",
    "        # Extraer estado con menor f\n",
    "        f_actual, estado_actual = heapq.heappop(abiertos)\n",
    "        \n",
    "        # Si llegamos a la meta, reconstruir y retornar\n",
    "        if estado_actual == meta:\n",
    "            return reconstruir_camino(predecesor, meta)\n",
    "        \n",
    "        # Generar sucesores\n",
    "        for sucesor in generar_sucesores(estado_actual):\n",
    "            # Costo g(n) = g(estado_actual) + 1 (un movimiento más)\n",
    "            costo_sucesor = g[estado_actual] + 1\n",
    "            \n",
    "            # Si sucesor es nuevo o encontramos un mejor camino\n",
    "            if sucesor not in g or costo_sucesor < g[sucesor]:\n",
    "                g[sucesor] = costo_sucesor\n",
    "                predecesor[sucesor] = estado_actual\n",
    "                f_sucesor = costo_sucesor + heuristica_manhattan(sucesor, meta)\n",
    "                heapq.heappush(abiertos, (f_sucesor, sucesor))\n",
    "    \n",
    "    return None  # no se encontró solución o el espacio de búsqueda se agotó"
   ]
  },
  {
   "cell_type": "markdown",
   "id": "130ffa4d",
   "metadata": {},
   "source": [
    "Finalizamos con el bloque de código para correr el algoritmo. Es el mismo usado anteriormente pero implementando A* en lugar de las otras funciones. "
   ]
  },
  {
   "cell_type": "code",
   "execution_count": 11,
   "id": "58d6e763",
   "metadata": {},
   "outputs": [
    {
     "name": "stdout",
     "output_type": "stream",
     "text": [
      "['103425786', '123405786', '123450786', '123456780']\n",
      "Solución encontrada en 3 pasos.\n",
      "Paso 0: 103425786\n",
      "Paso 1: 123405786\n",
      "Paso 2: 123450786\n",
      "Paso 3: 123456780\n"
     ]
    }
   ],
   "source": [
    "camino_solucion = a_estrella_8puzzle(estado_inicial, meta=estado_meta)\n",
    "print(camino_solucion)\n",
    "\n",
    "if camino_solucion is None:\n",
    "    print(\"No se encontró solución.\")\n",
    "else:\n",
    "    print(f\"Solución encontrada en {len(camino_solucion) - 1} pasos.\")\n",
    "    for paso, estado in enumerate(camino_solucion):\n",
    "        print(f\"Paso {paso}: {estado}\")"
   ]
  },
  {
   "cell_type": "markdown",
   "id": "6cb03b6e",
   "metadata": {},
   "source": [
    "--- \n",
    "\n",
    "# <span style=\"color:#ff7980\">Conclusión</span>\n",
    "\n",
    "La solución del 8-puzzle evidencia de forma clara la superioridad de la búsqueda informada sobre las estrategias no informadas, destacando un compromiso entre optimalidad y eficiencia.\n",
    "\n",
    "- **Búsqueda en Anchura (BFS):**\n",
    "garantiza encontrar la solución óptima, es decir, la que requiere el menor número de movimientos. Sin embargo, su exploración sistemática nivel por nivel genera un costo computacional y de memoria muy elevado, ya que debe almacenar una cantidad masiva de nodos en la frontera, volviéndose impráctico para estados iniciales complejos.\n",
    "\n",
    "- **Búsqueda en Profundidad (DFS):**\n",
    "es el algoritmo más eficiente en cuanto a uso de memoria. No obstante, es una estrategia pobre para este problema: no garantiza una solución óptima y, por lo general, encuentra caminos muy largos tras explorar ramas de búsqueda irrelevantes y poco prometedoras.\n",
    "\n",
    "- __Búsqueda A*:__\n",
    "se consolida como la opción superior y más inteligente. Al incorporar una heurística como la distancia de Manhattan, guía la búsqueda de manera eficaz hacia los estados más prometedores. Logra el equilibrio ideal: garantiza la solución óptima (al igual que BFS) pero lo hace de forma drásticamente más eficiente, reduciendo significativamente el número de nodos explorados y el tiempo de ejecución."
   ]
  }
 ],
 "metadata": {
  "kernelspec": {
   "display_name": "Unidad 2",
   "language": "python",
   "name": "python3"
  },
  "language_info": {
   "codemirror_mode": {
    "name": "ipython",
    "version": 3
   },
   "file_extension": ".py",
   "mimetype": "text/x-python",
   "name": "python",
   "nbconvert_exporter": "python",
   "pygments_lexer": "ipython3",
   "version": "3.12.11"
  }
 },
 "nbformat": 4,
 "nbformat_minor": 5
}
