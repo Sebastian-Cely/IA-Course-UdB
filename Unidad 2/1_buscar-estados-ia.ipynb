{
 "cells": [
  {
   "cell_type": "markdown",
   "id": "ac2d28f6",
   "metadata": {},
   "source": [
    "# <span style=\"color: cyan;\">Unidad 2. Búsqueda en Espacios de Estados</span>\n",
    "\n",
    "## <span style=\"color: cyan;\">Representación Formal de un Espacio de Estados</span>\n",
    "\n",
    "Un espacio de estados se modela matemáticamente como un grafo dirigido, donde:\n",
    "\n",
    "- Los nodos representan los estados.\n",
    "- Las aristas representan las acciones que permiten cambiar de un estado a otro.\n",
    "\n",
    "Ejemplo en notación formal:\n",
    "\n",
    "- Estados: $S = \\{s_0, s_1, s_2, ..., s_n\\}$\n",
    "- Operadores: $O={a_1,a_2,...,a_m}$\n",
    "- Función de transición: $f(s,a)→s′$ (el estado $s′$ resulta de aplicar la acción $a$ en $s$ ).\n",
    "- Estado meta: $S_{goal}⊂S $\n",
    "\n",
    "| <span style=\"color: yellow;\">Ejemplo de secuencia de estados</span> | <span style=\"color: yellow;\">Gráfico de estados 8-Puzzle</span> |\n",
    "|:----:|:----:|\n",
    "| <img src=\"..\\Unidad 2\\assets\\secuencia-espacio-estados.png\" /> | <img src=\"..\\Unidad 2\\assets\\estados-8puzzle.png\" /> | "
   ]
  },
  {
   "cell_type": "markdown",
   "id": "ecb42bc8",
   "metadata": {},
   "source": [
    "---- \n",
    "\n",
    "# <span style=\"color: cyan;\">Algoritmos de búsqueda no informada </span>\n",
    "\n",
    "La búsqueda no informada o ciega, explora el espacio de estados sin usar información adicional sobre la solución. Solo conoce el estado inicial, el estado meta y las posibles transiciones. \n",
    "\n",
    "## <span style=\"color: cyan;\"> Búsqueda de Anchura - BFS (Breadth-First Search) </span>\n",
    "\n",
    "- Explora el espacio de estados por niveles, avanzando en todas las direcciones antes de descender a niveles más profundos. \n",
    "- Utiliza FIFO (First in, First Out) para gestionar los nodos pendientes."
   ]
  },
  {
   "cell_type": "code",
   "execution_count": null,
   "id": "cf1926b3",
   "metadata": {},
   "outputs": [],
   "source": []
  },
  {
   "cell_type": "markdown",
   "id": "b5295fae",
   "metadata": {},
   "source": [
    "## <span style=\"color: cyan;\"> Búsqueda en Profundidad - DFS (Depth-First Search) </span>\n",
    "\n",
    "- Explora un camino completamente hasta llegar a un callejón sin salida, y luego retrocede para explorar otro camino. \n",
    "- Utiliza LIFO (Last in, First out) para gestionar los nodos pendientes. "
   ]
  },
  {
   "cell_type": "code",
   "execution_count": null,
   "id": "d77a1938",
   "metadata": {},
   "outputs": [],
   "source": []
  },
  {
   "cell_type": "markdown",
   "id": "adb60910",
   "metadata": {},
   "source": [
    "## <span style=\"color: cyan;\">Comparación entre BFS y DFS</span>\n",
    "\n",
    "| Criterio | BFS (Anchura) | DFS (Profundidad) |\n",
    "|:----:|:----:|:----:|\n",
    "| Estructura de datos | Cola (FIFO) | Pila (LIFO)|"
   ]
  },
  {
   "cell_type": "markdown",
   "id": "c18c5f3c",
   "metadata": {},
   "source": [
    "# <span style=\"color: cyan;\">Algorimtos de Búsqueda Informada</span>\n",
    "\n",
    "<span style=\"color: blue;\">**¿Qué es una heurística?**</span>\n",
    "\n",
    "Es una **estrategia o técnica** que guía la búsqueda de soluciones, permitiendo abordar problemas complejos al proporcionar estimaciones informadas, sin evaluar exhaustivamente todas las posibilidades. "
   ]
  },
  {
   "cell_type": "markdown",
   "id": "1e63bcea",
   "metadata": {},
   "source": [
    "## <span style=\"color: cyan;\">Método Greedy (Voraz)</span>"
   ]
  },
  {
   "cell_type": "code",
   "execution_count": null,
   "id": "651f0763",
   "metadata": {},
   "outputs": [],
   "source": []
  },
  {
   "cell_type": "markdown",
   "id": "aa544aa1",
   "metadata": {},
   "source": [
    "## <span style=\"color: cyan;\">Búsqueda A*</span>"
   ]
  },
  {
   "cell_type": "code",
   "execution_count": null,
   "id": "4a439c79",
   "metadata": {},
   "outputs": [],
   "source": []
  },
  {
   "cell_type": "markdown",
   "id": "ac73065b",
   "metadata": {},
   "source": [
    "## <span style=\"color: cyan;\">Comparación entre Greedy y A*</span>\n"
   ]
  }
 ],
 "metadata": {
  "language_info": {
   "name": "python"
  }
 },
 "nbformat": 4,
 "nbformat_minor": 5
}
